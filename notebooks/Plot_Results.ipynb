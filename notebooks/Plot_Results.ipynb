{
 "cells": [
  {
   "cell_type": "code",
   "execution_count": 1,
   "metadata": {},
   "outputs": [
    {
     "name": "stdout",
     "output_type": "stream",
     "text": [
      "The directory '../VGG_38_BN_RC_1e2' exists.\n",
      "/home/natmaw/Documents/ML_Practical/mlpractical_natmaws/notebooks\n"
     ]
    }
   ],
   "source": [
    "import os\n",
    "import sys\n",
    "import matplotlib\n",
    "import matplotlib.pyplot as plt\n",
    "import numpy as np\n",
    "%matplotlib inline\n",
    "plt.style.use('ggplot')\n",
    "experiment_dir = '../VGG_38_BN_RC_1e2' #Replace this with your path to the mlpractical directory\n",
    "if os.path.exists(experiment_dir):\n",
    "    print(f\"The directory '{experiment_dir}' exists.\")\n",
    "else:\n",
    "    print(f\"The directory '{experiment_dir}' does NOT exist. Check your path.\")\n",
    "print(os.getcwd())"
   ]
  },
  {
   "cell_type": "code",
   "execution_count": 3,
   "metadata": {},
   "outputs": [],
   "source": [
    "def collect_experiment_dicts(target_dir, test_flag=False):\n",
    "    experiment_dicts = dict()\n",
    "    for subdir, dir, files in os.walk(target_dir):\n",
    "        for file in files:\n",
    "            filepath = None\n",
    "            if not test_flag:\n",
    "                if file == 'summary.csv':\n",
    "                    filepath = os.path.join(subdir, file)\n",
    "            \n",
    "            elif test_flag:\n",
    "                if file == 'test_summary.csv':\n",
    "                    filepath = os.path.join(subdir, file)\n",
    "            \n",
    "            if filepath is not None:\n",
    "                \n",
    "                with open(filepath, 'r') as read_file:\n",
    "                    lines = read_file.readlines()\n",
    "                    \n",
    "                current_experiment_dict = {key: [] for key in lines[0].replace('\\n', '').split(',')}\n",
    "                idx_to_key = {idx: key for idx, key in enumerate(lines[0].replace('\\n', '').split(','))}\n",
    "                \n",
    "                for line in lines[1:]:\n",
    "                    for idx, value in enumerate(line.replace('\\n', '').split(',')):\n",
    "                        current_experiment_dict[idx_to_key[idx]].append(float(value))\n",
    "                \n",
    "                experiment_dicts[subdir.split('/')[-2]] = current_experiment_dict\n",
    "                \n",
    "    return experiment_dicts\n",
    "                \n",
    "            "
   ]
  },
  {
   "cell_type": "code",
   "execution_count": 4,
   "metadata": {},
   "outputs": [
    {
     "name": "stdout",
     "output_type": "stream",
     "text": [
      "VGG_38_BN_RC_1e2 ['train_acc', 'train_loss', 'val_acc', 'val_loss']\n"
     ]
    }
   ],
   "source": [
    "result_dict = collect_experiment_dicts(target_dir=experiment_dir)\n",
    "for key, value in result_dict.items():\n",
    "    print(key, list(value.keys()))"
   ]
  },
  {
   "cell_type": "code",
   "execution_count": 5,
   "metadata": {},
   "outputs": [],
   "source": [
    "import matplotlib.pyplot as plt\n",
    "%matplotlib inline\n",
    "plt.style.use('ggplot')\n",
    "\n",
    "def plot_result_graphs(plot_name, stats, keys_to_plot, notebook=True):\n",
    "    \n",
    "    fig_1 = plt.figure(figsize=(8, 4))\n",
    "    ax_1 = fig_1.add_subplot(111)\n",
    "    for name in keys_to_plot:\n",
    "        for k in ['train_loss', 'val_loss']:\n",
    "            item = stats[name][k]\n",
    "            ax_1.plot(np.arange(0, len(item)), \n",
    "                      item, label='{}_{}'.format(name, k))\n",
    "            \n",
    "    ax_1.legend(loc=0)\n",
    "    ax_1.set_ylabel('Loss')\n",
    "    ax_1.set_xlabel('Epoch number')\n",
    "\n",
    "    # Plot the change in the validation and training set accuracy over training.\n",
    "    fig_2 = plt.figure(figsize=(8, 4))\n",
    "    ax_2 = fig_2.add_subplot(111)\n",
    "    for name in keys_to_plot:\n",
    "        for k in ['train_acc', 'val_acc']:\n",
    "            item = stats[name][k]\n",
    "            ax_2.plot(np.arange(0, len(item)), \n",
    "                      item, label='{}_{}'.format(name, k))\n",
    "            \n",
    "    ax_2.legend(loc=0)\n",
    "    ax_2.set_ylabel('Accuracy')\n",
    "    ax_2.set_xlabel('Epoch number')\n",
    "    \n",
    "    fig_1.savefig('../data/VGG_38_BN_RC_1e2_loss_performance.pdf'.format(plot_name), dpi=None, facecolor='w', edgecolor='w',\n",
    "        orientation='portrait', papertype=None, format='pdf',\n",
    "        transparent=False, bbox_inches=None, pad_inches=0.1,\n",
    "        frameon=None, metadata=None)\n",
    "    \n",
    "    fig_2.savefig('../data/VGG_38_BN_RC_1e2_accuracy_performance.pdf'.format(plot_name), dpi=None, facecolor='w', edgecolor='w',\n",
    "        orientation='portrait', papertype=None, format='pdf',\n",
    "        transparent=False, bbox_inches=None, pad_inches=0.1,\n",
    "        frameon=None, metadata=None)\n",
    "    \n"
   ]
  },
  {
   "cell_type": "code",
   "execution_count": 6,
   "metadata": {},
   "outputs": [],
   "source": [
    "def plot_result_graphs(plot_name, stats, keys_to_plot, notebook=True):\n",
    "    fig_1 = plt.figure(figsize=(8, 4))\n",
    "    ax_1 = fig_1.add_subplot(111)\n",
    "    for name in keys_to_plot:\n",
    "        for k in ['train_loss', 'val_loss']:\n",
    "            item = stats[name][k]\n",
    "            ax_1.plot(np.arange(0, len(item)), \n",
    "                      item, label='{}_{}'.format(name, k))\n",
    "            \n",
    "    ax_1.legend(loc=0)\n",
    "    ax_1.set_ylabel('Loss')\n",
    "    ax_1.set_xlabel('Epoch number')\n",
    "\n",
    "    fig_2 = plt.figure(figsize=(8, 4))\n",
    "    ax_2 = fig_2.add_subplot(111)\n",
    "    for name in keys_to_plot:\n",
    "        for k in ['train_acc', 'val_acc']:\n",
    "            item = stats[name][k]\n",
    "            ax_2.plot(np.arange(0, len(item)), \n",
    "                      item, label='{}_{}'.format(name, k))\n",
    "            \n",
    "    ax_2.legend(loc=0)\n",
    "    ax_2.set_ylabel('Accuracy')\n",
    "    ax_2.set_xlabel('Epoch number')\n",
    "\n",
    "    # Save figures without 'papertype'\n",
    "    fig_1.savefig('../data/{}_loss_performance.pdf'.format(plot_name), dpi=None, facecolor='w', edgecolor='w',\n",
    "                  transparent=False, bbox_inches=None, pad_inches=0.1)\n",
    "    \n",
    "    fig_2.savefig('../data/{}_accuracy_performance.pdf'.format(plot_name), dpi=None, facecolor='w', edgecolor='w',\n",
    "                  transparent=False, bbox_inches=None, pad_inches=0.1)"
   ]
  },
  {
   "cell_type": "code",
   "execution_count": 7,
   "metadata": {
    "scrolled": true
   },
   "outputs": [],
   "source": [
    "plt = plot_result_graphs('problem_model', result_dict, keys_to_plot=['VGG_38_BN_RC_1e2'])#, 'VGG_08'])"
   ]
  },
  {
   "cell_type": "code",
   "execution_count": null,
   "metadata": {},
   "outputs": [],
   "source": [
    "\n",
    "model_dir = '../VGG_38_experiment/saved_models'\n",
    "\n",
    "new_object = ExperimentBuilder(model_dir)"
   ]
  },
  {
   "cell_type": "code",
   "execution_count": null,
   "metadata": {},
   "outputs": [],
   "source": []
  },
  {
   "cell_type": "code",
   "execution_count": null,
   "metadata": {},
   "outputs": [],
   "source": []
  }
 ],
 "metadata": {
  "kernelspec": {
   "display_name": "mlp",
   "language": "python",
   "name": "python3"
  },
  "language_info": {
   "codemirror_mode": {
    "name": "ipython",
    "version": 3
   },
   "file_extension": ".py",
   "mimetype": "text/x-python",
   "name": "python",
   "nbconvert_exporter": "python",
   "pygments_lexer": "ipython3",
   "version": "3.12.5"
  }
 },
 "nbformat": 4,
 "nbformat_minor": 2
}
