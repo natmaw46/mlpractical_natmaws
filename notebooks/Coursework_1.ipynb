{
 "cells": [
  {
   "cell_type": "markdown",
   "metadata": {},
   "source": [
    "# Coursework 1\n",
    "\n",
    "This notebook is intended to be used as a starting point for your experiments. The instructions can be found in the MLP2024_25_CW1_Spec.pdf (see Learn,  Assignment Submission, Coursework 1). The methods provided here are just helper functions. If you want more complex graphs such as side by side comparisons of different experiments you should learn more about matplotlib and implement them. Before each experiment remember to re-initialize neural network weights and reset the data providers so you get a properly initialized experiment. For each experiment try to keep most hyperparameters the same except the one under investigation so you can understand what the effects of each are."
   ]
  },
  {
   "cell_type": "code",
   "execution_count": 1,
   "metadata": {},
   "outputs": [],
   "source": [
    "import matplotlib.pyplot as plt\n",
    "%matplotlib inline\n",
    "plt.style.use('ggplot')\n",
    "\n",
    "def train_model_and_plot_stats(\n",
    "        model, error, learning_rule, train_data, valid_data, num_epochs, stats_interval, notebook=True):\n",
    "    \n",
    "    # As well as monitoring the error over training also monitor classification\n",
    "    # accuracy i.e. proportion of most-probable predicted classes being equal to targets\n",
    "    data_monitors={'acc': lambda y, t: (y.argmax(-1) == t.argmax(-1)).mean()}\n",
    "\n",
    "    # Use the created objects to initialise a new Optimiser instance.\n",
    "    optimiser = Optimiser(\n",
    "        model, error, learning_rule, train_data, valid_data, data_monitors, notebook=notebook)\n",
    "\n",
    "    # Run the optimiser for num_epochs epochs (full passes through the training set)\n",
    "    # printing statistics every epoch.\n",
    "    stats, keys, run_time = optimiser.train(num_epochs=num_epochs, stats_interval=stats_interval)\n",
    "\n",
    "    # Plot the change in the validation and training set error over training.\n",
    "    fig_1 = plt.figure(figsize=(8, 4))\n",
    "    ax_1 = fig_1.add_subplot(111)\n",
    "    for k in ['error(train)', 'error(valid)']:\n",
    "        ax_1.plot(np.arange(1, stats.shape[0]) * stats_interval, \n",
    "                  stats[1:, keys[k]], label=k)\n",
    "    ax_1.legend(loc=0)\n",
    "    ax_1.set_xlabel('Epoch number')\n",
    "    ax_1.set_ylabel('Error')\n",
    "\n",
    "    # Plot the change in the validation and training set accuracy over training.\n",
    "    fig_2 = plt.figure(figsize=(8, 4))\n",
    "    ax_2 = fig_2.add_subplot(111)\n",
    "    for k in ['acc(train)', 'acc(valid)']:\n",
    "        ax_2.plot(np.arange(1, stats.shape[0]) * stats_interval, \n",
    "                  stats[1:, keys[k]], label=k)\n",
    "    ax_2.legend(loc=0)\n",
    "    ax_2.set_xlabel('Epoch number')\n",
    "    ax_2.set_xlabel('Accuracy')\n",
    "    \n",
    "    return stats, keys, run_time, fig_1, ax_1, fig_2, ax_2"
   ]
  },
  {
   "cell_type": "code",
   "execution_count": 2,
   "metadata": {},
   "outputs": [
    {
     "name": "stdout",
     "output_type": "stream",
     "text": [
      "KeysView(NpzFile '/home/natmaw/Documents/ML_Practical/mlpractical_natmaws/data/emnist-train.npz' with keys: inputs, targets)\n",
      "KeysView(NpzFile '/home/natmaw/Documents/ML_Practical/mlpractical_natmaws/data/emnist-valid.npz' with keys: inputs, targets)\n"
     ]
    }
   ],
   "source": [
    "# The below code will set up the data providers, random number\n",
    "# generator and logger objects needed for training runs. As\n",
    "# loading the data from file take a little while you generally\n",
    "# will probably not want to reload the data providers on\n",
    "# every training run. If you wish to reset their state you\n",
    "# should instead use the .reset() method of the data providers.\n",
    "import numpy as np\n",
    "import logging\n",
    "import sys\n",
    "sys.path.append('..')\n",
    "from mlp.data_providers import MNISTDataProvider, EMNISTDataProvider\n",
    "\n",
    "# Seed a random number generator\n",
    "seed = 11102019 \n",
    "rng = np.random.RandomState(seed)\n",
    "batch_size = 100\n",
    "# Set up a logger object to print info about the training run to stdout\n",
    "logger = logging.getLogger()\n",
    "logger.setLevel(logging.INFO)\n",
    "logger.handlers = [logging.StreamHandler()]\n",
    "\n",
    "# Create data provider objects for the MNIST data set\n",
    "train_data = EMNISTDataProvider('train', batch_size=batch_size, rng=rng)\n",
    "valid_data = EMNISTDataProvider('valid', batch_size=batch_size, rng=rng)"
   ]
  },
  {
   "cell_type": "code",
   "execution_count": 3,
   "metadata": {},
   "outputs": [
    {
     "name": "stdout",
     "output_type": "stream",
     "text": [
      "Requirement already satisfied: tqdm in /home/natmaw/miniconda3/envs/mlp/lib/python3.12/site-packages (4.66.5)\n",
      "Note: you may need to restart the kernel to use updated packages.\n"
     ]
    },
    {
     "data": {
      "application/vnd.jupyter.widget-view+json": {
       "model_id": "23fd0c884d5a46d786ed501881deb651",
       "version_major": 2,
       "version_minor": 0
      },
      "text/plain": [
       "  0%|          | 0/100 [00:00<?, ?it/s]"
      ]
     },
     "metadata": {},
     "output_type": "display_data"
    },
    {
     "data": {
      "application/vnd.jupyter.widget-view+json": {
       "model_id": "bf1fd0dbaec94fb797771e9872918e73",
       "version_major": 2,
       "version_minor": 0
      },
      "text/plain": [
       "  0%|          | 0/1000 [00:00<?, ?it/s]"
      ]
     },
     "metadata": {},
     "output_type": "display_data"
    },
    {
     "ename": "KeyboardInterrupt",
     "evalue": "",
     "output_type": "error",
     "traceback": [
      "\u001b[0;31m---------------------------------------------------------------------------\u001b[0m",
      "\u001b[0;31mKeyboardInterrupt\u001b[0m                         Traceback (most recent call last)",
      "Cell \u001b[0;32mIn[3], line 35\u001b[0m\n\u001b[1;32m     32\u001b[0m learning_rule \u001b[38;5;241m=\u001b[39m AdamLearningRule(learning_rate\u001b[38;5;241m=\u001b[39mlearning_rate)\n\u001b[1;32m     34\u001b[0m \u001b[38;5;66;03m# Remember to use notebook=False when you write a script to be run in a terminal\u001b[39;00m\n\u001b[0;32m---> 35\u001b[0m _ \u001b[38;5;241m=\u001b[39m train_model_and_plot_stats(\n\u001b[1;32m     36\u001b[0m     model, error, learning_rule, train_data, valid_data, num_epochs, stats_interval, notebook\u001b[38;5;241m=\u001b[39m\u001b[38;5;28;01mTrue\u001b[39;00m)\n",
      "Cell \u001b[0;32mIn[1], line 18\u001b[0m, in \u001b[0;36mtrain_model_and_plot_stats\u001b[0;34m(model, error, learning_rule, train_data, valid_data, num_epochs, stats_interval, notebook)\u001b[0m\n\u001b[1;32m     13\u001b[0m optimiser \u001b[38;5;241m=\u001b[39m Optimiser(\n\u001b[1;32m     14\u001b[0m     model, error, learning_rule, train_data, valid_data, data_monitors, notebook\u001b[38;5;241m=\u001b[39mnotebook)\n\u001b[1;32m     16\u001b[0m \u001b[38;5;66;03m# Run the optimiser for num_epochs epochs (full passes through the training set)\u001b[39;00m\n\u001b[1;32m     17\u001b[0m \u001b[38;5;66;03m# printing statistics every epoch.\u001b[39;00m\n\u001b[0;32m---> 18\u001b[0m stats, keys, run_time \u001b[38;5;241m=\u001b[39m optimiser\u001b[38;5;241m.\u001b[39mtrain(num_epochs\u001b[38;5;241m=\u001b[39mnum_epochs, stats_interval\u001b[38;5;241m=\u001b[39mstats_interval)\n\u001b[1;32m     20\u001b[0m \u001b[38;5;66;03m# Plot the change in the validation and training set error over training.\u001b[39;00m\n\u001b[1;32m     21\u001b[0m fig_1 \u001b[38;5;241m=\u001b[39m plt\u001b[38;5;241m.\u001b[39mfigure(figsize\u001b[38;5;241m=\u001b[39m(\u001b[38;5;241m8\u001b[39m, \u001b[38;5;241m4\u001b[39m))\n",
      "File \u001b[0;32m~/Documents/ML_Practical/mlpractical_natmaws/mlp/optimisers.py:138\u001b[0m, in \u001b[0;36mOptimiser.train\u001b[0;34m(self, num_epochs, stats_interval)\u001b[0m\n\u001b[1;32m    136\u001b[0m \u001b[38;5;28;01mfor\u001b[39;00m epoch \u001b[38;5;129;01min\u001b[39;00m \u001b[38;5;28mrange\u001b[39m(\u001b[38;5;241m1\u001b[39m, num_epochs \u001b[38;5;241m+\u001b[39m \u001b[38;5;241m1\u001b[39m):\n\u001b[1;32m    137\u001b[0m     start_time \u001b[38;5;241m=\u001b[39m time\u001b[38;5;241m.\u001b[39mtime()\n\u001b[0;32m--> 138\u001b[0m     \u001b[38;5;28mself\u001b[39m\u001b[38;5;241m.\u001b[39mdo_training_epoch()\n\u001b[1;32m    139\u001b[0m     epoch_time \u001b[38;5;241m=\u001b[39m time\u001b[38;5;241m.\u001b[39mtime()\u001b[38;5;241m-\u001b[39m start_time\n\u001b[1;32m    140\u001b[0m     \u001b[38;5;28;01mif\u001b[39;00m epoch \u001b[38;5;241m%\u001b[39m stats_interval \u001b[38;5;241m==\u001b[39m \u001b[38;5;241m0\u001b[39m:\n",
      "File \u001b[0;32m~/Documents/ML_Practical/mlpractical_natmaws/mlp/optimisers.py:65\u001b[0m, in \u001b[0;36mOptimiser.do_training_epoch\u001b[0;34m(self)\u001b[0m\n\u001b[1;32m     63\u001b[0m activations \u001b[38;5;241m=\u001b[39m \u001b[38;5;28mself\u001b[39m\u001b[38;5;241m.\u001b[39mmodel\u001b[38;5;241m.\u001b[39mfprop(inputs_batch)\n\u001b[1;32m     64\u001b[0m grads_wrt_outputs \u001b[38;5;241m=\u001b[39m \u001b[38;5;28mself\u001b[39m\u001b[38;5;241m.\u001b[39merror\u001b[38;5;241m.\u001b[39mgrad(activations[\u001b[38;5;241m-\u001b[39m\u001b[38;5;241m1\u001b[39m], targets_batch)\n\u001b[0;32m---> 65\u001b[0m grads_wrt_params \u001b[38;5;241m=\u001b[39m \u001b[38;5;28mself\u001b[39m\u001b[38;5;241m.\u001b[39mmodel\u001b[38;5;241m.\u001b[39mgrads_wrt_params(\n\u001b[1;32m     66\u001b[0m     activations, grads_wrt_outputs)\n\u001b[1;32m     67\u001b[0m \u001b[38;5;28mself\u001b[39m\u001b[38;5;241m.\u001b[39mlearning_rule\u001b[38;5;241m.\u001b[39mupdate_params(grads_wrt_params)\n\u001b[1;32m     68\u001b[0m train_progress_bar\u001b[38;5;241m.\u001b[39mupdate(\u001b[38;5;241m1\u001b[39m)\n",
      "File \u001b[0;32m~/Documents/ML_Practical/mlpractical_natmaws/mlp/models.py:135\u001b[0m, in \u001b[0;36mMultipleLayerModel.grads_wrt_params\u001b[0;34m(self, activations, grads_wrt_outputs)\u001b[0m\n\u001b[1;32m    133\u001b[0m     grads_wrt_inputs \u001b[38;5;241m=\u001b[39m layer\u001b[38;5;241m.\u001b[39mbprop(inputs, outputs, grads_wrt_outputs)\n\u001b[1;32m    134\u001b[0m     \u001b[38;5;28;01mif\u001b[39;00m \u001b[38;5;28misinstance\u001b[39m(layer, LayerWithParameters) \u001b[38;5;129;01mor\u001b[39;00m \u001b[38;5;28misinstance\u001b[39m(layer, StochasticLayerWithParameters):\n\u001b[0;32m--> 135\u001b[0m         grads_wrt_params \u001b[38;5;241m+\u001b[39m\u001b[38;5;241m=\u001b[39m layer\u001b[38;5;241m.\u001b[39mgrads_wrt_params(\n\u001b[1;32m    136\u001b[0m             inputs, grads_wrt_outputs)[::\u001b[38;5;241m-\u001b[39m\u001b[38;5;241m1\u001b[39m]\n\u001b[1;32m    137\u001b[0m     grads_wrt_outputs \u001b[38;5;241m=\u001b[39m grads_wrt_inputs\n\u001b[1;32m    138\u001b[0m \u001b[38;5;28;01mreturn\u001b[39;00m grads_wrt_params[::\u001b[38;5;241m-\u001b[39m\u001b[38;5;241m1\u001b[39m]\n",
      "File \u001b[0;32m~/Documents/ML_Practical/mlpractical_natmaws/mlp/layers.py:295\u001b[0m, in \u001b[0;36mAffineLayer.grads_wrt_params\u001b[0;34m(self, inputs, grads_wrt_outputs)\u001b[0m\n\u001b[1;32m    282\u001b[0m \u001b[38;5;28;01mdef\u001b[39;00m \u001b[38;5;21mgrads_wrt_params\u001b[39m(\u001b[38;5;28mself\u001b[39m, inputs, grads_wrt_outputs):\n\u001b[1;32m    283\u001b[0m \u001b[38;5;250m    \u001b[39m\u001b[38;5;124;03m\"\"\"Calculates gradients with respect to layer parameters.\u001b[39;00m\n\u001b[1;32m    284\u001b[0m \n\u001b[1;32m    285\u001b[0m \u001b[38;5;124;03m    Args:\u001b[39;00m\n\u001b[0;32m   (...)\u001b[0m\n\u001b[1;32m    292\u001b[0m \u001b[38;5;124;03m        `[grads_wrt_weights, grads_wrt_biases]`.\u001b[39;00m\n\u001b[1;32m    293\u001b[0m \u001b[38;5;124;03m    \"\"\"\u001b[39;00m\n\u001b[0;32m--> 295\u001b[0m     grads_wrt_weights \u001b[38;5;241m=\u001b[39m np\u001b[38;5;241m.\u001b[39mdot(grads_wrt_outputs\u001b[38;5;241m.\u001b[39mT, inputs)\n\u001b[1;32m    296\u001b[0m     grads_wrt_biases \u001b[38;5;241m=\u001b[39m np\u001b[38;5;241m.\u001b[39msum(grads_wrt_outputs, axis\u001b[38;5;241m=\u001b[39m\u001b[38;5;241m0\u001b[39m)\n\u001b[1;32m    298\u001b[0m     \u001b[38;5;28;01mif\u001b[39;00m \u001b[38;5;28mself\u001b[39m\u001b[38;5;241m.\u001b[39mweights_penalty \u001b[38;5;129;01mis\u001b[39;00m \u001b[38;5;129;01mnot\u001b[39;00m \u001b[38;5;28;01mNone\u001b[39;00m:\n",
      "\u001b[0;31mKeyboardInterrupt\u001b[0m: "
     ]
    }
   ],
   "source": [
    "# The model set up code below is provided as a starting point.\n",
    "# You will probably want to add further code cells for the\n",
    "# different experiments you run.\n",
    "\n",
    "%pip install tqdm\n",
    "\n",
    "from mlp.layers import AffineLayer, SoftmaxLayer, SigmoidLayer, ReluLayer\n",
    "from mlp.errors import CrossEntropySoftmaxError\n",
    "from mlp.models import MultipleLayerModel\n",
    "from mlp.initialisers import ConstantInit, GlorotUniformInit\n",
    "from mlp.learning_rules import AdamLearningRule\n",
    "from mlp.optimisers import Optimiser\n",
    "\n",
    "# Setup hyperparameters\n",
    "learning_rate = 0.001\n",
    "num_epochs = 100\n",
    "stats_interval = 1\n",
    "input_dim, output_dim, hidden_dim = 784, 47, 128\n",
    "\n",
    "weights_init = GlorotUniformInit(rng=rng)\n",
    "biases_init = ConstantInit(0.)\n",
    "\n",
    "# Create model with ONE hidden layer\n",
    "model = MultipleLayerModel([\n",
    "    AffineLayer(input_dim, hidden_dim, weights_init, biases_init), # hidden layer\n",
    "    ReluLayer(),\n",
    "    AffineLayer(hidden_dim, output_dim, weights_init, biases_init) # output layer\n",
    "])\n",
    "\n",
    "error = CrossEntropySoftmaxError()\n",
    "# Use a Adam learning rule\n",
    "learning_rule = AdamLearningRule(learning_rate=learning_rate)\n",
    "\n",
    "# Remember to use notebook=False when you write a script to be run in a terminal\n",
    "_ = train_model_and_plot_stats(\n",
    "    model, error, learning_rule, train_data, valid_data, num_epochs, stats_interval, notebook=True)"
   ]
  },
  {
   "cell_type": "code",
   "execution_count": 11,
   "metadata": {},
   "outputs": [
    {
     "data": {
      "application/vnd.jupyter.widget-view+json": {
       "model_id": "1ab6ef67108a43689c661d078f8ec206",
       "version_major": 2,
       "version_minor": 0
      },
      "text/plain": [
       "  0%|          | 0/100 [00:00<?, ?it/s]"
      ]
     },
     "metadata": {},
     "output_type": "display_data"
    },
    {
     "data": {
      "application/vnd.jupyter.widget-view+json": {
       "model_id": "895ff5132ecc48c7946e1618acffda34",
       "version_major": 2,
       "version_minor": 0
      },
      "text/plain": [
       "  0%|          | 0/1000 [00:00<?, ?it/s]"
      ]
     },
     "metadata": {},
     "output_type": "display_data"
    },
    {
     "ename": "KeyboardInterrupt",
     "evalue": "",
     "output_type": "error",
     "traceback": [
      "\u001b[0;31m---------------------------------------------------------------------------\u001b[0m",
      "\u001b[0;31mKeyboardInterrupt\u001b[0m                         Traceback (most recent call last)",
      "Cell \u001b[0;32mIn[11], line 15\u001b[0m\n\u001b[1;32m     12\u001b[0m learning_rule \u001b[38;5;241m=\u001b[39m AdamLearningRule(learning_rate\u001b[38;5;241m=\u001b[39mlearning_rate)\n\u001b[1;32m     14\u001b[0m \u001b[38;5;66;03m# Remember to use notebook=False when you write a script to be run in a terminal\u001b[39;00m\n\u001b[0;32m---> 15\u001b[0m _ \u001b[38;5;241m=\u001b[39m train_model_and_plot_stats(\n\u001b[1;32m     16\u001b[0m     model, error, learning_rule, train_data, valid_data, num_epochs, stats_interval, notebook\u001b[38;5;241m=\u001b[39m\u001b[38;5;28;01mTrue\u001b[39;00m)\n",
      "Cell \u001b[0;32mIn[8], line 18\u001b[0m, in \u001b[0;36mtrain_model_and_plot_stats\u001b[0;34m(model, error, learning_rule, train_data, valid_data, num_epochs, stats_interval, notebook)\u001b[0m\n\u001b[1;32m     13\u001b[0m optimiser \u001b[38;5;241m=\u001b[39m Optimiser(\n\u001b[1;32m     14\u001b[0m     model, error, learning_rule, train_data, valid_data, data_monitors, notebook\u001b[38;5;241m=\u001b[39mnotebook)\n\u001b[1;32m     16\u001b[0m \u001b[38;5;66;03m# Run the optimiser for num_epochs epochs (full passes through the training set)\u001b[39;00m\n\u001b[1;32m     17\u001b[0m \u001b[38;5;66;03m# printing statistics every epoch.\u001b[39;00m\n\u001b[0;32m---> 18\u001b[0m stats, keys, run_time \u001b[38;5;241m=\u001b[39m optimiser\u001b[38;5;241m.\u001b[39mtrain(num_epochs\u001b[38;5;241m=\u001b[39mnum_epochs, stats_interval\u001b[38;5;241m=\u001b[39mstats_interval)\n\u001b[1;32m     20\u001b[0m \u001b[38;5;66;03m# Plot the change in the validation and training set error over training.\u001b[39;00m\n\u001b[1;32m     21\u001b[0m fig_1 \u001b[38;5;241m=\u001b[39m plt\u001b[38;5;241m.\u001b[39mfigure(figsize\u001b[38;5;241m=\u001b[39m(\u001b[38;5;241m8\u001b[39m, \u001b[38;5;241m4\u001b[39m))\n",
      "File \u001b[0;32m~/Documents/ML_Practical/mlpractical_natmaws/mlp/optimisers.py:138\u001b[0m, in \u001b[0;36mOptimiser.train\u001b[0;34m(self, num_epochs, stats_interval)\u001b[0m\n\u001b[1;32m    136\u001b[0m \u001b[38;5;28;01mfor\u001b[39;00m epoch \u001b[38;5;129;01min\u001b[39;00m \u001b[38;5;28mrange\u001b[39m(\u001b[38;5;241m1\u001b[39m, num_epochs \u001b[38;5;241m+\u001b[39m \u001b[38;5;241m1\u001b[39m):\n\u001b[1;32m    137\u001b[0m     start_time \u001b[38;5;241m=\u001b[39m time\u001b[38;5;241m.\u001b[39mtime()\n\u001b[0;32m--> 138\u001b[0m     \u001b[38;5;28mself\u001b[39m\u001b[38;5;241m.\u001b[39mdo_training_epoch()\n\u001b[1;32m    139\u001b[0m     epoch_time \u001b[38;5;241m=\u001b[39m time\u001b[38;5;241m.\u001b[39mtime()\u001b[38;5;241m-\u001b[39m start_time\n\u001b[1;32m    140\u001b[0m     \u001b[38;5;28;01mif\u001b[39;00m epoch \u001b[38;5;241m%\u001b[39m stats_interval \u001b[38;5;241m==\u001b[39m \u001b[38;5;241m0\u001b[39m:\n",
      "File \u001b[0;32m~/Documents/ML_Practical/mlpractical_natmaws/mlp/optimisers.py:65\u001b[0m, in \u001b[0;36mOptimiser.do_training_epoch\u001b[0;34m(self)\u001b[0m\n\u001b[1;32m     63\u001b[0m activations \u001b[38;5;241m=\u001b[39m \u001b[38;5;28mself\u001b[39m\u001b[38;5;241m.\u001b[39mmodel\u001b[38;5;241m.\u001b[39mfprop(inputs_batch)\n\u001b[1;32m     64\u001b[0m grads_wrt_outputs \u001b[38;5;241m=\u001b[39m \u001b[38;5;28mself\u001b[39m\u001b[38;5;241m.\u001b[39merror\u001b[38;5;241m.\u001b[39mgrad(activations[\u001b[38;5;241m-\u001b[39m\u001b[38;5;241m1\u001b[39m], targets_batch)\n\u001b[0;32m---> 65\u001b[0m grads_wrt_params \u001b[38;5;241m=\u001b[39m \u001b[38;5;28mself\u001b[39m\u001b[38;5;241m.\u001b[39mmodel\u001b[38;5;241m.\u001b[39mgrads_wrt_params(\n\u001b[1;32m     66\u001b[0m     activations, grads_wrt_outputs)\n\u001b[1;32m     67\u001b[0m \u001b[38;5;28mself\u001b[39m\u001b[38;5;241m.\u001b[39mlearning_rule\u001b[38;5;241m.\u001b[39mupdate_params(grads_wrt_params)\n\u001b[1;32m     68\u001b[0m train_progress_bar\u001b[38;5;241m.\u001b[39mupdate(\u001b[38;5;241m1\u001b[39m)\n",
      "File \u001b[0;32m~/Documents/ML_Practical/mlpractical_natmaws/mlp/models.py:133\u001b[0m, in \u001b[0;36mMultipleLayerModel.grads_wrt_params\u001b[0;34m(self, activations, grads_wrt_outputs)\u001b[0m\n\u001b[1;32m    131\u001b[0m inputs \u001b[38;5;241m=\u001b[39m activations[\u001b[38;5;241m-\u001b[39mi \u001b[38;5;241m-\u001b[39m \u001b[38;5;241m2\u001b[39m]\n\u001b[1;32m    132\u001b[0m outputs \u001b[38;5;241m=\u001b[39m activations[\u001b[38;5;241m-\u001b[39mi \u001b[38;5;241m-\u001b[39m \u001b[38;5;241m1\u001b[39m]\n\u001b[0;32m--> 133\u001b[0m grads_wrt_inputs \u001b[38;5;241m=\u001b[39m layer\u001b[38;5;241m.\u001b[39mbprop(inputs, outputs, grads_wrt_outputs)\n\u001b[1;32m    134\u001b[0m \u001b[38;5;28;01mif\u001b[39;00m \u001b[38;5;28misinstance\u001b[39m(layer, LayerWithParameters) \u001b[38;5;129;01mor\u001b[39;00m \u001b[38;5;28misinstance\u001b[39m(layer, StochasticLayerWithParameters):\n\u001b[1;32m    135\u001b[0m     grads_wrt_params \u001b[38;5;241m+\u001b[39m\u001b[38;5;241m=\u001b[39m layer\u001b[38;5;241m.\u001b[39mgrads_wrt_params(\n\u001b[1;32m    136\u001b[0m         inputs, grads_wrt_outputs)[::\u001b[38;5;241m-\u001b[39m\u001b[38;5;241m1\u001b[39m]\n",
      "File \u001b[0;32m~/Documents/ML_Practical/mlpractical_natmaws/mlp/layers.py:280\u001b[0m, in \u001b[0;36mAffineLayer.bprop\u001b[0;34m(self, inputs, outputs, grads_wrt_outputs)\u001b[0m\n\u001b[1;32m    263\u001b[0m \u001b[38;5;28;01mdef\u001b[39;00m \u001b[38;5;21mbprop\u001b[39m(\u001b[38;5;28mself\u001b[39m, inputs, outputs, grads_wrt_outputs):\n\u001b[1;32m    264\u001b[0m \u001b[38;5;250m    \u001b[39m\u001b[38;5;124;03m\"\"\"Back propagates gradients through a layer.\u001b[39;00m\n\u001b[1;32m    265\u001b[0m \n\u001b[1;32m    266\u001b[0m \u001b[38;5;124;03m    Given gradients with respect to the outputs of the layer calculates the\u001b[39;00m\n\u001b[0;32m   (...)\u001b[0m\n\u001b[1;32m    278\u001b[0m \u001b[38;5;124;03m        (batch_size, input_dim).\u001b[39;00m\n\u001b[1;32m    279\u001b[0m \u001b[38;5;124;03m    \"\"\"\u001b[39;00m\n\u001b[0;32m--> 280\u001b[0m     \u001b[38;5;28;01mreturn\u001b[39;00m grads_wrt_outputs\u001b[38;5;241m.\u001b[39mdot(\u001b[38;5;28mself\u001b[39m\u001b[38;5;241m.\u001b[39mweights)\n",
      "\u001b[0;31mKeyboardInterrupt\u001b[0m: "
     ]
    }
   ],
   "source": [
    "# Create model with TWO hidden layers\n",
    "model = MultipleLayerModel([\n",
    "    AffineLayer(input_dim, hidden_dim, weights_init, biases_init), # first hidden layer\n",
    "    ReluLayer(),\n",
    "    AffineLayer(hidden_dim, hidden_dim, weights_init, biases_init), # second hidden layer\n",
    "    ReluLayer(),\n",
    "    AffineLayer(hidden_dim, output_dim, weights_init, biases_init) # output layer\n",
    "])\n",
    "\n",
    "error = CrossEntropySoftmaxError()\n",
    "# Use a Adam learning rule\n",
    "learning_rule = AdamLearningRule(learning_rate=learning_rate)\n",
    "\n",
    "# Remember to use notebook=False when you write a script to be run in a terminal\n",
    "_ = train_model_and_plot_stats(\n",
    "    model, error, learning_rule, train_data, valid_data, num_epochs, stats_interval, notebook=True)"
   ]
  },
  {
   "cell_type": "code",
   "execution_count": 12,
   "metadata": {},
   "outputs": [
    {
     "name": "stdout",
     "output_type": "stream",
     "text": [
      "\n",
      "Training model with 32 hidden units.\n"
     ]
    },
    {
     "name": "stderr",
     "output_type": "stream",
     "text": [
      "Ep Prog: 100%|██████████| 1000/1000 [00:00<00:00, 1713.72it/s]\n",
      "Epoch 1: 0.6s to complete\n",
      "    error(train)=1.25e+00, acc(train)=6.53e-01, error(valid)=1.25e+00, acc(valid)=6.48e-01\n",
      "Ep Prog: 100%|██████████| 1000/1000 [00:00<00:00, 1717.44it/s]\n",
      "Epoch 2: 0.6s to complete\n",
      "    error(train)=1.10e+00, acc(train)=6.92e-01, error(valid)=1.11e+00, acc(valid)=6.87e-01\n",
      "Ep Prog: 100%|██████████| 1000/1000 [00:00<00:00, 1536.40it/s]\n",
      "Epoch 3: 0.7s to complete\n",
      "    error(train)=1.01e+00, acc(train)=7.16e-01, error(valid)=1.02e+00, acc(valid)=7.11e-01\n",
      "Ep Prog: 100%|██████████| 1000/1000 [00:00<00:00, 1521.19it/s]\n",
      "Epoch 4: 0.7s to complete\n",
      "    error(train)=9.52e-01, acc(train)=7.27e-01, error(valid)=9.73e-01, acc(valid)=7.21e-01\n",
      "Ep Prog: 100%|██████████| 1000/1000 [00:00<00:00, 1747.98it/s]\n",
      "Exp Prog:   4%|▍         | 4/100 [00:04<01:46,  1.10s/it]\n"
     ]
    },
    {
     "ename": "KeyboardInterrupt",
     "evalue": "",
     "output_type": "error",
     "traceback": [
      "\u001b[0;31m---------------------------------------------------------------------------\u001b[0m",
      "\u001b[0;31mKeyboardInterrupt\u001b[0m                         Traceback (most recent call last)",
      "Cell \u001b[0;32mIn[12], line 48\u001b[0m\n\u001b[1;32m     45\u001b[0m hidden_units_list \u001b[38;5;241m=\u001b[39m [\u001b[38;5;241m32\u001b[39m, \u001b[38;5;241m64\u001b[39m, \u001b[38;5;241m128\u001b[39m]\n\u001b[1;32m     47\u001b[0m \u001b[38;5;66;03m# Train and evaluate models with different hidden unit sizes\u001b[39;00m\n\u001b[0;32m---> 48\u001b[0m results \u001b[38;5;241m=\u001b[39m evaluate_varying_hidden_units(\n\u001b[1;32m     49\u001b[0m     hidden_units_list, input_dim, output_dim, learning_rate, num_epochs, stats_interval, train_data, valid_data\n\u001b[1;32m     50\u001b[0m )\n",
      "Cell \u001b[0;32mIn[12], line 24\u001b[0m, in \u001b[0;36mevaluate_varying_hidden_units\u001b[0;34m(hidden_units_list, input_dim, output_dim, learning_rate, num_epochs, stats_interval, train_data, valid_data)\u001b[0m\n\u001b[1;32m     21\u001b[0m learning_rule \u001b[38;5;241m=\u001b[39m AdamLearningRule(learning_rate\u001b[38;5;241m=\u001b[39mlearning_rate)\n\u001b[1;32m     23\u001b[0m \u001b[38;5;66;03m# Train the model and capture statistics\u001b[39;00m\n\u001b[0;32m---> 24\u001b[0m stats, keys, run_time, fig_1, ax_1, fig_2, ax_2 \u001b[38;5;241m=\u001b[39m train_model_and_plot_stats(\n\u001b[1;32m     25\u001b[0m     model, error, learning_rule, train_data, valid_data, num_epochs, stats_interval, notebook\u001b[38;5;241m=\u001b[39m\u001b[38;5;28;01mFalse\u001b[39;00m)\n\u001b[1;32m     27\u001b[0m \u001b[38;5;66;03m# Store the results for each number of hidden units\u001b[39;00m\n\u001b[1;32m     28\u001b[0m results[hidden_units] \u001b[38;5;241m=\u001b[39m {\n\u001b[1;32m     29\u001b[0m     \u001b[38;5;124m\"\u001b[39m\u001b[38;5;124mstats\u001b[39m\u001b[38;5;124m\"\u001b[39m: stats,\n\u001b[1;32m     30\u001b[0m     \u001b[38;5;124m\"\u001b[39m\u001b[38;5;124mkeys\u001b[39m\u001b[38;5;124m\"\u001b[39m: keys,\n\u001b[1;32m     31\u001b[0m     \u001b[38;5;124m\"\u001b[39m\u001b[38;5;124mfig_1\u001b[39m\u001b[38;5;124m\"\u001b[39m: fig_1,  \u001b[38;5;66;03m# Error plot (training vs validation)\u001b[39;00m\n\u001b[1;32m     32\u001b[0m     \u001b[38;5;124m\"\u001b[39m\u001b[38;5;124mfig_2\u001b[39m\u001b[38;5;124m\"\u001b[39m: fig_2,  \u001b[38;5;66;03m# Accuracy plot (training vs validation)\u001b[39;00m\n\u001b[1;32m     33\u001b[0m }\n",
      "Cell \u001b[0;32mIn[8], line 18\u001b[0m, in \u001b[0;36mtrain_model_and_plot_stats\u001b[0;34m(model, error, learning_rule, train_data, valid_data, num_epochs, stats_interval, notebook)\u001b[0m\n\u001b[1;32m     13\u001b[0m optimiser \u001b[38;5;241m=\u001b[39m Optimiser(\n\u001b[1;32m     14\u001b[0m     model, error, learning_rule, train_data, valid_data, data_monitors, notebook\u001b[38;5;241m=\u001b[39mnotebook)\n\u001b[1;32m     16\u001b[0m \u001b[38;5;66;03m# Run the optimiser for num_epochs epochs (full passes through the training set)\u001b[39;00m\n\u001b[1;32m     17\u001b[0m \u001b[38;5;66;03m# printing statistics every epoch.\u001b[39;00m\n\u001b[0;32m---> 18\u001b[0m stats, keys, run_time \u001b[38;5;241m=\u001b[39m optimiser\u001b[38;5;241m.\u001b[39mtrain(num_epochs\u001b[38;5;241m=\u001b[39mnum_epochs, stats_interval\u001b[38;5;241m=\u001b[39mstats_interval)\n\u001b[1;32m     20\u001b[0m \u001b[38;5;66;03m# Plot the change in the validation and training set error over training.\u001b[39;00m\n\u001b[1;32m     21\u001b[0m fig_1 \u001b[38;5;241m=\u001b[39m plt\u001b[38;5;241m.\u001b[39mfigure(figsize\u001b[38;5;241m=\u001b[39m(\u001b[38;5;241m8\u001b[39m, \u001b[38;5;241m4\u001b[39m))\n",
      "File \u001b[0;32m~/Documents/ML_Practical/mlpractical_natmaws/mlp/optimisers.py:141\u001b[0m, in \u001b[0;36mOptimiser.train\u001b[0;34m(self, num_epochs, stats_interval)\u001b[0m\n\u001b[1;32m    139\u001b[0m epoch_time \u001b[38;5;241m=\u001b[39m time\u001b[38;5;241m.\u001b[39mtime()\u001b[38;5;241m-\u001b[39m start_time\n\u001b[1;32m    140\u001b[0m \u001b[38;5;28;01mif\u001b[39;00m epoch \u001b[38;5;241m%\u001b[39m stats_interval \u001b[38;5;241m==\u001b[39m \u001b[38;5;241m0\u001b[39m:\n\u001b[0;32m--> 141\u001b[0m     stats \u001b[38;5;241m=\u001b[39m \u001b[38;5;28mself\u001b[39m\u001b[38;5;241m.\u001b[39mget_epoch_stats()\n\u001b[1;32m    142\u001b[0m     \u001b[38;5;28mself\u001b[39m\u001b[38;5;241m.\u001b[39mlog_stats(epoch, epoch_time, stats)\n\u001b[1;32m    143\u001b[0m     run_stats\u001b[38;5;241m.\u001b[39mappend(\u001b[38;5;28mlist\u001b[39m(stats\u001b[38;5;241m.\u001b[39mvalues()))\n",
      "File \u001b[0;32m~/Documents/ML_Practical/mlpractical_natmaws/mlp/optimisers.py:99\u001b[0m, in \u001b[0;36mOptimiser.get_epoch_stats\u001b[0;34m(self)\u001b[0m\n\u001b[1;32m     92\u001b[0m \u001b[38;5;250m\u001b[39m\u001b[38;5;124;03m\"\"\"Computes training statistics for an epoch.\u001b[39;00m\n\u001b[1;32m     93\u001b[0m \n\u001b[1;32m     94\u001b[0m \u001b[38;5;124;03mReturns:\u001b[39;00m\n\u001b[1;32m     95\u001b[0m \u001b[38;5;124;03m    An OrderedDict with keys corresponding to the statistic labels and\u001b[39;00m\n\u001b[1;32m     96\u001b[0m \u001b[38;5;124;03m    values corresponding to the value of the statistic.\u001b[39;00m\n\u001b[1;32m     97\u001b[0m \u001b[38;5;124;03m\"\"\"\u001b[39;00m\n\u001b[1;32m     98\u001b[0m epoch_stats \u001b[38;5;241m=\u001b[39m OrderedDict()\n\u001b[0;32m---> 99\u001b[0m epoch_stats\u001b[38;5;241m.\u001b[39mupdate(\u001b[38;5;28mself\u001b[39m\u001b[38;5;241m.\u001b[39meval_monitors(\u001b[38;5;28mself\u001b[39m\u001b[38;5;241m.\u001b[39mtrain_dataset, \u001b[38;5;124m'\u001b[39m\u001b[38;5;124m(train)\u001b[39m\u001b[38;5;124m'\u001b[39m))\n\u001b[1;32m    100\u001b[0m \u001b[38;5;28;01mif\u001b[39;00m \u001b[38;5;28mself\u001b[39m\u001b[38;5;241m.\u001b[39mvalid_dataset \u001b[38;5;129;01mis\u001b[39;00m \u001b[38;5;129;01mnot\u001b[39;00m \u001b[38;5;28;01mNone\u001b[39;00m:\n\u001b[1;32m    101\u001b[0m     epoch_stats\u001b[38;5;241m.\u001b[39mupdate(\u001b[38;5;28mself\u001b[39m\u001b[38;5;241m.\u001b[39meval_monitors(\n\u001b[1;32m    102\u001b[0m         \u001b[38;5;28mself\u001b[39m\u001b[38;5;241m.\u001b[39mvalid_dataset, \u001b[38;5;124m'\u001b[39m\u001b[38;5;124m(valid)\u001b[39m\u001b[38;5;124m'\u001b[39m))\n",
      "File \u001b[0;32m~/Documents/ML_Practical/mlpractical_natmaws/mlp/optimisers.py:85\u001b[0m, in \u001b[0;36mOptimiser.eval_monitors\u001b[0;34m(self, dataset, label)\u001b[0m\n\u001b[1;32m     83\u001b[0m     activations \u001b[38;5;241m=\u001b[39m \u001b[38;5;28mself\u001b[39m\u001b[38;5;241m.\u001b[39mmodel\u001b[38;5;241m.\u001b[39mfprop(inputs_batch, evaluation\u001b[38;5;241m=\u001b[39m\u001b[38;5;28;01mTrue\u001b[39;00m)\n\u001b[1;32m     84\u001b[0m     \u001b[38;5;28;01mfor\u001b[39;00m key, data_monitor \u001b[38;5;129;01min\u001b[39;00m \u001b[38;5;28mself\u001b[39m\u001b[38;5;241m.\u001b[39mdata_monitors\u001b[38;5;241m.\u001b[39mitems():\n\u001b[0;32m---> 85\u001b[0m         data_mon_vals[key \u001b[38;5;241m+\u001b[39m label] \u001b[38;5;241m+\u001b[39m\u001b[38;5;241m=\u001b[39m data_monitor(\n\u001b[1;32m     86\u001b[0m             activations[\u001b[38;5;241m-\u001b[39m\u001b[38;5;241m1\u001b[39m], targets_batch)\n\u001b[1;32m     87\u001b[0m \u001b[38;5;28;01mfor\u001b[39;00m key, data_monitor \u001b[38;5;129;01min\u001b[39;00m \u001b[38;5;28mself\u001b[39m\u001b[38;5;241m.\u001b[39mdata_monitors\u001b[38;5;241m.\u001b[39mitems():\n\u001b[1;32m     88\u001b[0m     data_mon_vals[key \u001b[38;5;241m+\u001b[39m label] \u001b[38;5;241m/\u001b[39m\u001b[38;5;241m=\u001b[39m dataset\u001b[38;5;241m.\u001b[39mnum_batches\n",
      "File \u001b[0;32m~/Documents/ML_Practical/mlpractical_natmaws/mlp/errors.py:159\u001b[0m, in \u001b[0;36mCrossEntropySoftmaxError.__call__\u001b[0;34m(self, outputs, targets)\u001b[0m\n\u001b[1;32m    157\u001b[0m normOutputs \u001b[38;5;241m=\u001b[39m outputs \u001b[38;5;241m-\u001b[39m outputs\u001b[38;5;241m.\u001b[39mmax(\u001b[38;5;241m-\u001b[39m\u001b[38;5;241m1\u001b[39m)[:, \u001b[38;5;28;01mNone\u001b[39;00m]\n\u001b[1;32m    158\u001b[0m logProb \u001b[38;5;241m=\u001b[39m normOutputs \u001b[38;5;241m-\u001b[39m np\u001b[38;5;241m.\u001b[39mlog(np\u001b[38;5;241m.\u001b[39msum(np\u001b[38;5;241m.\u001b[39mexp(normOutputs), axis\u001b[38;5;241m=\u001b[39m\u001b[38;5;241m-\u001b[39m\u001b[38;5;241m1\u001b[39m)[:, \u001b[38;5;28;01mNone\u001b[39;00m])\n\u001b[0;32m--> 159\u001b[0m \u001b[38;5;28;01mreturn\u001b[39;00m \u001b[38;5;241m-\u001b[39mnp\u001b[38;5;241m.\u001b[39mmean(np\u001b[38;5;241m.\u001b[39msum(targets \u001b[38;5;241m*\u001b[39m logProb, axis\u001b[38;5;241m=\u001b[39m\u001b[38;5;241m1\u001b[39m))\n",
      "File \u001b[0;32m~/miniconda3/envs/mlp/lib/python3.12/site-packages/numpy/core/fromnumeric.py:2172\u001b[0m, in \u001b[0;36m_sum_dispatcher\u001b[0;34m(a, axis, dtype, out, keepdims, initial, where)\u001b[0m\n\u001b[1;32m   2102\u001b[0m \u001b[38;5;250m    \u001b[39m\u001b[38;5;124;03m\"\"\"\u001b[39;00m\n\u001b[1;32m   2103\u001b[0m \u001b[38;5;124;03m    Clip (limit) the values in an array.\u001b[39;00m\n\u001b[1;32m   2104\u001b[0m \n\u001b[0;32m   (...)\u001b[0m\n\u001b[1;32m   2167\u001b[0m \n\u001b[1;32m   2168\u001b[0m \u001b[38;5;124;03m    \"\"\"\u001b[39;00m\n\u001b[1;32m   2169\u001b[0m     \u001b[38;5;28;01mreturn\u001b[39;00m _wrapfunc(a, \u001b[38;5;124m'\u001b[39m\u001b[38;5;124mclip\u001b[39m\u001b[38;5;124m'\u001b[39m, a_min, a_max, out\u001b[38;5;241m=\u001b[39mout, \u001b[38;5;241m*\u001b[39m\u001b[38;5;241m*\u001b[39mkwargs)\n\u001b[0;32m-> 2172\u001b[0m \u001b[38;5;28;01mdef\u001b[39;00m \u001b[38;5;21m_sum_dispatcher\u001b[39m(a, axis\u001b[38;5;241m=\u001b[39m\u001b[38;5;28;01mNone\u001b[39;00m, dtype\u001b[38;5;241m=\u001b[39m\u001b[38;5;28;01mNone\u001b[39;00m, out\u001b[38;5;241m=\u001b[39m\u001b[38;5;28;01mNone\u001b[39;00m, keepdims\u001b[38;5;241m=\u001b[39m\u001b[38;5;28;01mNone\u001b[39;00m,\n\u001b[1;32m   2173\u001b[0m                     initial\u001b[38;5;241m=\u001b[39m\u001b[38;5;28;01mNone\u001b[39;00m, where\u001b[38;5;241m=\u001b[39m\u001b[38;5;28;01mNone\u001b[39;00m):\n\u001b[1;32m   2174\u001b[0m     \u001b[38;5;28;01mreturn\u001b[39;00m (a, out)\n\u001b[1;32m   2177\u001b[0m \u001b[38;5;129m@array_function_dispatch\u001b[39m(_sum_dispatcher)\n\u001b[1;32m   2178\u001b[0m \u001b[38;5;28;01mdef\u001b[39;00m \u001b[38;5;21msum\u001b[39m(a, axis\u001b[38;5;241m=\u001b[39m\u001b[38;5;28;01mNone\u001b[39;00m, dtype\u001b[38;5;241m=\u001b[39m\u001b[38;5;28;01mNone\u001b[39;00m, out\u001b[38;5;241m=\u001b[39m\u001b[38;5;28;01mNone\u001b[39;00m, keepdims\u001b[38;5;241m=\u001b[39mnp\u001b[38;5;241m.\u001b[39m_NoValue,\n\u001b[1;32m   2179\u001b[0m         initial\u001b[38;5;241m=\u001b[39mnp\u001b[38;5;241m.\u001b[39m_NoValue, where\u001b[38;5;241m=\u001b[39mnp\u001b[38;5;241m.\u001b[39m_NoValue):\n",
      "\u001b[0;31mKeyboardInterrupt\u001b[0m: "
     ]
    }
   ],
   "source": [
    "# Define a function to train the model with varying hidden units and track statistics\n",
    "def evaluate_varying_hidden_units(hidden_units_list, input_dim, output_dim, learning_rate, num_epochs, stats_interval, train_data, valid_data):\n",
    "    results = {}\n",
    "    \n",
    "    for hidden_units in hidden_units_list:\n",
    "        print(f\"\\nTraining model with {hidden_units} hidden units.\")\n",
    "        \n",
    "        # Initialize weights and biases\n",
    "        weights_init = GlorotUniformInit(rng=rng)\n",
    "        biases_init = ConstantInit(0.)\n",
    "        \n",
    "        # Define model with the current number of hidden units\n",
    "        model = MultipleLayerModel([\n",
    "            AffineLayer(input_dim, hidden_units, weights_init, biases_init),  # Hidden layer\n",
    "            ReluLayer(),\n",
    "            AffineLayer(hidden_units, output_dim, weights_init, biases_init)  # Output layer\n",
    "        ])\n",
    "        \n",
    "        # Set up the loss function (cross-entropy) and learning rule (Adam)\n",
    "        error = CrossEntropySoftmaxError()\n",
    "        learning_rule = AdamLearningRule(learning_rate=learning_rate)\n",
    "        \n",
    "        # Train the model and capture statistics\n",
    "        stats, keys, run_time, fig_1, ax_1, fig_2, ax_2 = train_model_and_plot_stats(\n",
    "            model, error, learning_rule, train_data, valid_data, num_epochs, stats_interval, notebook=False)\n",
    "        \n",
    "        # Store the results for each number of hidden units\n",
    "        results[hidden_units] = {\n",
    "            \"stats\": stats,\n",
    "            \"keys\": keys,\n",
    "            \"fig_1\": fig_1,  # Error plot (training vs validation)\n",
    "            \"fig_2\": fig_2,  # Accuracy plot (training vs validation)\n",
    "        }\n",
    "    \n",
    "    return results\n",
    "\n",
    "# Set hyperparameters\n",
    "input_dim, output_dim = 784, 47  # Input: 784 (28x28 image), Output: 47 (EMNIST classes)\n",
    "learning_rate = 0.001  # Adam learning rate\n",
    "num_epochs = 100  # Number of training epochs\n",
    "stats_interval = 1  # Interval to record stats\n",
    "batch_size = 100  # Batch size for training and validation\n",
    "\n",
    "# Define the list of hidden unit sizes to evaluate (32, 64, 128)\n",
    "hidden_units_list = [32, 64, 128]\n",
    "\n",
    "# Train and evaluate models with different hidden unit sizes\n",
    "results = evaluate_varying_hidden_units(\n",
    "    hidden_units_list, input_dim, output_dim, learning_rate, num_epochs, stats_interval, train_data, valid_data\n",
    ")"
   ]
  },
  {
   "cell_type": "code",
   "execution_count": 13,
   "metadata": {},
   "outputs": [
    {
     "ename": "NameError",
     "evalue": "name 'results' is not defined",
     "output_type": "error",
     "traceback": [
      "\u001b[0;31m---------------------------------------------------------------------------\u001b[0m",
      "\u001b[0;31mNameError\u001b[0m                                 Traceback (most recent call last)",
      "Cell \u001b[0;32mIn[13], line 46\u001b[0m\n\u001b[1;32m     43\u001b[0m     plt\u001b[38;5;241m.\u001b[39mshow()\n\u001b[1;32m     45\u001b[0m \u001b[38;5;66;03m# Call the plotting function after training models\u001b[39;00m\n\u001b[0;32m---> 46\u001b[0m plot_results(results, num_epochs\u001b[38;5;241m=\u001b[39mnum_epochs, stats_interval\u001b[38;5;241m=\u001b[39mstats_interval)\n",
      "\u001b[0;31mNameError\u001b[0m: name 'results' is not defined"
     ]
    }
   ],
   "source": [
    "import matplotlib.pyplot as plt\n",
    "import numpy as np\n",
    "\n",
    "def plot_results(results, num_epochs, stats_interval):\n",
    "    epochs = np.arange(1, num_epochs + 1, stats_interval)\n",
    "\n",
    "    # Plot Accuracy (Training and Validation) for all hidden units configurations\n",
    "    plt.figure(figsize=(10, 6))\n",
    "    for hidden_units, res in results.items():\n",
    "        stats = res['stats']\n",
    "        keys = res['keys']\n",
    "        \n",
    "        # Plot training accuracy\n",
    "        plt.plot(epochs, stats[1:, keys['acc(train)']], label=f'width {hidden_units}(train)')\n",
    "        \n",
    "        # Plot validation accuracy\n",
    "        plt.plot(epochs, stats[1:, keys['acc(valid)']], label=f'width {hidden_units}(valid)', linestyle='--')\n",
    "    \n",
    "    plt.xlabel('Epoch number')\n",
    "    plt.ylabel('Accuracy')\n",
    "    # plt.title('Accuracy vs. Epochs for Varying Hidden Units')\n",
    "    plt.legend(loc='lower right')\n",
    "    plt.grid(True)\n",
    "    plt.show()\n",
    "\n",
    "    # Plot Error (Training and Validation) for all hidden units configurations\n",
    "    plt.figure(figsize=(10, 6))\n",
    "    for hidden_units, res in results.items():\n",
    "        stats = res['stats']\n",
    "        keys = res['keys']\n",
    "        \n",
    "        # Plot training error\n",
    "        plt.plot(epochs, stats[1:, keys['error(train)']], label=f'width {hidden_units}(train)')\n",
    "        \n",
    "        # Plot validation error\n",
    "        plt.plot(epochs, stats[1:, keys['error(valid)']], label=f'width {hidden_units}(valid)', linestyle='--')\n",
    "    \n",
    "    plt.xlabel('Epoch number')\n",
    "    plt.ylabel('Error')\n",
    "    # plt.title('Error vs. Epochs for Varying Hidden Units')\n",
    "    plt.legend(loc='upper right')\n",
    "    plt.grid(True)\n",
    "    plt.show()\n",
    "\n",
    "# Call the plotting function after training models\n",
    "plot_results(results, num_epochs=num_epochs, stats_interval=stats_interval)"
   ]
  },
  {
   "cell_type": "code",
   "execution_count": 14,
   "metadata": {},
   "outputs": [
    {
     "name": "stdout",
     "output_type": "stream",
     "text": [
      "\n",
      "Training model with 1 hidden layers, each with 128 units.\n"
     ]
    },
    {
     "name": "stderr",
     "output_type": "stream",
     "text": [
      "Ep Prog: 100%|██████████| 1000/1000 [00:01<00:00, 670.82it/s]\n",
      "Exp Prog:   0%|          | 0/100 [00:01<?, ?it/s]\n"
     ]
    },
    {
     "ename": "KeyboardInterrupt",
     "evalue": "",
     "output_type": "error",
     "traceback": [
      "\u001b[0;31m---------------------------------------------------------------------------\u001b[0m",
      "\u001b[0;31mKeyboardInterrupt\u001b[0m                         Traceback (most recent call last)",
      "Cell \u001b[0;32mIn[14], line 58\u001b[0m\n\u001b[1;32m     55\u001b[0m hidden_layer_counts \u001b[38;5;241m=\u001b[39m [\u001b[38;5;241m1\u001b[39m, \u001b[38;5;241m2\u001b[39m, \u001b[38;5;241m3\u001b[39m]\n\u001b[1;32m     57\u001b[0m \u001b[38;5;66;03m# Train and evaluate models with different numbers of hidden layers\u001b[39;00m\n\u001b[0;32m---> 58\u001b[0m results \u001b[38;5;241m=\u001b[39m evaluate_varying_hidden_layers(\n\u001b[1;32m     59\u001b[0m     hidden_layer_counts, input_dim, output_dim, hidden_units, learning_rate, num_epochs, stats_interval, train_data, valid_data\n\u001b[1;32m     60\u001b[0m )\n",
      "Cell \u001b[0;32mIn[14], line 33\u001b[0m, in \u001b[0;36mevaluate_varying_hidden_layers\u001b[0;34m(hidden_layer_counts, input_dim, output_dim, hidden_units, learning_rate, num_epochs, stats_interval, train_data, valid_data)\u001b[0m\n\u001b[1;32m     30\u001b[0m learning_rule \u001b[38;5;241m=\u001b[39m AdamLearningRule(learning_rate\u001b[38;5;241m=\u001b[39mlearning_rate)\n\u001b[1;32m     32\u001b[0m \u001b[38;5;66;03m# Train the model and capture statistics\u001b[39;00m\n\u001b[0;32m---> 33\u001b[0m stats, keys, run_time, fig_1, ax_1, fig_2, ax_2 \u001b[38;5;241m=\u001b[39m train_model_and_plot_stats(\n\u001b[1;32m     34\u001b[0m     model, error, learning_rule, train_data, valid_data, num_epochs, stats_interval, notebook\u001b[38;5;241m=\u001b[39m\u001b[38;5;28;01mFalse\u001b[39;00m)\n\u001b[1;32m     36\u001b[0m \u001b[38;5;66;03m# Store the results for each number of hidden layers\u001b[39;00m\n\u001b[1;32m     37\u001b[0m results[hidden_layers] \u001b[38;5;241m=\u001b[39m {\n\u001b[1;32m     38\u001b[0m     \u001b[38;5;124m\"\u001b[39m\u001b[38;5;124mstats\u001b[39m\u001b[38;5;124m\"\u001b[39m: stats,\n\u001b[1;32m     39\u001b[0m     \u001b[38;5;124m\"\u001b[39m\u001b[38;5;124mkeys\u001b[39m\u001b[38;5;124m\"\u001b[39m: keys,\n\u001b[1;32m     40\u001b[0m     \u001b[38;5;124m\"\u001b[39m\u001b[38;5;124mfig_1\u001b[39m\u001b[38;5;124m\"\u001b[39m: fig_1,  \u001b[38;5;66;03m# Error plot (training vs validation)\u001b[39;00m\n\u001b[1;32m     41\u001b[0m     \u001b[38;5;124m\"\u001b[39m\u001b[38;5;124mfig_2\u001b[39m\u001b[38;5;124m\"\u001b[39m: fig_2,  \u001b[38;5;66;03m# Accuracy plot (training vs validation)\u001b[39;00m\n\u001b[1;32m     42\u001b[0m }\n",
      "Cell \u001b[0;32mIn[8], line 18\u001b[0m, in \u001b[0;36mtrain_model_and_plot_stats\u001b[0;34m(model, error, learning_rule, train_data, valid_data, num_epochs, stats_interval, notebook)\u001b[0m\n\u001b[1;32m     13\u001b[0m optimiser \u001b[38;5;241m=\u001b[39m Optimiser(\n\u001b[1;32m     14\u001b[0m     model, error, learning_rule, train_data, valid_data, data_monitors, notebook\u001b[38;5;241m=\u001b[39mnotebook)\n\u001b[1;32m     16\u001b[0m \u001b[38;5;66;03m# Run the optimiser for num_epochs epochs (full passes through the training set)\u001b[39;00m\n\u001b[1;32m     17\u001b[0m \u001b[38;5;66;03m# printing statistics every epoch.\u001b[39;00m\n\u001b[0;32m---> 18\u001b[0m stats, keys, run_time \u001b[38;5;241m=\u001b[39m optimiser\u001b[38;5;241m.\u001b[39mtrain(num_epochs\u001b[38;5;241m=\u001b[39mnum_epochs, stats_interval\u001b[38;5;241m=\u001b[39mstats_interval)\n\u001b[1;32m     20\u001b[0m \u001b[38;5;66;03m# Plot the change in the validation and training set error over training.\u001b[39;00m\n\u001b[1;32m     21\u001b[0m fig_1 \u001b[38;5;241m=\u001b[39m plt\u001b[38;5;241m.\u001b[39mfigure(figsize\u001b[38;5;241m=\u001b[39m(\u001b[38;5;241m8\u001b[39m, \u001b[38;5;241m4\u001b[39m))\n",
      "File \u001b[0;32m~/Documents/ML_Practical/mlpractical_natmaws/mlp/optimisers.py:141\u001b[0m, in \u001b[0;36mOptimiser.train\u001b[0;34m(self, num_epochs, stats_interval)\u001b[0m\n\u001b[1;32m    139\u001b[0m epoch_time \u001b[38;5;241m=\u001b[39m time\u001b[38;5;241m.\u001b[39mtime()\u001b[38;5;241m-\u001b[39m start_time\n\u001b[1;32m    140\u001b[0m \u001b[38;5;28;01mif\u001b[39;00m epoch \u001b[38;5;241m%\u001b[39m stats_interval \u001b[38;5;241m==\u001b[39m \u001b[38;5;241m0\u001b[39m:\n\u001b[0;32m--> 141\u001b[0m     stats \u001b[38;5;241m=\u001b[39m \u001b[38;5;28mself\u001b[39m\u001b[38;5;241m.\u001b[39mget_epoch_stats()\n\u001b[1;32m    142\u001b[0m     \u001b[38;5;28mself\u001b[39m\u001b[38;5;241m.\u001b[39mlog_stats(epoch, epoch_time, stats)\n\u001b[1;32m    143\u001b[0m     run_stats\u001b[38;5;241m.\u001b[39mappend(\u001b[38;5;28mlist\u001b[39m(stats\u001b[38;5;241m.\u001b[39mvalues()))\n",
      "File \u001b[0;32m~/Documents/ML_Practical/mlpractical_natmaws/mlp/optimisers.py:99\u001b[0m, in \u001b[0;36mOptimiser.get_epoch_stats\u001b[0;34m(self)\u001b[0m\n\u001b[1;32m     92\u001b[0m \u001b[38;5;250m\u001b[39m\u001b[38;5;124;03m\"\"\"Computes training statistics for an epoch.\u001b[39;00m\n\u001b[1;32m     93\u001b[0m \n\u001b[1;32m     94\u001b[0m \u001b[38;5;124;03mReturns:\u001b[39;00m\n\u001b[1;32m     95\u001b[0m \u001b[38;5;124;03m    An OrderedDict with keys corresponding to the statistic labels and\u001b[39;00m\n\u001b[1;32m     96\u001b[0m \u001b[38;5;124;03m    values corresponding to the value of the statistic.\u001b[39;00m\n\u001b[1;32m     97\u001b[0m \u001b[38;5;124;03m\"\"\"\u001b[39;00m\n\u001b[1;32m     98\u001b[0m epoch_stats \u001b[38;5;241m=\u001b[39m OrderedDict()\n\u001b[0;32m---> 99\u001b[0m epoch_stats\u001b[38;5;241m.\u001b[39mupdate(\u001b[38;5;28mself\u001b[39m\u001b[38;5;241m.\u001b[39meval_monitors(\u001b[38;5;28mself\u001b[39m\u001b[38;5;241m.\u001b[39mtrain_dataset, \u001b[38;5;124m'\u001b[39m\u001b[38;5;124m(train)\u001b[39m\u001b[38;5;124m'\u001b[39m))\n\u001b[1;32m    100\u001b[0m \u001b[38;5;28;01mif\u001b[39;00m \u001b[38;5;28mself\u001b[39m\u001b[38;5;241m.\u001b[39mvalid_dataset \u001b[38;5;129;01mis\u001b[39;00m \u001b[38;5;129;01mnot\u001b[39;00m \u001b[38;5;28;01mNone\u001b[39;00m:\n\u001b[1;32m    101\u001b[0m     epoch_stats\u001b[38;5;241m.\u001b[39mupdate(\u001b[38;5;28mself\u001b[39m\u001b[38;5;241m.\u001b[39meval_monitors(\n\u001b[1;32m    102\u001b[0m         \u001b[38;5;28mself\u001b[39m\u001b[38;5;241m.\u001b[39mvalid_dataset, \u001b[38;5;124m'\u001b[39m\u001b[38;5;124m(valid)\u001b[39m\u001b[38;5;124m'\u001b[39m))\n",
      "File \u001b[0;32m~/Documents/ML_Practical/mlpractical_natmaws/mlp/optimisers.py:83\u001b[0m, in \u001b[0;36mOptimiser.eval_monitors\u001b[0;34m(self, dataset, label)\u001b[0m\n\u001b[1;32m     80\u001b[0m data_mon_vals \u001b[38;5;241m=\u001b[39m OrderedDict([(key \u001b[38;5;241m+\u001b[39m label, \u001b[38;5;241m0.\u001b[39m) \u001b[38;5;28;01mfor\u001b[39;00m key\n\u001b[1;32m     81\u001b[0m                              \u001b[38;5;129;01min\u001b[39;00m \u001b[38;5;28mself\u001b[39m\u001b[38;5;241m.\u001b[39mdata_monitors\u001b[38;5;241m.\u001b[39mkeys()])\n\u001b[1;32m     82\u001b[0m \u001b[38;5;28;01mfor\u001b[39;00m inputs_batch, targets_batch \u001b[38;5;129;01min\u001b[39;00m dataset:\n\u001b[0;32m---> 83\u001b[0m     activations \u001b[38;5;241m=\u001b[39m \u001b[38;5;28mself\u001b[39m\u001b[38;5;241m.\u001b[39mmodel\u001b[38;5;241m.\u001b[39mfprop(inputs_batch, evaluation\u001b[38;5;241m=\u001b[39m\u001b[38;5;28;01mTrue\u001b[39;00m)\n\u001b[1;32m     84\u001b[0m     \u001b[38;5;28;01mfor\u001b[39;00m key, data_monitor \u001b[38;5;129;01min\u001b[39;00m \u001b[38;5;28mself\u001b[39m\u001b[38;5;241m.\u001b[39mdata_monitors\u001b[38;5;241m.\u001b[39mitems():\n\u001b[1;32m     85\u001b[0m         data_mon_vals[key \u001b[38;5;241m+\u001b[39m label] \u001b[38;5;241m+\u001b[39m\u001b[38;5;241m=\u001b[39m data_monitor(\n\u001b[1;32m     86\u001b[0m             activations[\u001b[38;5;241m-\u001b[39m\u001b[38;5;241m1\u001b[39m], targets_batch)\n",
      "File \u001b[0;32m~/Documents/ML_Practical/mlpractical_natmaws/mlp/models.py:105\u001b[0m, in \u001b[0;36mMultipleLayerModel.fprop\u001b[0;34m(self, inputs, evaluation)\u001b[0m\n\u001b[1;32m    103\u001b[0m         current_activations \u001b[38;5;241m=\u001b[39m \u001b[38;5;28mself\u001b[39m\u001b[38;5;241m.\u001b[39mlayers[i]\u001b[38;5;241m.\u001b[39mfprop(activations[i], stochastic\u001b[38;5;241m=\u001b[39m\u001b[38;5;28;01mFalse\u001b[39;00m)\n\u001b[1;32m    104\u001b[0m     \u001b[38;5;28;01melse\u001b[39;00m:\n\u001b[0;32m--> 105\u001b[0m         current_activations \u001b[38;5;241m=\u001b[39m \u001b[38;5;28mself\u001b[39m\u001b[38;5;241m.\u001b[39mlayers[i]\u001b[38;5;241m.\u001b[39mfprop(activations[i])\n\u001b[1;32m    106\u001b[0m \u001b[38;5;28;01melse\u001b[39;00m:\n\u001b[1;32m    107\u001b[0m     \u001b[38;5;28;01mif\u001b[39;00m \u001b[38;5;28missubclass\u001b[39m(\u001b[38;5;28mtype\u001b[39m(\u001b[38;5;28mself\u001b[39m\u001b[38;5;241m.\u001b[39mlayers[i]), StochasticLayer) \u001b[38;5;129;01mor\u001b[39;00m \u001b[38;5;28missubclass\u001b[39m(\u001b[38;5;28mtype\u001b[39m(\u001b[38;5;28mself\u001b[39m\u001b[38;5;241m.\u001b[39mlayers[i]),\n\u001b[1;32m    108\u001b[0m                                                                        StochasticLayerWithParameters):\n",
      "File \u001b[0;32m~/Documents/ML_Practical/mlpractical_natmaws/mlp/layers.py:261\u001b[0m, in \u001b[0;36mAffineLayer.fprop\u001b[0;34m(self, inputs)\u001b[0m\n\u001b[1;32m    249\u001b[0m \u001b[38;5;28;01mdef\u001b[39;00m \u001b[38;5;21mfprop\u001b[39m(\u001b[38;5;28mself\u001b[39m, inputs):\n\u001b[1;32m    250\u001b[0m \u001b[38;5;250m    \u001b[39m\u001b[38;5;124;03m\"\"\"Forward propagates activations through the layer transformation.\u001b[39;00m\n\u001b[1;32m    251\u001b[0m \n\u001b[1;32m    252\u001b[0m \u001b[38;5;124;03m    For inputs `x`, outputs `y`, weights `W` and biases `b` the layer\u001b[39;00m\n\u001b[0;32m   (...)\u001b[0m\n\u001b[1;32m    259\u001b[0m \u001b[38;5;124;03m        outputs: Array of layer outputs of shape (batch_size, output_dim).\u001b[39;00m\n\u001b[1;32m    260\u001b[0m \u001b[38;5;124;03m    \"\"\"\u001b[39;00m\n\u001b[0;32m--> 261\u001b[0m     \u001b[38;5;28;01mreturn\u001b[39;00m \u001b[38;5;28mself\u001b[39m\u001b[38;5;241m.\u001b[39mweights\u001b[38;5;241m.\u001b[39mdot(inputs\u001b[38;5;241m.\u001b[39mT)\u001b[38;5;241m.\u001b[39mT \u001b[38;5;241m+\u001b[39m \u001b[38;5;28mself\u001b[39m\u001b[38;5;241m.\u001b[39mbiases\n",
      "\u001b[0;31mKeyboardInterrupt\u001b[0m: "
     ]
    }
   ],
   "source": [
    "# Define a function to train models with varying number of hidden layers and track statistics\n",
    "def evaluate_varying_hidden_layers(hidden_layer_counts, input_dim, output_dim, hidden_units, learning_rate, num_epochs, stats_interval, train_data, valid_data):\n",
    "    results = {}\n",
    "    \n",
    "    for hidden_layers in hidden_layer_counts:\n",
    "        print(f\"\\nTraining model with {hidden_layers} hidden layers, each with {hidden_units} units.\")\n",
    "        \n",
    "        # Initialize weights and biases\n",
    "        weights_init = GlorotUniformInit(rng=rng)\n",
    "        biases_init = ConstantInit(0.)\n",
    "        \n",
    "        # Define model with the current number of hidden layers\n",
    "        layers = []\n",
    "        layers.append(AffineLayer(input_dim, hidden_units, weights_init, biases_init))  # First hidden layer\n",
    "        layers.append(ReluLayer())\n",
    "        \n",
    "        # Add additional hidden layers based on `hidden_layers`\n",
    "        for _ in range(1, hidden_layers):\n",
    "            layers.append(AffineLayer(hidden_units, hidden_units, weights_init, biases_init))\n",
    "            layers.append(ReluLayer())\n",
    "        \n",
    "        # Output layer\n",
    "        layers.append(AffineLayer(hidden_units, output_dim, weights_init, biases_init))\n",
    "        \n",
    "        # Create model\n",
    "        model = MultipleLayerModel(layers)\n",
    "        \n",
    "        # Set up the loss function (cross-entropy) and learning rule (Adam)\n",
    "        error = CrossEntropySoftmaxError()\n",
    "        learning_rule = AdamLearningRule(learning_rate=learning_rate)\n",
    "        \n",
    "        # Train the model and capture statistics\n",
    "        stats, keys, run_time, fig_1, ax_1, fig_2, ax_2 = train_model_and_plot_stats(\n",
    "            model, error, learning_rule, train_data, valid_data, num_epochs, stats_interval, notebook=False)\n",
    "        \n",
    "        # Store the results for each number of hidden layers\n",
    "        results[hidden_layers] = {\n",
    "            \"stats\": stats,\n",
    "            \"keys\": keys,\n",
    "            \"fig_1\": fig_1,  # Error plot (training vs validation)\n",
    "            \"fig_2\": fig_2,  # Accuracy plot (training vs validation)\n",
    "        }\n",
    "    \n",
    "    return results\n",
    "\n",
    "# Set hyperparameters\n",
    "input_dim, output_dim = 784, 47  # Input: 784 (28x28 image), Output: 47 (EMNIST classes)\n",
    "hidden_units = 128  # Number of units in each hidden layer\n",
    "learning_rate = 9e-4  # Adam learning rate\n",
    "num_epochs = 100  # Number of training epochs\n",
    "stats_interval = 1  # Interval to record stats\n",
    "batch_size = 100  # Batch size for training and validation\n",
    "\n",
    "# Define the number of hidden layers to evaluate (1, 2, and 3 hidden layers)\n",
    "hidden_layer_counts = [1, 2, 3]\n",
    "\n",
    "# Train and evaluate models with different numbers of hidden layers\n",
    "results = evaluate_varying_hidden_layers(\n",
    "    hidden_layer_counts, input_dim, output_dim, hidden_units, learning_rate, num_epochs, stats_interval, train_data, valid_data\n",
    ")"
   ]
  },
  {
   "cell_type": "code",
   "execution_count": null,
   "metadata": {},
   "outputs": [],
   "source": [
    "from mlp.penalties import L1Penalty,L2Penalty\n",
    "def vary_penalty_train():\n",
    "    penalties = [5e-4]\n",
    "    learning_rate = 0.0001\n",
    "    num_epochs = 100\n",
    "    stats_interval = 1\n",
    "    input_dim, output_dim, hidden_dim = 784, 47, 128\n",
    "    models = []\n",
    "    weights_init = GlorotUniformInit(rng=rng)\n",
    "    biases_init = ConstantInit(0.)\n",
    "    error = CrossEntropySoftmaxError()\n",
    "    learning_rule = AdamLearningRule()\n",
    "\n",
    "    print('For 1e-3 L1')\n",
    "    for penalty in penalties:\n",
    "        model = MultipleLayerModel([\n",
    "        #DropoutLayer(rng,incl_prob=prob,share_across_batch=False),    \n",
    "        AffineLayer(input_dim, hidden_dim, weights_init, biases_init, weights_penalty = L1Penalty(penalty), \n",
    "                    biases_penalty = L1Penalty(penalty)), \n",
    "        ReluLayer(),\n",
    "        #DropoutLayer(rng,incl_prob=prob,share_across_batch=False),    \n",
    "        AffineLayer(hidden_dim, hidden_dim, weights_init, biases_init, weights_penalty=L1Penalty(penalty), \n",
    "                   biases_penalty = L1Penalty(penalty)), \n",
    "        ReluLayer(),\n",
    "        #DropoutLayer(rng,incl_prob=prob,share_across_batch=False),\n",
    "        AffineLayer(hidden_dim, hidden_dim, weights_init, biases_init, weights_penalty=L1Penalty(penalty),\n",
    "                   biases_penalty = L1Penalty(penalty)), \n",
    "        ReluLayer(),\n",
    "        #DropoutLayer(rng,incl_prob=prob,share_across_batch=False),    \n",
    "        AffineLayer(hidden_dim, output_dim, weights_init, biases_init, weights_penalty=L1Penalty(penalty),\n",
    "                   biases_penalty = L1Penalty(penalty))])\n",
    "        \n",
    "        stats, keys, run_time, fig_1, ax_1, fig_2, ax_2 = train_model_and_plot_stats(model, error, learning_rule, train_data, \n",
    "                                 valid_data, num_epochs, stats_interval, notebook=True)\n",
    "        \n",
    "        models.append((stats,keys,'L1',penalty))\n",
    "        \n",
    "    print('For 1e-3 L2')\n",
    "    for penalty in penalties:\n",
    "        model = MultipleLayerModel([\n",
    "        #DropoutLayer(rng,incl_prob=prob,share_across_batch=False),    \n",
    "        AffineLayer(input_dim, hidden_dim, weights_init, biases_init, weights_penalty = L2Penalty(penalty),\n",
    "                   biases_penalty = L2Penalty(penalty)), \n",
    "        ReluLayer(),\n",
    "        #DropoutLayer(rng,incl_prob=prob,share_across_batch=False),    \n",
    "        AffineLayer(hidden_dim, hidden_dim, weights_init, biases_init, weights_penalty=L2Penalty(penalty),\n",
    "                   biases_penalty = L2Penalty(penalty)), \n",
    "        ReluLayer(),\n",
    "        #DropoutLayer(rng,incl_prob=prob,share_across_batch=False),\n",
    "        AffineLayer(hidden_dim, hidden_dim, weights_init, biases_init, weights_penalty=L2Penalty(penalty),\n",
    "                   biases_penalty = L2Penalty(penalty)), \n",
    "        ReluLayer(),\n",
    "        #DropoutLayer(rng,incl_prob=prob,share_across_batch=False),    \n",
    "        AffineLayer(hidden_dim, output_dim, weights_init, biases_init, weights_penalty=L2Penalty(penalty),\n",
    "                   biases_penalty = L2Penalty(penalty))])\n",
    "        \n",
    "        stats_2, keys_2, run_time_2, fig2_1, ax2_1, fig2_2, ax2_2 = train_model_and_plot_stats(\n",
    "            model, error, learning_rule, train_data, valid_data, num_epochs, stats_interval, notebook=False)\n",
    "        \n",
    "        \n",
    "        models.append((stats_2,keys_2,'L2',penalty))\n",
    "    \n",
    "        \n",
    "    #fig_1,_,_ = plot_with_generalization_gap(models)\n",
    "    #fig_1.savefig('penalty.svg',format='svg')\n",
    "    return models\n",
    "\n",
    "models_penalties = vary_penalty_train()"
   ]
  },
  {
   "cell_type": "code",
   "execution_count": null,
   "metadata": {},
   "outputs": [],
   "source": [
    "from mlp.layers import DropoutLayer\n",
    "def vary_dropout_train():\n",
    "    incl_probs = [0.7]\n",
    "    learning_rate = 0.1\n",
    "    num_epochs = 100\n",
    "    stats_interval = 1\n",
    "    input_dim, output_dim,hidden_dim = 784, 47, 128\n",
    "    models = []\n",
    "    weights_init = GlorotUniformInit(rng=rng)\n",
    "    biases_init = ConstantInit(0.)\n",
    "    error = CrossEntropySoftmaxError()\n",
    "    learning_rule = AdamLearningRule()\n",
    "    for prob in incl_probs:\n",
    "        model = MultipleLayerModel([\n",
    "        DropoutLayer(rng,incl_prob=prob,share_across_batch=False),    \n",
    "        AffineLayer(input_dim, hidden_dim, weights_init, biases_init), \n",
    "        ReluLayer(),\n",
    "\n",
    "        DropoutLayer(rng,incl_prob=prob,share_across_batch=False),    \n",
    "        AffineLayer(hidden_dim, hidden_dim, weights_init, biases_init), \n",
    "        ReluLayer(),\n",
    "\n",
    "        DropoutLayer(rng,incl_prob=prob,share_across_batch=False),\n",
    "        AffineLayer(hidden_dim, hidden_dim, weights_init, biases_init), \n",
    "        ReluLayer(),\n",
    "        \n",
    "        DropoutLayer(rng,incl_prob=prob,share_across_batch=False),    \n",
    "        AffineLayer(hidden_dim, output_dim, weights_init, biases_init)])\n",
    "        \n",
    "        stats, keys, run_time, fig_1, ax_1, fig_2, ax_2 = train_model_and_plot_stats(model, error, learning_rule, train_data, \n",
    "                                 valid_data, num_epochs, stats_interval, notebook=True)\n",
    "        \n",
    "        models.append((stats,keys))\n",
    "        \n",
    "    #fig_1,_,fig_2,_ = plot(models,stats_interval,value_to_be_varried=\"dropout\")\n",
    "    #fig_1.savefig('error-dropout.svg',format='svg')\n",
    "    #fig_2.savefig('accuracy-dropout.svg',format='svg')\n",
    "    return models\n",
    "    \n",
    "model_dropouts = vary_dropout_train() "
   ]
  },
  {
   "cell_type": "code",
   "execution_count": null,
   "metadata": {},
   "outputs": [],
   "source": [
    "from mlp.data_providers import EMNISTDataProvider\n",
    "def vary_dropout_train():\n",
    "    incl_probs = [0.1]\n",
    "    num_epochs = 100\n",
    "    stats_interval = 1\n",
    "    input_dim, output_dim,hidden_dim = 784, 47, 128\n",
    "    models = []\n",
    "    weights_init = GlorotUniformInit(rng=rng)\n",
    "    biases_init = ConstantInit(0.)\n",
    "    error = CrossEntropySoftmaxError()\n",
    "    learning_rule = AdamLearningRule()\n",
    "\n",
    "    # Use smoothed labels in data provider\n",
    "    train_data = EMNISTDataProvider(which_set='train', batch_size=100, smooth_labels=True)\n",
    "    valid_data = EMNISTDataProvider(which_set='valid', batch_size=100, smooth_labels=True)\n",
    "\n",
    "    for prob in incl_probs:\n",
    "        model = MultipleLayerModel([\n",
    "        AffineLayer(input_dim, hidden_dim, weights_init, biases_init), \n",
    "        ReluLayer(),\n",
    "   \n",
    "        AffineLayer(hidden_dim, hidden_dim, weights_init, biases_init), \n",
    "        ReluLayer(),\n",
    "\n",
    "        AffineLayer(hidden_dim, hidden_dim, weights_init, biases_init), \n",
    "        ReluLayer(),\n",
    "        \n",
    "        AffineLayer(hidden_dim, output_dim, weights_init, biases_init)])\n",
    "        \n",
    "        stats, keys, run_time, fig_1, ax_1, fig_2, ax_2 = train_model_and_plot_stats(model, error, learning_rule, train_data, \n",
    "                                 valid_data, num_epochs, stats_interval, notebook=True)\n",
    "        \n",
    "        models.append((stats,keys))\n",
    "        \n",
    "    #fig_1,_,fig_2,_ = plot(models,stats_interval,value_to_be_varried=\"dropout\")\n",
    "    #fig_1.savefig('error-dropout.svg',format='svg')\n",
    "    #fig_2.savefig('accuracy-dropout.svg',format='svg')\n",
    "    return models\n",
    "    \n",
    "model_dropouts = vary_dropout_train() "
   ]
  },
  {
   "cell_type": "code",
   "execution_count": 28,
   "metadata": {},
   "outputs": [
    {
     "name": "stderr",
     "output_type": "stream",
     "text": [
      "Epoch 27: 13.2s to complete\n",
      "    error(train)=4.64e-01, acc(train)=8.50e-01, error(valid)=5.26e-01, acc(valid)=8.30e-01\n"
     ]
    },
    {
     "data": {
      "application/vnd.jupyter.widget-view+json": {
       "model_id": "0daa2d5e5f8245159985bcd5e41056c6",
       "version_major": 2,
       "version_minor": 0
      },
      "text/plain": [
       "  0%|          | 0/1000 [00:00<?, ?it/s]"
      ]
     },
     "metadata": {},
     "output_type": "display_data"
    },
    {
     "name": "stderr",
     "output_type": "stream",
     "text": [
      "Epoch 28: 12.7s to complete\n",
      "    error(train)=4.55e-01, acc(train)=8.52e-01, error(valid)=5.19e-01, acc(valid)=8.33e-01\n"
     ]
    },
    {
     "data": {
      "application/vnd.jupyter.widget-view+json": {
       "model_id": "0472747cf61741f6b6ab0720fb741203",
       "version_major": 2,
       "version_minor": 0
      },
      "text/plain": [
       "  0%|          | 0/1000 [00:00<?, ?it/s]"
      ]
     },
     "metadata": {},
     "output_type": "display_data"
    },
    {
     "name": "stderr",
     "output_type": "stream",
     "text": [
      "Epoch 29: 13.1s to complete\n",
      "    error(train)=4.56e-01, acc(train)=8.52e-01, error(valid)=5.20e-01, acc(valid)=8.31e-01\n"
     ]
    },
    {
     "data": {
      "application/vnd.jupyter.widget-view+json": {
       "model_id": "066a069fdb784bcf850bc2894756d30a",
       "version_major": 2,
       "version_minor": 0
      },
      "text/plain": [
       "  0%|          | 0/1000 [00:00<?, ?it/s]"
      ]
     },
     "metadata": {},
     "output_type": "display_data"
    },
    {
     "name": "stderr",
     "output_type": "stream",
     "text": [
      "Epoch 30: 13.0s to complete\n",
      "    error(train)=4.48e-01, acc(train)=8.54e-01, error(valid)=5.15e-01, acc(valid)=8.35e-01\n"
     ]
    },
    {
     "data": {
      "application/vnd.jupyter.widget-view+json": {
       "model_id": "943201dfd38840049f4829d3fe80ef8b",
       "version_major": 2,
       "version_minor": 0
      },
      "text/plain": [
       "  0%|          | 0/1000 [00:00<?, ?it/s]"
      ]
     },
     "metadata": {},
     "output_type": "display_data"
    },
    {
     "name": "stderr",
     "output_type": "stream",
     "text": [
      "Epoch 31: 13.0s to complete\n",
      "    error(train)=4.46e-01, acc(train)=8.54e-01, error(valid)=5.18e-01, acc(valid)=8.35e-01\n"
     ]
    },
    {
     "data": {
      "application/vnd.jupyter.widget-view+json": {
       "model_id": "aa15b918061c4747b480a3842bf09ed2",
       "version_major": 2,
       "version_minor": 0
      },
      "text/plain": [
       "  0%|          | 0/1000 [00:00<?, ?it/s]"
      ]
     },
     "metadata": {},
     "output_type": "display_data"
    },
    {
     "name": "stderr",
     "output_type": "stream",
     "text": [
      "Epoch 32: 12.3s to complete\n",
      "    error(train)=4.41e-01, acc(train)=8.56e-01, error(valid)=5.12e-01, acc(valid)=8.35e-01\n"
     ]
    },
    {
     "data": {
      "application/vnd.jupyter.widget-view+json": {
       "model_id": "eb130614ed4d47da9cca63f4d92c45bd",
       "version_major": 2,
       "version_minor": 0
      },
      "text/plain": [
       "  0%|          | 0/1000 [00:00<?, ?it/s]"
      ]
     },
     "metadata": {},
     "output_type": "display_data"
    },
    {
     "name": "stderr",
     "output_type": "stream",
     "text": [
      "Epoch 33: 12.3s to complete\n",
      "    error(train)=4.34e-01, acc(train)=8.57e-01, error(valid)=5.08e-01, acc(valid)=8.35e-01\n"
     ]
    },
    {
     "data": {
      "application/vnd.jupyter.widget-view+json": {
       "model_id": "cc48d29384d94a85ad9255bb5e66562e",
       "version_major": 2,
       "version_minor": 0
      },
      "text/plain": [
       "  0%|          | 0/1000 [00:00<?, ?it/s]"
      ]
     },
     "metadata": {},
     "output_type": "display_data"
    },
    {
     "name": "stderr",
     "output_type": "stream",
     "text": [
      "Epoch 34: 12.1s to complete\n",
      "    error(train)=4.30e-01, acc(train)=8.58e-01, error(valid)=5.02e-01, acc(valid)=8.35e-01\n"
     ]
    },
    {
     "data": {
      "application/vnd.jupyter.widget-view+json": {
       "model_id": "e019e718705b4c1b9fbb9b44d5d94ef1",
       "version_major": 2,
       "version_minor": 0
      },
      "text/plain": [
       "  0%|          | 0/1000 [00:00<?, ?it/s]"
      ]
     },
     "metadata": {},
     "output_type": "display_data"
    },
    {
     "name": "stderr",
     "output_type": "stream",
     "text": [
      "Epoch 35: 13.2s to complete\n",
      "    error(train)=4.28e-01, acc(train)=8.58e-01, error(valid)=5.02e-01, acc(valid)=8.36e-01\n"
     ]
    },
    {
     "data": {
      "application/vnd.jupyter.widget-view+json": {
       "model_id": "6485f918d7d441f7980eca3be23a7a9f",
       "version_major": 2,
       "version_minor": 0
      },
      "text/plain": [
       "  0%|          | 0/1000 [00:00<?, ?it/s]"
      ]
     },
     "metadata": {},
     "output_type": "display_data"
    },
    {
     "name": "stderr",
     "output_type": "stream",
     "text": [
      "Epoch 36: 13.2s to complete\n",
      "    error(train)=4.20e-01, acc(train)=8.62e-01, error(valid)=4.96e-01, acc(valid)=8.38e-01\n"
     ]
    },
    {
     "data": {
      "application/vnd.jupyter.widget-view+json": {
       "model_id": "2cdebe43d8ac43d488c6d7584debcb85",
       "version_major": 2,
       "version_minor": 0
      },
      "text/plain": [
       "  0%|          | 0/1000 [00:00<?, ?it/s]"
      ]
     },
     "metadata": {},
     "output_type": "display_data"
    },
    {
     "name": "stderr",
     "output_type": "stream",
     "text": [
      "Epoch 37: 13.4s to complete\n",
      "    error(train)=4.22e-01, acc(train)=8.59e-01, error(valid)=4.99e-01, acc(valid)=8.37e-01\n"
     ]
    },
    {
     "data": {
      "application/vnd.jupyter.widget-view+json": {
       "model_id": "ce679bc68ae44a2382c5e0d579cc9cf4",
       "version_major": 2,
       "version_minor": 0
      },
      "text/plain": [
       "  0%|          | 0/1000 [00:00<?, ?it/s]"
      ]
     },
     "metadata": {},
     "output_type": "display_data"
    },
    {
     "name": "stderr",
     "output_type": "stream",
     "text": [
      "Epoch 38: 9.8s to complete\n",
      "    error(train)=4.16e-01, acc(train)=8.63e-01, error(valid)=4.95e-01, acc(valid)=8.39e-01\n"
     ]
    },
    {
     "data": {
      "application/vnd.jupyter.widget-view+json": {
       "model_id": "1387e8d895fe429e8784986972ed7dc1",
       "version_major": 2,
       "version_minor": 0
      },
      "text/plain": [
       "  0%|          | 0/1000 [00:00<?, ?it/s]"
      ]
     },
     "metadata": {},
     "output_type": "display_data"
    },
    {
     "name": "stderr",
     "output_type": "stream",
     "text": [
      "Epoch 39: 12.5s to complete\n",
      "    error(train)=4.15e-01, acc(train)=8.62e-01, error(valid)=4.98e-01, acc(valid)=8.37e-01\n"
     ]
    },
    {
     "data": {
      "application/vnd.jupyter.widget-view+json": {
       "model_id": "172ae19f9cd046bc9b8b4fec31c72107",
       "version_major": 2,
       "version_minor": 0
      },
      "text/plain": [
       "  0%|          | 0/1000 [00:00<?, ?it/s]"
      ]
     },
     "metadata": {},
     "output_type": "display_data"
    },
    {
     "name": "stderr",
     "output_type": "stream",
     "text": [
      "Epoch 40: 12.6s to complete\n",
      "    error(train)=4.10e-01, acc(train)=8.65e-01, error(valid)=4.94e-01, acc(valid)=8.40e-01\n"
     ]
    },
    {
     "data": {
      "application/vnd.jupyter.widget-view+json": {
       "model_id": "9fa88d072b7a4109b24216a6195618f3",
       "version_major": 2,
       "version_minor": 0
      },
      "text/plain": [
       "  0%|          | 0/1000 [00:00<?, ?it/s]"
      ]
     },
     "metadata": {},
     "output_type": "display_data"
    },
    {
     "name": "stderr",
     "output_type": "stream",
     "text": [
      "Epoch 41: 12.6s to complete\n",
      "    error(train)=4.17e-01, acc(train)=8.61e-01, error(valid)=5.01e-01, acc(valid)=8.36e-01\n"
     ]
    },
    {
     "data": {
      "application/vnd.jupyter.widget-view+json": {
       "model_id": "758e95112e634d5fa9a632e80e1711a4",
       "version_major": 2,
       "version_minor": 0
      },
      "text/plain": [
       "  0%|          | 0/1000 [00:00<?, ?it/s]"
      ]
     },
     "metadata": {},
     "output_type": "display_data"
    },
    {
     "name": "stderr",
     "output_type": "stream",
     "text": [
      "Epoch 42: 11.3s to complete\n",
      "    error(train)=4.07e-01, acc(train)=8.64e-01, error(valid)=4.92e-01, acc(valid)=8.40e-01\n"
     ]
    },
    {
     "data": {
      "application/vnd.jupyter.widget-view+json": {
       "model_id": "bcf0b1dd34094d96b764440169a01ad8",
       "version_major": 2,
       "version_minor": 0
      },
      "text/plain": [
       "  0%|          | 0/1000 [00:00<?, ?it/s]"
      ]
     },
     "metadata": {},
     "output_type": "display_data"
    },
    {
     "name": "stderr",
     "output_type": "stream",
     "text": [
      "Epoch 43: 13.0s to complete\n",
      "    error(train)=3.98e-01, acc(train)=8.68e-01, error(valid)=4.86e-01, acc(valid)=8.41e-01\n"
     ]
    },
    {
     "data": {
      "application/vnd.jupyter.widget-view+json": {
       "model_id": "df720569ed144f6e8dd81e615fadc708",
       "version_major": 2,
       "version_minor": 0
      },
      "text/plain": [
       "  0%|          | 0/1000 [00:00<?, ?it/s]"
      ]
     },
     "metadata": {},
     "output_type": "display_data"
    },
    {
     "name": "stderr",
     "output_type": "stream",
     "text": [
      "Epoch 44: 13.2s to complete\n",
      "    error(train)=4.02e-01, acc(train)=8.67e-01, error(valid)=4.90e-01, acc(valid)=8.42e-01\n"
     ]
    },
    {
     "data": {
      "application/vnd.jupyter.widget-view+json": {
       "model_id": "af3c4c8d440e436d8ddce674333d8320",
       "version_major": 2,
       "version_minor": 0
      },
      "text/plain": [
       "  0%|          | 0/1000 [00:00<?, ?it/s]"
      ]
     },
     "metadata": {},
     "output_type": "display_data"
    },
    {
     "name": "stderr",
     "output_type": "stream",
     "text": [
      "Epoch 45: 13.2s to complete\n",
      "    error(train)=3.90e-01, acc(train)=8.71e-01, error(valid)=4.80e-01, acc(valid)=8.43e-01\n"
     ]
    },
    {
     "data": {
      "application/vnd.jupyter.widget-view+json": {
       "model_id": "187ef4104ee94707833206f5c4a7968a",
       "version_major": 2,
       "version_minor": 0
      },
      "text/plain": [
       "  0%|          | 0/1000 [00:00<?, ?it/s]"
      ]
     },
     "metadata": {},
     "output_type": "display_data"
    },
    {
     "name": "stderr",
     "output_type": "stream",
     "text": [
      "Epoch 46: 13.3s to complete\n",
      "    error(train)=3.93e-01, acc(train)=8.69e-01, error(valid)=4.84e-01, acc(valid)=8.42e-01\n"
     ]
    },
    {
     "data": {
      "application/vnd.jupyter.widget-view+json": {
       "model_id": "2e394c44d6da4495bd3e76714c13e1f3",
       "version_major": 2,
       "version_minor": 0
      },
      "text/plain": [
       "  0%|          | 0/1000 [00:00<?, ?it/s]"
      ]
     },
     "metadata": {},
     "output_type": "display_data"
    },
    {
     "name": "stderr",
     "output_type": "stream",
     "text": [
      "Epoch 47: 12.9s to complete\n",
      "    error(train)=3.94e-01, acc(train)=8.68e-01, error(valid)=4.88e-01, acc(valid)=8.40e-01\n"
     ]
    },
    {
     "data": {
      "application/vnd.jupyter.widget-view+json": {
       "model_id": "a460c493c1a6403c8b26e4aaa3be1129",
       "version_major": 2,
       "version_minor": 0
      },
      "text/plain": [
       "  0%|          | 0/1000 [00:00<?, ?it/s]"
      ]
     },
     "metadata": {},
     "output_type": "display_data"
    },
    {
     "name": "stderr",
     "output_type": "stream",
     "text": [
      "Epoch 48: 13.4s to complete\n",
      "    error(train)=3.89e-01, acc(train)=8.70e-01, error(valid)=4.82e-01, acc(valid)=8.43e-01\n"
     ]
    },
    {
     "data": {
      "application/vnd.jupyter.widget-view+json": {
       "model_id": "94df498da16242a6b83e9b1969c75e7c",
       "version_major": 2,
       "version_minor": 0
      },
      "text/plain": [
       "  0%|          | 0/1000 [00:00<?, ?it/s]"
      ]
     },
     "metadata": {},
     "output_type": "display_data"
    },
    {
     "name": "stderr",
     "output_type": "stream",
     "text": [
      "Epoch 49: 12.1s to complete\n",
      "    error(train)=3.86e-01, acc(train)=8.71e-01, error(valid)=4.80e-01, acc(valid)=8.43e-01\n"
     ]
    },
    {
     "data": {
      "application/vnd.jupyter.widget-view+json": {
       "model_id": "8548406194e54a9ba19115bb28533382",
       "version_major": 2,
       "version_minor": 0
      },
      "text/plain": [
       "  0%|          | 0/1000 [00:00<?, ?it/s]"
      ]
     },
     "metadata": {},
     "output_type": "display_data"
    },
    {
     "name": "stderr",
     "output_type": "stream",
     "text": [
      "Epoch 50: 13.2s to complete\n",
      "    error(train)=3.82e-01, acc(train)=8.72e-01, error(valid)=4.80e-01, acc(valid)=8.40e-01\n"
     ]
    },
    {
     "data": {
      "application/vnd.jupyter.widget-view+json": {
       "model_id": "b031a1de95e3458d8a9d1c8c6cd83365",
       "version_major": 2,
       "version_minor": 0
      },
      "text/plain": [
       "  0%|          | 0/1000 [00:00<?, ?it/s]"
      ]
     },
     "metadata": {},
     "output_type": "display_data"
    },
    {
     "name": "stderr",
     "output_type": "stream",
     "text": [
      "Epoch 51: 13.7s to complete\n",
      "    error(train)=3.84e-01, acc(train)=8.72e-01, error(valid)=4.82e-01, acc(valid)=8.41e-01\n"
     ]
    },
    {
     "data": {
      "application/vnd.jupyter.widget-view+json": {
       "model_id": "0bbfedcdcf7b46aeb8c0205daac6a74b",
       "version_major": 2,
       "version_minor": 0
      },
      "text/plain": [
       "  0%|          | 0/1000 [00:00<?, ?it/s]"
      ]
     },
     "metadata": {},
     "output_type": "display_data"
    },
    {
     "name": "stderr",
     "output_type": "stream",
     "text": [
      "Epoch 52: 13.1s to complete\n",
      "    error(train)=3.80e-01, acc(train)=8.73e-01, error(valid)=4.79e-01, acc(valid)=8.44e-01\n"
     ]
    },
    {
     "data": {
      "application/vnd.jupyter.widget-view+json": {
       "model_id": "21477d9ed7b843a496bfa4d1db11b58e",
       "version_major": 2,
       "version_minor": 0
      },
      "text/plain": [
       "  0%|          | 0/1000 [00:00<?, ?it/s]"
      ]
     },
     "metadata": {},
     "output_type": "display_data"
    },
    {
     "name": "stderr",
     "output_type": "stream",
     "text": [
      "Epoch 53: 12.6s to complete\n",
      "    error(train)=3.80e-01, acc(train)=8.72e-01, error(valid)=4.81e-01, acc(valid)=8.43e-01\n"
     ]
    },
    {
     "data": {
      "application/vnd.jupyter.widget-view+json": {
       "model_id": "8cbd77ce9f26437d8ac5da2e10db9d7e",
       "version_major": 2,
       "version_minor": 0
      },
      "text/plain": [
       "  0%|          | 0/1000 [00:00<?, ?it/s]"
      ]
     },
     "metadata": {},
     "output_type": "display_data"
    },
    {
     "name": "stderr",
     "output_type": "stream",
     "text": [
      "Epoch 54: 13.1s to complete\n",
      "    error(train)=3.77e-01, acc(train)=8.73e-01, error(valid)=4.79e-01, acc(valid)=8.45e-01\n"
     ]
    },
    {
     "data": {
      "application/vnd.jupyter.widget-view+json": {
       "model_id": "b5005fc82f70490a9ffc506dd145508b",
       "version_major": 2,
       "version_minor": 0
      },
      "text/plain": [
       "  0%|          | 0/1000 [00:00<?, ?it/s]"
      ]
     },
     "metadata": {},
     "output_type": "display_data"
    },
    {
     "name": "stderr",
     "output_type": "stream",
     "text": [
      "Epoch 55: 13.2s to complete\n",
      "    error(train)=3.70e-01, acc(train)=8.76e-01, error(valid)=4.73e-01, acc(valid)=8.44e-01\n"
     ]
    },
    {
     "data": {
      "application/vnd.jupyter.widget-view+json": {
       "model_id": "3390411ca2f94ffaa0b4cac099897a34",
       "version_major": 2,
       "version_minor": 0
      },
      "text/plain": [
       "  0%|          | 0/1000 [00:00<?, ?it/s]"
      ]
     },
     "metadata": {},
     "output_type": "display_data"
    },
    {
     "name": "stderr",
     "output_type": "stream",
     "text": [
      "Epoch 56: 10.9s to complete\n",
      "    error(train)=3.72e-01, acc(train)=8.73e-01, error(valid)=4.77e-01, acc(valid)=8.42e-01\n"
     ]
    },
    {
     "data": {
      "application/vnd.jupyter.widget-view+json": {
       "model_id": "69e50cd5c365494ea9b300f25e0c07c9",
       "version_major": 2,
       "version_minor": 0
      },
      "text/plain": [
       "  0%|          | 0/1000 [00:00<?, ?it/s]"
      ]
     },
     "metadata": {},
     "output_type": "display_data"
    },
    {
     "name": "stderr",
     "output_type": "stream",
     "text": [
      "Epoch 57: 8.7s to complete\n",
      "    error(train)=3.68e-01, acc(train)=8.76e-01, error(valid)=4.71e-01, acc(valid)=8.46e-01\n"
     ]
    },
    {
     "data": {
      "application/vnd.jupyter.widget-view+json": {
       "model_id": "0535da29af914fa4b4587855217b8b5b",
       "version_major": 2,
       "version_minor": 0
      },
      "text/plain": [
       "  0%|          | 0/1000 [00:00<?, ?it/s]"
      ]
     },
     "metadata": {},
     "output_type": "display_data"
    },
    {
     "name": "stderr",
     "output_type": "stream",
     "text": [
      "Epoch 58: 13.4s to complete\n",
      "    error(train)=3.65e-01, acc(train)=8.76e-01, error(valid)=4.71e-01, acc(valid)=8.45e-01\n"
     ]
    },
    {
     "data": {
      "application/vnd.jupyter.widget-view+json": {
       "model_id": "eff6c1339d464364a10f0770183ad7fe",
       "version_major": 2,
       "version_minor": 0
      },
      "text/plain": [
       "  0%|          | 0/1000 [00:00<?, ?it/s]"
      ]
     },
     "metadata": {},
     "output_type": "display_data"
    },
    {
     "name": "stderr",
     "output_type": "stream",
     "text": [
      "Epoch 59: 12.4s to complete\n",
      "    error(train)=3.66e-01, acc(train)=8.77e-01, error(valid)=4.75e-01, acc(valid)=8.45e-01\n"
     ]
    },
    {
     "data": {
      "application/vnd.jupyter.widget-view+json": {
       "model_id": "6a63310b185c4d31aefc1291e8412a52",
       "version_major": 2,
       "version_minor": 0
      },
      "text/plain": [
       "  0%|          | 0/1000 [00:00<?, ?it/s]"
      ]
     },
     "metadata": {},
     "output_type": "display_data"
    },
    {
     "name": "stderr",
     "output_type": "stream",
     "text": [
      "Epoch 60: 14.3s to complete\n",
      "    error(train)=3.65e-01, acc(train)=8.78e-01, error(valid)=4.72e-01, acc(valid)=8.43e-01\n"
     ]
    },
    {
     "data": {
      "application/vnd.jupyter.widget-view+json": {
       "model_id": "b45be0269a154412b2a66328d624d55c",
       "version_major": 2,
       "version_minor": 0
      },
      "text/plain": [
       "  0%|          | 0/1000 [00:00<?, ?it/s]"
      ]
     },
     "metadata": {},
     "output_type": "display_data"
    },
    {
     "name": "stderr",
     "output_type": "stream",
     "text": [
      "Epoch 61: 12.3s to complete\n",
      "    error(train)=3.59e-01, acc(train)=8.80e-01, error(valid)=4.68e-01, acc(valid)=8.47e-01\n"
     ]
    },
    {
     "data": {
      "application/vnd.jupyter.widget-view+json": {
       "model_id": "04c743d8cdfe4547b4776a09b11d513d",
       "version_major": 2,
       "version_minor": 0
      },
      "text/plain": [
       "  0%|          | 0/1000 [00:00<?, ?it/s]"
      ]
     },
     "metadata": {},
     "output_type": "display_data"
    },
    {
     "name": "stderr",
     "output_type": "stream",
     "text": [
      "Epoch 62: 14.0s to complete\n",
      "    error(train)=3.58e-01, acc(train)=8.81e-01, error(valid)=4.66e-01, acc(valid)=8.46e-01\n"
     ]
    },
    {
     "data": {
      "application/vnd.jupyter.widget-view+json": {
       "model_id": "c0538366bc934a2881de4f8a9c39bf41",
       "version_major": 2,
       "version_minor": 0
      },
      "text/plain": [
       "  0%|          | 0/1000 [00:00<?, ?it/s]"
      ]
     },
     "metadata": {},
     "output_type": "display_data"
    },
    {
     "name": "stderr",
     "output_type": "stream",
     "text": [
      "Epoch 63: 14.4s to complete\n",
      "    error(train)=3.54e-01, acc(train)=8.81e-01, error(valid)=4.65e-01, acc(valid)=8.47e-01\n"
     ]
    },
    {
     "data": {
      "application/vnd.jupyter.widget-view+json": {
       "model_id": "96364d7bb4274de5ab8192869f57a005",
       "version_major": 2,
       "version_minor": 0
      },
      "text/plain": [
       "  0%|          | 0/1000 [00:00<?, ?it/s]"
      ]
     },
     "metadata": {},
     "output_type": "display_data"
    },
    {
     "name": "stderr",
     "output_type": "stream",
     "text": [
      "Epoch 64: 12.1s to complete\n",
      "    error(train)=3.57e-01, acc(train)=8.80e-01, error(valid)=4.68e-01, acc(valid)=8.46e-01\n"
     ]
    },
    {
     "data": {
      "application/vnd.jupyter.widget-view+json": {
       "model_id": "7a6441db921f4751b27587fd609ece29",
       "version_major": 2,
       "version_minor": 0
      },
      "text/plain": [
       "  0%|          | 0/1000 [00:00<?, ?it/s]"
      ]
     },
     "metadata": {},
     "output_type": "display_data"
    },
    {
     "name": "stderr",
     "output_type": "stream",
     "text": [
      "Epoch 65: 13.2s to complete\n",
      "    error(train)=3.54e-01, acc(train)=8.81e-01, error(valid)=4.67e-01, acc(valid)=8.44e-01\n"
     ]
    },
    {
     "data": {
      "application/vnd.jupyter.widget-view+json": {
       "model_id": "c03adf98cae34cd8bf7340e56c562d9e",
       "version_major": 2,
       "version_minor": 0
      },
      "text/plain": [
       "  0%|          | 0/1000 [00:00<?, ?it/s]"
      ]
     },
     "metadata": {},
     "output_type": "display_data"
    },
    {
     "name": "stderr",
     "output_type": "stream",
     "text": [
      "Epoch 66: 14.0s to complete\n",
      "    error(train)=3.54e-01, acc(train)=8.82e-01, error(valid)=4.67e-01, acc(valid)=8.45e-01\n"
     ]
    },
    {
     "data": {
      "application/vnd.jupyter.widget-view+json": {
       "model_id": "1d94f80f3ad94b45809daf32e5c4691a",
       "version_major": 2,
       "version_minor": 0
      },
      "text/plain": [
       "  0%|          | 0/1000 [00:00<?, ?it/s]"
      ]
     },
     "metadata": {},
     "output_type": "display_data"
    },
    {
     "name": "stderr",
     "output_type": "stream",
     "text": [
      "Epoch 67: 13.9s to complete\n",
      "    error(train)=3.56e-01, acc(train)=8.77e-01, error(valid)=4.73e-01, acc(valid)=8.43e-01\n"
     ]
    },
    {
     "data": {
      "application/vnd.jupyter.widget-view+json": {
       "model_id": "3cef856a54444b9db5037c78bda80c4c",
       "version_major": 2,
       "version_minor": 0
      },
      "text/plain": [
       "  0%|          | 0/1000 [00:00<?, ?it/s]"
      ]
     },
     "metadata": {},
     "output_type": "display_data"
    },
    {
     "name": "stderr",
     "output_type": "stream",
     "text": [
      "Epoch 68: 14.0s to complete\n",
      "    error(train)=3.54e-01, acc(train)=8.79e-01, error(valid)=4.71e-01, acc(valid)=8.44e-01\n"
     ]
    },
    {
     "data": {
      "application/vnd.jupyter.widget-view+json": {
       "model_id": "c49d77ce7485454d80351d5549bd1da8",
       "version_major": 2,
       "version_minor": 0
      },
      "text/plain": [
       "  0%|          | 0/1000 [00:00<?, ?it/s]"
      ]
     },
     "metadata": {},
     "output_type": "display_data"
    },
    {
     "name": "stderr",
     "output_type": "stream",
     "text": [
      "Epoch 69: 14.0s to complete\n",
      "    error(train)=3.51e-01, acc(train)=8.81e-01, error(valid)=4.71e-01, acc(valid)=8.44e-01\n"
     ]
    },
    {
     "data": {
      "application/vnd.jupyter.widget-view+json": {
       "model_id": "ea23232929b0451ca24d49f599cf2781",
       "version_major": 2,
       "version_minor": 0
      },
      "text/plain": [
       "  0%|          | 0/1000 [00:00<?, ?it/s]"
      ]
     },
     "metadata": {},
     "output_type": "display_data"
    },
    {
     "name": "stderr",
     "output_type": "stream",
     "text": [
      "Epoch 70: 13.2s to complete\n",
      "    error(train)=3.48e-01, acc(train)=8.83e-01, error(valid)=4.66e-01, acc(valid)=8.47e-01\n"
     ]
    },
    {
     "data": {
      "application/vnd.jupyter.widget-view+json": {
       "model_id": "0bc4acac26c34c99b98a30eac9be444e",
       "version_major": 2,
       "version_minor": 0
      },
      "text/plain": [
       "  0%|          | 0/1000 [00:00<?, ?it/s]"
      ]
     },
     "metadata": {},
     "output_type": "display_data"
    },
    {
     "name": "stderr",
     "output_type": "stream",
     "text": [
      "Epoch 71: 13.5s to complete\n",
      "    error(train)=3.46e-01, acc(train)=8.84e-01, error(valid)=4.66e-01, acc(valid)=8.46e-01\n"
     ]
    },
    {
     "data": {
      "application/vnd.jupyter.widget-view+json": {
       "model_id": "236933f266d247569be6699e7e7240ee",
       "version_major": 2,
       "version_minor": 0
      },
      "text/plain": [
       "  0%|          | 0/1000 [00:00<?, ?it/s]"
      ]
     },
     "metadata": {},
     "output_type": "display_data"
    },
    {
     "name": "stderr",
     "output_type": "stream",
     "text": [
      "Epoch 72: 13.1s to complete\n",
      "    error(train)=3.44e-01, acc(train)=8.83e-01, error(valid)=4.67e-01, acc(valid)=8.44e-01\n"
     ]
    },
    {
     "data": {
      "application/vnd.jupyter.widget-view+json": {
       "model_id": "6a5387a97dff478295fbb95fcaea3d54",
       "version_major": 2,
       "version_minor": 0
      },
      "text/plain": [
       "  0%|          | 0/1000 [00:00<?, ?it/s]"
      ]
     },
     "metadata": {},
     "output_type": "display_data"
    },
    {
     "name": "stderr",
     "output_type": "stream",
     "text": [
      "Epoch 73: 13.4s to complete\n",
      "    error(train)=3.41e-01, acc(train)=8.86e-01, error(valid)=4.62e-01, acc(valid)=8.49e-01\n"
     ]
    },
    {
     "data": {
      "application/vnd.jupyter.widget-view+json": {
       "model_id": "05281425f236436e8ebde03315c7961d",
       "version_major": 2,
       "version_minor": 0
      },
      "text/plain": [
       "  0%|          | 0/1000 [00:00<?, ?it/s]"
      ]
     },
     "metadata": {},
     "output_type": "display_data"
    },
    {
     "name": "stderr",
     "output_type": "stream",
     "text": [
      "Epoch 74: 14.2s to complete\n",
      "    error(train)=3.40e-01, acc(train)=8.84e-01, error(valid)=4.63e-01, acc(valid)=8.47e-01\n"
     ]
    },
    {
     "data": {
      "application/vnd.jupyter.widget-view+json": {
       "model_id": "87e5b5c0d6e542f0a4879bf16453acf7",
       "version_major": 2,
       "version_minor": 0
      },
      "text/plain": [
       "  0%|          | 0/1000 [00:00<?, ?it/s]"
      ]
     },
     "metadata": {},
     "output_type": "display_data"
    },
    {
     "name": "stderr",
     "output_type": "stream",
     "text": [
      "Epoch 75: 13.4s to complete\n",
      "    error(train)=3.37e-01, acc(train)=8.86e-01, error(valid)=4.60e-01, acc(valid)=8.48e-01\n"
     ]
    },
    {
     "data": {
      "application/vnd.jupyter.widget-view+json": {
       "model_id": "6aed943b1cb1427c848e16ceeac7b494",
       "version_major": 2,
       "version_minor": 0
      },
      "text/plain": [
       "  0%|          | 0/1000 [00:00<?, ?it/s]"
      ]
     },
     "metadata": {},
     "output_type": "display_data"
    },
    {
     "name": "stderr",
     "output_type": "stream",
     "text": [
      "Epoch 76: 14.4s to complete\n",
      "    error(train)=3.36e-01, acc(train)=8.85e-01, error(valid)=4.62e-01, acc(valid)=8.48e-01\n"
     ]
    },
    {
     "data": {
      "application/vnd.jupyter.widget-view+json": {
       "model_id": "bf72df59399849e59fb38afdbffde030",
       "version_major": 2,
       "version_minor": 0
      },
      "text/plain": [
       "  0%|          | 0/1000 [00:00<?, ?it/s]"
      ]
     },
     "metadata": {},
     "output_type": "display_data"
    },
    {
     "name": "stderr",
     "output_type": "stream",
     "text": [
      "Epoch 77: 14.9s to complete\n",
      "    error(train)=3.31e-01, acc(train)=8.89e-01, error(valid)=4.56e-01, acc(valid)=8.48e-01\n"
     ]
    },
    {
     "data": {
      "application/vnd.jupyter.widget-view+json": {
       "model_id": "8f0e9c910b444068913b591dcf2e7e4e",
       "version_major": 2,
       "version_minor": 0
      },
      "text/plain": [
       "  0%|          | 0/1000 [00:00<?, ?it/s]"
      ]
     },
     "metadata": {},
     "output_type": "display_data"
    },
    {
     "name": "stderr",
     "output_type": "stream",
     "text": [
      "Epoch 78: 13.7s to complete\n",
      "    error(train)=3.37e-01, acc(train)=8.86e-01, error(valid)=4.65e-01, acc(valid)=8.46e-01\n"
     ]
    },
    {
     "data": {
      "application/vnd.jupyter.widget-view+json": {
       "model_id": "e1bf8dc3fcf84299a538b30db5771ea7",
       "version_major": 2,
       "version_minor": 0
      },
      "text/plain": [
       "  0%|          | 0/1000 [00:00<?, ?it/s]"
      ]
     },
     "metadata": {},
     "output_type": "display_data"
    },
    {
     "name": "stderr",
     "output_type": "stream",
     "text": [
      "Epoch 79: 12.7s to complete\n",
      "    error(train)=3.33e-01, acc(train)=8.88e-01, error(valid)=4.61e-01, acc(valid)=8.46e-01\n"
     ]
    },
    {
     "data": {
      "application/vnd.jupyter.widget-view+json": {
       "model_id": "36d44cdce3b74d359a1cc3d436c37893",
       "version_major": 2,
       "version_minor": 0
      },
      "text/plain": [
       "  0%|          | 0/1000 [00:00<?, ?it/s]"
      ]
     },
     "metadata": {},
     "output_type": "display_data"
    },
    {
     "name": "stderr",
     "output_type": "stream",
     "text": [
      "Epoch 80: 14.6s to complete\n",
      "    error(train)=3.35e-01, acc(train)=8.85e-01, error(valid)=4.65e-01, acc(valid)=8.45e-01\n"
     ]
    },
    {
     "data": {
      "application/vnd.jupyter.widget-view+json": {
       "model_id": "bf5333768ef440bba1b83cb74d3efdd5",
       "version_major": 2,
       "version_minor": 0
      },
      "text/plain": [
       "  0%|          | 0/1000 [00:00<?, ?it/s]"
      ]
     },
     "metadata": {},
     "output_type": "display_data"
    },
    {
     "name": "stderr",
     "output_type": "stream",
     "text": [
      "Epoch 81: 14.6s to complete\n",
      "    error(train)=3.29e-01, acc(train)=8.88e-01, error(valid)=4.56e-01, acc(valid)=8.49e-01\n"
     ]
    },
    {
     "data": {
      "application/vnd.jupyter.widget-view+json": {
       "model_id": "4626042ebeec4f3f834c10f5d5ddb62c",
       "version_major": 2,
       "version_minor": 0
      },
      "text/plain": [
       "  0%|          | 0/1000 [00:00<?, ?it/s]"
      ]
     },
     "metadata": {},
     "output_type": "display_data"
    },
    {
     "name": "stderr",
     "output_type": "stream",
     "text": [
      "Epoch 82: 14.4s to complete\n",
      "    error(train)=3.33e-01, acc(train)=8.86e-01, error(valid)=4.66e-01, acc(valid)=8.46e-01\n"
     ]
    },
    {
     "data": {
      "application/vnd.jupyter.widget-view+json": {
       "model_id": "41e345ff815340ca877d4ade852f31e5",
       "version_major": 2,
       "version_minor": 0
      },
      "text/plain": [
       "  0%|          | 0/1000 [00:00<?, ?it/s]"
      ]
     },
     "metadata": {},
     "output_type": "display_data"
    },
    {
     "name": "stderr",
     "output_type": "stream",
     "text": [
      "Epoch 83: 13.2s to complete\n",
      "    error(train)=3.26e-01, acc(train)=8.90e-01, error(valid)=4.58e-01, acc(valid)=8.47e-01\n"
     ]
    },
    {
     "data": {
      "application/vnd.jupyter.widget-view+json": {
       "model_id": "00683aa2bf8d42e496630b6b13a9e265",
       "version_major": 2,
       "version_minor": 0
      },
      "text/plain": [
       "  0%|          | 0/1000 [00:00<?, ?it/s]"
      ]
     },
     "metadata": {},
     "output_type": "display_data"
    },
    {
     "name": "stderr",
     "output_type": "stream",
     "text": [
      "Epoch 84: 14.7s to complete\n",
      "    error(train)=3.28e-01, acc(train)=8.89e-01, error(valid)=4.60e-01, acc(valid)=8.47e-01\n"
     ]
    },
    {
     "data": {
      "application/vnd.jupyter.widget-view+json": {
       "model_id": "8f34f2a1bf6c45babcc2afbf2ceeb90a",
       "version_major": 2,
       "version_minor": 0
      },
      "text/plain": [
       "  0%|          | 0/1000 [00:00<?, ?it/s]"
      ]
     },
     "metadata": {},
     "output_type": "display_data"
    },
    {
     "name": "stderr",
     "output_type": "stream",
     "text": [
      "Epoch 85: 13.7s to complete\n",
      "    error(train)=3.32e-01, acc(train)=8.86e-01, error(valid)=4.65e-01, acc(valid)=8.46e-01\n"
     ]
    },
    {
     "data": {
      "application/vnd.jupyter.widget-view+json": {
       "model_id": "39a954bac81f420bb4797ba9d3d2ff94",
       "version_major": 2,
       "version_minor": 0
      },
      "text/plain": [
       "  0%|          | 0/1000 [00:00<?, ?it/s]"
      ]
     },
     "metadata": {},
     "output_type": "display_data"
    },
    {
     "name": "stderr",
     "output_type": "stream",
     "text": [
      "Epoch 86: 14.5s to complete\n",
      "    error(train)=3.25e-01, acc(train)=8.90e-01, error(valid)=4.59e-01, acc(valid)=8.50e-01\n"
     ]
    },
    {
     "data": {
      "application/vnd.jupyter.widget-view+json": {
       "model_id": "659eaf11603544afa7d5a3c35314afa4",
       "version_major": 2,
       "version_minor": 0
      },
      "text/plain": [
       "  0%|          | 0/1000 [00:00<?, ?it/s]"
      ]
     },
     "metadata": {},
     "output_type": "display_data"
    },
    {
     "name": "stderr",
     "output_type": "stream",
     "text": [
      "Epoch 87: 14.1s to complete\n",
      "    error(train)=3.22e-01, acc(train)=8.91e-01, error(valid)=4.57e-01, acc(valid)=8.47e-01\n"
     ]
    },
    {
     "data": {
      "application/vnd.jupyter.widget-view+json": {
       "model_id": "22279eb6c1f54f36abb4414f8c1401cc",
       "version_major": 2,
       "version_minor": 0
      },
      "text/plain": [
       "  0%|          | 0/1000 [00:00<?, ?it/s]"
      ]
     },
     "metadata": {},
     "output_type": "display_data"
    },
    {
     "name": "stderr",
     "output_type": "stream",
     "text": [
      "Epoch 88: 14.7s to complete\n",
      "    error(train)=3.21e-01, acc(train)=8.91e-01, error(valid)=4.58e-01, acc(valid)=8.48e-01\n"
     ]
    },
    {
     "data": {
      "application/vnd.jupyter.widget-view+json": {
       "model_id": "4e49c7c0bcdd44c3879b9f3e2359a7e7",
       "version_major": 2,
       "version_minor": 0
      },
      "text/plain": [
       "  0%|          | 0/1000 [00:00<?, ?it/s]"
      ]
     },
     "metadata": {},
     "output_type": "display_data"
    },
    {
     "name": "stderr",
     "output_type": "stream",
     "text": [
      "Epoch 89: 14.9s to complete\n",
      "    error(train)=3.22e-01, acc(train)=8.90e-01, error(valid)=4.57e-01, acc(valid)=8.47e-01\n"
     ]
    },
    {
     "data": {
      "application/vnd.jupyter.widget-view+json": {
       "model_id": "fa985f47191b4771843a293cde48a31d",
       "version_major": 2,
       "version_minor": 0
      },
      "text/plain": [
       "  0%|          | 0/1000 [00:00<?, ?it/s]"
      ]
     },
     "metadata": {},
     "output_type": "display_data"
    },
    {
     "name": "stderr",
     "output_type": "stream",
     "text": [
      "Epoch 90: 14.8s to complete\n",
      "    error(train)=3.20e-01, acc(train)=8.89e-01, error(valid)=4.59e-01, acc(valid)=8.46e-01\n"
     ]
    },
    {
     "data": {
      "application/vnd.jupyter.widget-view+json": {
       "model_id": "40a8427ef4b8492c9361204a408f5bd2",
       "version_major": 2,
       "version_minor": 0
      },
      "text/plain": [
       "  0%|          | 0/1000 [00:00<?, ?it/s]"
      ]
     },
     "metadata": {},
     "output_type": "display_data"
    },
    {
     "name": "stderr",
     "output_type": "stream",
     "text": [
      "Epoch 91: 14.9s to complete\n",
      "    error(train)=3.18e-01, acc(train)=8.91e-01, error(valid)=4.56e-01, acc(valid)=8.49e-01\n"
     ]
    },
    {
     "data": {
      "application/vnd.jupyter.widget-view+json": {
       "model_id": "83a3df2afcf344e2a188d1cfaa6e719c",
       "version_major": 2,
       "version_minor": 0
      },
      "text/plain": [
       "  0%|          | 0/1000 [00:00<?, ?it/s]"
      ]
     },
     "metadata": {},
     "output_type": "display_data"
    },
    {
     "name": "stderr",
     "output_type": "stream",
     "text": [
      "Epoch 92: 14.9s to complete\n",
      "    error(train)=3.20e-01, acc(train)=8.90e-01, error(valid)=4.59e-01, acc(valid)=8.46e-01\n"
     ]
    },
    {
     "data": {
      "application/vnd.jupyter.widget-view+json": {
       "model_id": "b5b7d0823f4241358fadd5c7edd84a49",
       "version_major": 2,
       "version_minor": 0
      },
      "text/plain": [
       "  0%|          | 0/1000 [00:00<?, ?it/s]"
      ]
     },
     "metadata": {},
     "output_type": "display_data"
    },
    {
     "name": "stderr",
     "output_type": "stream",
     "text": [
      "Epoch 93: 14.8s to complete\n",
      "    error(train)=3.20e-01, acc(train)=8.90e-01, error(valid)=4.59e-01, acc(valid)=8.50e-01\n"
     ]
    },
    {
     "data": {
      "application/vnd.jupyter.widget-view+json": {
       "model_id": "6e46367879f94031850453c6ca21d948",
       "version_major": 2,
       "version_minor": 0
      },
      "text/plain": [
       "  0%|          | 0/1000 [00:00<?, ?it/s]"
      ]
     },
     "metadata": {},
     "output_type": "display_data"
    },
    {
     "name": "stderr",
     "output_type": "stream",
     "text": [
      "Epoch 94: 14.8s to complete\n",
      "    error(train)=3.15e-01, acc(train)=8.92e-01, error(valid)=4.57e-01, acc(valid)=8.47e-01\n"
     ]
    },
    {
     "data": {
      "application/vnd.jupyter.widget-view+json": {
       "model_id": "0de4d677436646abb9875aa80dc9cb15",
       "version_major": 2,
       "version_minor": 0
      },
      "text/plain": [
       "  0%|          | 0/1000 [00:00<?, ?it/s]"
      ]
     },
     "metadata": {},
     "output_type": "display_data"
    },
    {
     "name": "stderr",
     "output_type": "stream",
     "text": [
      "Epoch 95: 15.3s to complete\n",
      "    error(train)=3.20e-01, acc(train)=8.90e-01, error(valid)=4.63e-01, acc(valid)=8.46e-01\n"
     ]
    },
    {
     "data": {
      "application/vnd.jupyter.widget-view+json": {
       "model_id": "6b5ca73c16064980bca00da83507a8c9",
       "version_major": 2,
       "version_minor": 0
      },
      "text/plain": [
       "  0%|          | 0/1000 [00:00<?, ?it/s]"
      ]
     },
     "metadata": {},
     "output_type": "display_data"
    },
    {
     "name": "stderr",
     "output_type": "stream",
     "text": [
      "Epoch 96: 13.1s to complete\n",
      "    error(train)=3.13e-01, acc(train)=8.93e-01, error(valid)=4.56e-01, acc(valid)=8.50e-01\n"
     ]
    },
    {
     "data": {
      "application/vnd.jupyter.widget-view+json": {
       "model_id": "be5bdbfa4dfe4ecdac0072c93cde4bf6",
       "version_major": 2,
       "version_minor": 0
      },
      "text/plain": [
       "  0%|          | 0/1000 [00:00<?, ?it/s]"
      ]
     },
     "metadata": {},
     "output_type": "display_data"
    },
    {
     "name": "stderr",
     "output_type": "stream",
     "text": [
      "Epoch 97: 14.7s to complete\n",
      "    error(train)=3.12e-01, acc(train)=8.93e-01, error(valid)=4.55e-01, acc(valid)=8.48e-01\n"
     ]
    },
    {
     "data": {
      "application/vnd.jupyter.widget-view+json": {
       "model_id": "788ef1273c9d4709be13a56ddb1cc8f2",
       "version_major": 2,
       "version_minor": 0
      },
      "text/plain": [
       "  0%|          | 0/1000 [00:00<?, ?it/s]"
      ]
     },
     "metadata": {},
     "output_type": "display_data"
    },
    {
     "name": "stderr",
     "output_type": "stream",
     "text": [
      "Epoch 98: 13.2s to complete\n",
      "    error(train)=3.09e-01, acc(train)=8.93e-01, error(valid)=4.53e-01, acc(valid)=8.48e-01\n"
     ]
    },
    {
     "data": {
      "application/vnd.jupyter.widget-view+json": {
       "model_id": "68ddee9219034960b52e6b08648cb5f3",
       "version_major": 2,
       "version_minor": 0
      },
      "text/plain": [
       "  0%|          | 0/1000 [00:00<?, ?it/s]"
      ]
     },
     "metadata": {},
     "output_type": "display_data"
    },
    {
     "name": "stderr",
     "output_type": "stream",
     "text": [
      "Epoch 99: 14.1s to complete\n",
      "    error(train)=3.08e-01, acc(train)=8.95e-01, error(valid)=4.51e-01, acc(valid)=8.53e-01\n"
     ]
    },
    {
     "data": {
      "application/vnd.jupyter.widget-view+json": {
       "model_id": "9203699c52bd491c9943599f4bba0c41",
       "version_major": 2,
       "version_minor": 0
      },
      "text/plain": [
       "  0%|          | 0/1000 [00:00<?, ?it/s]"
      ]
     },
     "metadata": {},
     "output_type": "display_data"
    },
    {
     "name": "stderr",
     "output_type": "stream",
     "text": [
      "Epoch 100: 14.4s to complete\n",
      "    error(train)=3.07e-01, acc(train)=8.95e-01, error(valid)=4.52e-01, acc(valid)=8.51e-01\n"
     ]
    },
    {
     "data": {
      "application/vnd.jupyter.widget-view+json": {
       "model_id": "831d2742415d4d519c8a26a620ffb276",
       "version_major": 2,
       "version_minor": 0
      },
      "text/plain": [
       "  0%|          | 0/100 [00:00<?, ?it/s]"
      ]
     },
     "metadata": {},
     "output_type": "display_data"
    },
    {
     "data": {
      "application/vnd.jupyter.widget-view+json": {
       "model_id": "2cbf08e32d9c42139001825ec112fb39",
       "version_major": 2,
       "version_minor": 0
      },
      "text/plain": [
       "  0%|          | 0/1000 [00:00<?, ?it/s]"
      ]
     },
     "metadata": {},
     "output_type": "display_data"
    },
    {
     "name": "stderr",
     "output_type": "stream",
     "text": [
      "Epoch 1: 2.4s to complete\n",
      "    error(train)=1.35e+00, acc(train)=6.27e-01, error(valid)=1.35e+00, acc(valid)=6.27e-01\n"
     ]
    },
    {
     "data": {
      "application/vnd.jupyter.widget-view+json": {
       "model_id": "17b4b6d7d7b24bca87793cb623287a11",
       "version_major": 2,
       "version_minor": 0
      },
      "text/plain": [
       "  0%|          | 0/1000 [00:00<?, ?it/s]"
      ]
     },
     "metadata": {},
     "output_type": "display_data"
    },
    {
     "name": "stderr",
     "output_type": "stream",
     "text": [
      "Epoch 2: 2.4s to complete\n",
      "    error(train)=1.11e+00, acc(train)=6.89e-01, error(valid)=1.11e+00, acc(valid)=6.89e-01\n"
     ]
    },
    {
     "data": {
      "application/vnd.jupyter.widget-view+json": {
       "model_id": "25f709b8d94841c29da0ce8ae5b28d02",
       "version_major": 2,
       "version_minor": 0
      },
      "text/plain": [
       "  0%|          | 0/1000 [00:00<?, ?it/s]"
      ]
     },
     "metadata": {},
     "output_type": "display_data"
    },
    {
     "name": "stderr",
     "output_type": "stream",
     "text": [
      "Epoch 3: 2.4s to complete\n",
      "    error(train)=9.89e-01, acc(train)=7.15e-01, error(valid)=9.97e-01, acc(valid)=7.16e-01\n"
     ]
    },
    {
     "data": {
      "application/vnd.jupyter.widget-view+json": {
       "model_id": "9a20df6414404287adf7e49936381af9",
       "version_major": 2,
       "version_minor": 0
      },
      "text/plain": [
       "  0%|          | 0/1000 [00:00<?, ?it/s]"
      ]
     },
     "metadata": {},
     "output_type": "display_data"
    },
    {
     "name": "stderr",
     "output_type": "stream",
     "text": [
      "Epoch 4: 2.3s to complete\n",
      "    error(train)=8.93e-01, acc(train)=7.42e-01, error(valid)=9.06e-01, acc(valid)=7.43e-01\n"
     ]
    },
    {
     "data": {
      "application/vnd.jupyter.widget-view+json": {
       "model_id": "527af31fb902475194b6bd9ae1d1cd4c",
       "version_major": 2,
       "version_minor": 0
      },
      "text/plain": [
       "  0%|          | 0/1000 [00:00<?, ?it/s]"
      ]
     },
     "metadata": {},
     "output_type": "display_data"
    },
    {
     "name": "stderr",
     "output_type": "stream",
     "text": [
      "Epoch 5: 2.4s to complete\n",
      "    error(train)=8.34e-01, acc(train)=7.55e-01, error(valid)=8.50e-01, acc(valid)=7.51e-01\n"
     ]
    },
    {
     "data": {
      "application/vnd.jupyter.widget-view+json": {
       "model_id": "916017b95c564c59b4ba1a82658955ba",
       "version_major": 2,
       "version_minor": 0
      },
      "text/plain": [
       "  0%|          | 0/1000 [00:00<?, ?it/s]"
      ]
     },
     "metadata": {},
     "output_type": "display_data"
    },
    {
     "name": "stderr",
     "output_type": "stream",
     "text": [
      "Epoch 6: 2.4s to complete\n",
      "    error(train)=7.86e-01, acc(train)=7.68e-01, error(valid)=8.06e-01, acc(valid)=7.62e-01\n"
     ]
    },
    {
     "data": {
      "application/vnd.jupyter.widget-view+json": {
       "model_id": "05048c3da0544d69bba7a6c3e033280c",
       "version_major": 2,
       "version_minor": 0
      },
      "text/plain": [
       "  0%|          | 0/1000 [00:00<?, ?it/s]"
      ]
     },
     "metadata": {},
     "output_type": "display_data"
    },
    {
     "name": "stderr",
     "output_type": "stream",
     "text": [
      "Epoch 7: 2.4s to complete\n",
      "    error(train)=7.45e-01, acc(train)=7.79e-01, error(valid)=7.67e-01, acc(valid)=7.70e-01\n"
     ]
    },
    {
     "data": {
      "application/vnd.jupyter.widget-view+json": {
       "model_id": "b9d2a72b3d06463a99845e1978bcc074",
       "version_major": 2,
       "version_minor": 0
      },
      "text/plain": [
       "  0%|          | 0/1000 [00:00<?, ?it/s]"
      ]
     },
     "metadata": {},
     "output_type": "display_data"
    },
    {
     "name": "stderr",
     "output_type": "stream",
     "text": [
      "Epoch 8: 2.5s to complete\n",
      "    error(train)=7.19e-01, acc(train)=7.84e-01, error(valid)=7.44e-01, acc(valid)=7.75e-01\n"
     ]
    },
    {
     "data": {
      "application/vnd.jupyter.widget-view+json": {
       "model_id": "ddb9c889f9034f22a1a44e7ddec0a352",
       "version_major": 2,
       "version_minor": 0
      },
      "text/plain": [
       "  0%|          | 0/1000 [00:00<?, ?it/s]"
      ]
     },
     "metadata": {},
     "output_type": "display_data"
    },
    {
     "name": "stderr",
     "output_type": "stream",
     "text": [
      "Epoch 9: 2.4s to complete\n",
      "    error(train)=6.85e-01, acc(train)=7.94e-01, error(valid)=7.11e-01, acc(valid)=7.85e-01\n"
     ]
    },
    {
     "data": {
      "application/vnd.jupyter.widget-view+json": {
       "model_id": "8bb47f41c0194d88a6a0c545e0da163a",
       "version_major": 2,
       "version_minor": 0
      },
      "text/plain": [
       "  0%|          | 0/1000 [00:00<?, ?it/s]"
      ]
     },
     "metadata": {},
     "output_type": "display_data"
    },
    {
     "name": "stderr",
     "output_type": "stream",
     "text": [
      "Epoch 10: 2.6s to complete\n",
      "    error(train)=6.64e-01, acc(train)=7.98e-01, error(valid)=6.93e-01, acc(valid)=7.92e-01\n"
     ]
    },
    {
     "data": {
      "application/vnd.jupyter.widget-view+json": {
       "model_id": "4ed615f26a6044f3bfae7538d3c7c282",
       "version_major": 2,
       "version_minor": 0
      },
      "text/plain": [
       "  0%|          | 0/1000 [00:00<?, ?it/s]"
      ]
     },
     "metadata": {},
     "output_type": "display_data"
    },
    {
     "name": "stderr",
     "output_type": "stream",
     "text": [
      "Epoch 11: 2.3s to complete\n",
      "    error(train)=6.43e-01, acc(train)=8.04e-01, error(valid)=6.73e-01, acc(valid)=7.93e-01\n"
     ]
    },
    {
     "data": {
      "application/vnd.jupyter.widget-view+json": {
       "model_id": "22e0864aa71f4f1eb4d5db38cd2de6e6",
       "version_major": 2,
       "version_minor": 0
      },
      "text/plain": [
       "  0%|          | 0/1000 [00:00<?, ?it/s]"
      ]
     },
     "metadata": {},
     "output_type": "display_data"
    },
    {
     "name": "stderr",
     "output_type": "stream",
     "text": [
      "Epoch 12: 2.5s to complete\n",
      "    error(train)=6.29e-01, acc(train)=8.08e-01, error(valid)=6.60e-01, acc(valid)=8.00e-01\n"
     ]
    },
    {
     "data": {
      "application/vnd.jupyter.widget-view+json": {
       "model_id": "b23ec587891c40fd94128e1d2da4c2f3",
       "version_major": 2,
       "version_minor": 0
      },
      "text/plain": [
       "  0%|          | 0/1000 [00:00<?, ?it/s]"
      ]
     },
     "metadata": {},
     "output_type": "display_data"
    },
    {
     "name": "stderr",
     "output_type": "stream",
     "text": [
      "Epoch 13: 2.4s to complete\n",
      "    error(train)=6.11e-01, acc(train)=8.12e-01, error(valid)=6.42e-01, acc(valid)=8.03e-01\n"
     ]
    },
    {
     "data": {
      "application/vnd.jupyter.widget-view+json": {
       "model_id": "ddeafcb3030f498dbe3a848ef64a358b",
       "version_major": 2,
       "version_minor": 0
      },
      "text/plain": [
       "  0%|          | 0/1000 [00:00<?, ?it/s]"
      ]
     },
     "metadata": {},
     "output_type": "display_data"
    },
    {
     "name": "stderr",
     "output_type": "stream",
     "text": [
      "Epoch 14: 3.4s to complete\n",
      "    error(train)=5.96e-01, acc(train)=8.16e-01, error(valid)=6.29e-01, acc(valid)=8.07e-01\n"
     ]
    },
    {
     "data": {
      "application/vnd.jupyter.widget-view+json": {
       "model_id": "0290f06cdd8c4e8a8a887b695b5208d2",
       "version_major": 2,
       "version_minor": 0
      },
      "text/plain": [
       "  0%|          | 0/1000 [00:00<?, ?it/s]"
      ]
     },
     "metadata": {},
     "output_type": "display_data"
    },
    {
     "name": "stderr",
     "output_type": "stream",
     "text": [
      "Epoch 15: 3.9s to complete\n",
      "    error(train)=5.79e-01, acc(train)=8.21e-01, error(valid)=6.13e-01, acc(valid)=8.11e-01\n"
     ]
    },
    {
     "data": {
      "application/vnd.jupyter.widget-view+json": {
       "model_id": "31124555ec214bef83fcfc43f818d1c9",
       "version_major": 2,
       "version_minor": 0
      },
      "text/plain": [
       "  0%|          | 0/1000 [00:00<?, ?it/s]"
      ]
     },
     "metadata": {},
     "output_type": "display_data"
    },
    {
     "name": "stderr",
     "output_type": "stream",
     "text": [
      "Epoch 16: 4.3s to complete\n",
      "    error(train)=5.72e-01, acc(train)=8.23e-01, error(valid)=6.08e-01, acc(valid)=8.10e-01\n"
     ]
    },
    {
     "data": {
      "application/vnd.jupyter.widget-view+json": {
       "model_id": "4bc8cdbb6e184c8f969d004eae286761",
       "version_major": 2,
       "version_minor": 0
      },
      "text/plain": [
       "  0%|          | 0/1000 [00:00<?, ?it/s]"
      ]
     },
     "metadata": {},
     "output_type": "display_data"
    },
    {
     "name": "stderr",
     "output_type": "stream",
     "text": [
      "Epoch 17: 5.3s to complete\n",
      "    error(train)=5.61e-01, acc(train)=8.25e-01, error(valid)=5.98e-01, acc(valid)=8.14e-01\n"
     ]
    },
    {
     "data": {
      "application/vnd.jupyter.widget-view+json": {
       "model_id": "e1b75f2c35b54526b7fde93548fe36ba",
       "version_major": 2,
       "version_minor": 0
      },
      "text/plain": [
       "  0%|          | 0/1000 [00:00<?, ?it/s]"
      ]
     },
     "metadata": {},
     "output_type": "display_data"
    },
    {
     "name": "stderr",
     "output_type": "stream",
     "text": [
      "Epoch 18: 6.2s to complete\n",
      "    error(train)=5.46e-01, acc(train)=8.28e-01, error(valid)=5.86e-01, acc(valid)=8.16e-01\n"
     ]
    },
    {
     "data": {
      "application/vnd.jupyter.widget-view+json": {
       "model_id": "5c5ebb8867314650b21012120754ddb6",
       "version_major": 2,
       "version_minor": 0
      },
      "text/plain": [
       "  0%|          | 0/1000 [00:00<?, ?it/s]"
      ]
     },
     "metadata": {},
     "output_type": "display_data"
    },
    {
     "name": "stderr",
     "output_type": "stream",
     "text": [
      "Epoch 19: 6.5s to complete\n",
      "    error(train)=5.43e-01, acc(train)=8.29e-01, error(valid)=5.84e-01, acc(valid)=8.16e-01\n"
     ]
    },
    {
     "data": {
      "application/vnd.jupyter.widget-view+json": {
       "model_id": "87305c8a82c442b4b5272a5d81f1da93",
       "version_major": 2,
       "version_minor": 0
      },
      "text/plain": [
       "  0%|          | 0/1000 [00:00<?, ?it/s]"
      ]
     },
     "metadata": {},
     "output_type": "display_data"
    },
    {
     "name": "stderr",
     "output_type": "stream",
     "text": [
      "Epoch 20: 14.5s to complete\n",
      "    error(train)=5.32e-01, acc(train)=8.32e-01, error(valid)=5.73e-01, acc(valid)=8.17e-01\n"
     ]
    },
    {
     "data": {
      "application/vnd.jupyter.widget-view+json": {
       "model_id": "3f520ab3f735467cb0ac501efa46d9b2",
       "version_major": 2,
       "version_minor": 0
      },
      "text/plain": [
       "  0%|          | 0/1000 [00:00<?, ?it/s]"
      ]
     },
     "metadata": {},
     "output_type": "display_data"
    },
    {
     "name": "stderr",
     "output_type": "stream",
     "text": [
      "Epoch 21: 15.0s to complete\n",
      "    error(train)=5.30e-01, acc(train)=8.32e-01, error(valid)=5.74e-01, acc(valid)=8.18e-01\n"
     ]
    },
    {
     "data": {
      "application/vnd.jupyter.widget-view+json": {
       "model_id": "6a22cd2fbe43490b8c192a5227db061e",
       "version_major": 2,
       "version_minor": 0
      },
      "text/plain": [
       "  0%|          | 0/1000 [00:00<?, ?it/s]"
      ]
     },
     "metadata": {},
     "output_type": "display_data"
    },
    {
     "name": "stderr",
     "output_type": "stream",
     "text": [
      "Epoch 22: 12.7s to complete\n",
      "    error(train)=5.18e-01, acc(train)=8.37e-01, error(valid)=5.62e-01, acc(valid)=8.22e-01\n"
     ]
    },
    {
     "data": {
      "application/vnd.jupyter.widget-view+json": {
       "model_id": "a3210b7ec2b14d27a8555167aadbc6ab",
       "version_major": 2,
       "version_minor": 0
      },
      "text/plain": [
       "  0%|          | 0/1000 [00:00<?, ?it/s]"
      ]
     },
     "metadata": {},
     "output_type": "display_data"
    },
    {
     "name": "stderr",
     "output_type": "stream",
     "text": [
      "Epoch 23: 13.7s to complete\n",
      "    error(train)=5.12e-01, acc(train)=8.37e-01, error(valid)=5.59e-01, acc(valid)=8.24e-01\n"
     ]
    },
    {
     "data": {
      "application/vnd.jupyter.widget-view+json": {
       "model_id": "9547d55f1d6144e68b457d5f8a64430f",
       "version_major": 2,
       "version_minor": 0
      },
      "text/plain": [
       "  0%|          | 0/1000 [00:00<?, ?it/s]"
      ]
     },
     "metadata": {},
     "output_type": "display_data"
    },
    {
     "name": "stderr",
     "output_type": "stream",
     "text": [
      "Epoch 24: 13.0s to complete\n",
      "    error(train)=5.05e-01, acc(train)=8.40e-01, error(valid)=5.53e-01, acc(valid)=8.23e-01\n"
     ]
    },
    {
     "data": {
      "application/vnd.jupyter.widget-view+json": {
       "model_id": "4fd9e5cb36cc4a1e86c786a45fd59534",
       "version_major": 2,
       "version_minor": 0
      },
      "text/plain": [
       "  0%|          | 0/1000 [00:00<?, ?it/s]"
      ]
     },
     "metadata": {},
     "output_type": "display_data"
    },
    {
     "name": "stderr",
     "output_type": "stream",
     "text": [
      "Epoch 25: 12.9s to complete\n",
      "    error(train)=5.00e-01, acc(train)=8.41e-01, error(valid)=5.48e-01, acc(valid)=8.26e-01\n"
     ]
    },
    {
     "data": {
      "application/vnd.jupyter.widget-view+json": {
       "model_id": "391118b76a404849898c6fef0ae2130e",
       "version_major": 2,
       "version_minor": 0
      },
      "text/plain": [
       "  0%|          | 0/1000 [00:00<?, ?it/s]"
      ]
     },
     "metadata": {},
     "output_type": "display_data"
    },
    {
     "name": "stderr",
     "output_type": "stream",
     "text": [
      "Epoch 26: 13.6s to complete\n",
      "    error(train)=4.98e-01, acc(train)=8.41e-01, error(valid)=5.45e-01, acc(valid)=8.24e-01\n"
     ]
    },
    {
     "data": {
      "application/vnd.jupyter.widget-view+json": {
       "model_id": "86bd09d8d1b74028b7c848bfa55e29b8",
       "version_major": 2,
       "version_minor": 0
      },
      "text/plain": [
       "  0%|          | 0/1000 [00:00<?, ?it/s]"
      ]
     },
     "metadata": {},
     "output_type": "display_data"
    },
    {
     "name": "stderr",
     "output_type": "stream",
     "text": [
      "Epoch 27: 12.6s to complete\n",
      "    error(train)=4.90e-01, acc(train)=8.42e-01, error(valid)=5.43e-01, acc(valid)=8.25e-01\n"
     ]
    },
    {
     "data": {
      "application/vnd.jupyter.widget-view+json": {
       "model_id": "dc0f0e5f987d40cbb8fce9cce0196ae9",
       "version_major": 2,
       "version_minor": 0
      },
      "text/plain": [
       "  0%|          | 0/1000 [00:00<?, ?it/s]"
      ]
     },
     "metadata": {},
     "output_type": "display_data"
    },
    {
     "name": "stderr",
     "output_type": "stream",
     "text": [
      "Epoch 28: 13.8s to complete\n",
      "    error(train)=4.80e-01, acc(train)=8.46e-01, error(valid)=5.34e-01, acc(valid)=8.29e-01\n"
     ]
    },
    {
     "data": {
      "application/vnd.jupyter.widget-view+json": {
       "model_id": "5871cbd009214c8588e6b00350b15761",
       "version_major": 2,
       "version_minor": 0
      },
      "text/plain": [
       "  0%|          | 0/1000 [00:00<?, ?it/s]"
      ]
     },
     "metadata": {},
     "output_type": "display_data"
    },
    {
     "name": "stderr",
     "output_type": "stream",
     "text": [
      "Epoch 29: 14.6s to complete\n",
      "    error(train)=4.78e-01, acc(train)=8.46e-01, error(valid)=5.31e-01, acc(valid)=8.27e-01\n"
     ]
    },
    {
     "data": {
      "application/vnd.jupyter.widget-view+json": {
       "model_id": "fd12259099054d7d8568d30b8f8f14b7",
       "version_major": 2,
       "version_minor": 0
      },
      "text/plain": [
       "  0%|          | 0/1000 [00:00<?, ?it/s]"
      ]
     },
     "metadata": {},
     "output_type": "display_data"
    },
    {
     "name": "stderr",
     "output_type": "stream",
     "text": [
      "Epoch 30: 14.3s to complete\n",
      "    error(train)=4.72e-01, acc(train)=8.50e-01, error(valid)=5.27e-01, acc(valid)=8.31e-01\n"
     ]
    },
    {
     "data": {
      "application/vnd.jupyter.widget-view+json": {
       "model_id": "25d5b8d0dffa41afb1d3d8d9aceffdc1",
       "version_major": 2,
       "version_minor": 0
      },
      "text/plain": [
       "  0%|          | 0/1000 [00:00<?, ?it/s]"
      ]
     },
     "metadata": {},
     "output_type": "display_data"
    },
    {
     "name": "stderr",
     "output_type": "stream",
     "text": [
      "Epoch 31: 14.4s to complete\n",
      "    error(train)=4.67e-01, acc(train)=8.50e-01, error(valid)=5.24e-01, acc(valid)=8.33e-01\n"
     ]
    },
    {
     "data": {
      "application/vnd.jupyter.widget-view+json": {
       "model_id": "98703261846e45419a103d88243703dd",
       "version_major": 2,
       "version_minor": 0
      },
      "text/plain": [
       "  0%|          | 0/1000 [00:00<?, ?it/s]"
      ]
     },
     "metadata": {},
     "output_type": "display_data"
    },
    {
     "name": "stderr",
     "output_type": "stream",
     "text": [
      "Epoch 32: 10.8s to complete\n",
      "    error(train)=4.66e-01, acc(train)=8.51e-01, error(valid)=5.22e-01, acc(valid)=8.32e-01\n"
     ]
    },
    {
     "data": {
      "application/vnd.jupyter.widget-view+json": {
       "model_id": "8b14a1a1e9914b51a970e82b8b8afd1a",
       "version_major": 2,
       "version_minor": 0
      },
      "text/plain": [
       "  0%|          | 0/1000 [00:00<?, ?it/s]"
      ]
     },
     "metadata": {},
     "output_type": "display_data"
    },
    {
     "name": "stderr",
     "output_type": "stream",
     "text": [
      "Epoch 33: 12.7s to complete\n",
      "    error(train)=4.59e-01, acc(train)=8.52e-01, error(valid)=5.16e-01, acc(valid)=8.33e-01\n"
     ]
    },
    {
     "data": {
      "application/vnd.jupyter.widget-view+json": {
       "model_id": "aae4e952a8694057b4828096e3cdc170",
       "version_major": 2,
       "version_minor": 0
      },
      "text/plain": [
       "  0%|          | 0/1000 [00:00<?, ?it/s]"
      ]
     },
     "metadata": {},
     "output_type": "display_data"
    },
    {
     "name": "stderr",
     "output_type": "stream",
     "text": [
      "Epoch 34: 11.2s to complete\n",
      "    error(train)=4.56e-01, acc(train)=8.53e-01, error(valid)=5.16e-01, acc(valid)=8.32e-01\n"
     ]
    },
    {
     "data": {
      "application/vnd.jupyter.widget-view+json": {
       "model_id": "3779f098cfd344ac974170376487fbb0",
       "version_major": 2,
       "version_minor": 0
      },
      "text/plain": [
       "  0%|          | 0/1000 [00:00<?, ?it/s]"
      ]
     },
     "metadata": {},
     "output_type": "display_data"
    },
    {
     "name": "stderr",
     "output_type": "stream",
     "text": [
      "Epoch 35: 11.6s to complete\n",
      "    error(train)=4.56e-01, acc(train)=8.54e-01, error(valid)=5.15e-01, acc(valid)=8.32e-01\n"
     ]
    },
    {
     "data": {
      "application/vnd.jupyter.widget-view+json": {
       "model_id": "c7e93c6cb4f04b6aa74443c1f17c3631",
       "version_major": 2,
       "version_minor": 0
      },
      "text/plain": [
       "  0%|          | 0/1000 [00:00<?, ?it/s]"
      ]
     },
     "metadata": {},
     "output_type": "display_data"
    },
    {
     "name": "stderr",
     "output_type": "stream",
     "text": [
      "Epoch 36: 13.2s to complete\n",
      "    error(train)=4.52e-01, acc(train)=8.54e-01, error(valid)=5.13e-01, acc(valid)=8.35e-01\n"
     ]
    },
    {
     "data": {
      "application/vnd.jupyter.widget-view+json": {
       "model_id": "3eb4453f0ca84a4d9cb7be0f83ffba90",
       "version_major": 2,
       "version_minor": 0
      },
      "text/plain": [
       "  0%|          | 0/1000 [00:00<?, ?it/s]"
      ]
     },
     "metadata": {},
     "output_type": "display_data"
    },
    {
     "name": "stderr",
     "output_type": "stream",
     "text": [
      "Epoch 37: 13.5s to complete\n",
      "    error(train)=4.47e-01, acc(train)=8.55e-01, error(valid)=5.08e-01, acc(valid)=8.36e-01\n"
     ]
    },
    {
     "data": {
      "application/vnd.jupyter.widget-view+json": {
       "model_id": "a9c9e2e644ae44ddb984bf1c08c2136b",
       "version_major": 2,
       "version_minor": 0
      },
      "text/plain": [
       "  0%|          | 0/1000 [00:00<?, ?it/s]"
      ]
     },
     "metadata": {},
     "output_type": "display_data"
    },
    {
     "name": "stderr",
     "output_type": "stream",
     "text": [
      "Epoch 38: 12.6s to complete\n",
      "    error(train)=4.42e-01, acc(train)=8.56e-01, error(valid)=5.04e-01, acc(valid)=8.36e-01\n"
     ]
    },
    {
     "data": {
      "application/vnd.jupyter.widget-view+json": {
       "model_id": "e29aa5b65e7f4441a4f4ffb370879010",
       "version_major": 2,
       "version_minor": 0
      },
      "text/plain": [
       "  0%|          | 0/1000 [00:00<?, ?it/s]"
      ]
     },
     "metadata": {},
     "output_type": "display_data"
    },
    {
     "name": "stderr",
     "output_type": "stream",
     "text": [
      "Epoch 39: 14.0s to complete\n",
      "    error(train)=4.45e-01, acc(train)=8.56e-01, error(valid)=5.09e-01, acc(valid)=8.36e-01\n"
     ]
    },
    {
     "data": {
      "application/vnd.jupyter.widget-view+json": {
       "model_id": "14c8cfbde5a14862a3341bd2b513d5d7",
       "version_major": 2,
       "version_minor": 0
      },
      "text/plain": [
       "  0%|          | 0/1000 [00:00<?, ?it/s]"
      ]
     },
     "metadata": {},
     "output_type": "display_data"
    },
    {
     "name": "stderr",
     "output_type": "stream",
     "text": [
      "Epoch 40: 14.5s to complete\n",
      "    error(train)=4.37e-01, acc(train)=8.60e-01, error(valid)=5.01e-01, acc(valid)=8.37e-01\n"
     ]
    },
    {
     "data": {
      "application/vnd.jupyter.widget-view+json": {
       "model_id": "bf028f102fc34de08c5208ad4c98576c",
       "version_major": 2,
       "version_minor": 0
      },
      "text/plain": [
       "  0%|          | 0/1000 [00:00<?, ?it/s]"
      ]
     },
     "metadata": {},
     "output_type": "display_data"
    },
    {
     "name": "stderr",
     "output_type": "stream",
     "text": [
      "Epoch 41: 11.8s to complete\n",
      "    error(train)=4.33e-01, acc(train)=8.59e-01, error(valid)=4.98e-01, acc(valid)=8.36e-01\n"
     ]
    },
    {
     "data": {
      "application/vnd.jupyter.widget-view+json": {
       "model_id": "76bd4d658f93484383853c9d5027a8ce",
       "version_major": 2,
       "version_minor": 0
      },
      "text/plain": [
       "  0%|          | 0/1000 [00:00<?, ?it/s]"
      ]
     },
     "metadata": {},
     "output_type": "display_data"
    },
    {
     "name": "stderr",
     "output_type": "stream",
     "text": [
      "Epoch 42: 13.8s to complete\n",
      "    error(train)=4.34e-01, acc(train)=8.58e-01, error(valid)=5.00e-01, acc(valid)=8.36e-01\n"
     ]
    },
    {
     "data": {
      "application/vnd.jupyter.widget-view+json": {
       "model_id": "8e444bfd2e984229ad910afa711df617",
       "version_major": 2,
       "version_minor": 0
      },
      "text/plain": [
       "  0%|          | 0/1000 [00:00<?, ?it/s]"
      ]
     },
     "metadata": {},
     "output_type": "display_data"
    },
    {
     "name": "stderr",
     "output_type": "stream",
     "text": [
      "Epoch 43: 13.0s to complete\n",
      "    error(train)=4.29e-01, acc(train)=8.61e-01, error(valid)=4.95e-01, acc(valid)=8.38e-01\n"
     ]
    },
    {
     "data": {
      "application/vnd.jupyter.widget-view+json": {
       "model_id": "9940609efda4436c9847b5a18ebb0690",
       "version_major": 2,
       "version_minor": 0
      },
      "text/plain": [
       "  0%|          | 0/1000 [00:00<?, ?it/s]"
      ]
     },
     "metadata": {},
     "output_type": "display_data"
    },
    {
     "name": "stderr",
     "output_type": "stream",
     "text": [
      "Epoch 44: 14.0s to complete\n",
      "    error(train)=4.28e-01, acc(train)=8.61e-01, error(valid)=4.96e-01, acc(valid)=8.38e-01\n"
     ]
    },
    {
     "data": {
      "application/vnd.jupyter.widget-view+json": {
       "model_id": "3c9682d18c1d48f7908a74aa72214121",
       "version_major": 2,
       "version_minor": 0
      },
      "text/plain": [
       "  0%|          | 0/1000 [00:00<?, ?it/s]"
      ]
     },
     "metadata": {},
     "output_type": "display_data"
    },
    {
     "name": "stderr",
     "output_type": "stream",
     "text": [
      "Epoch 45: 12.8s to complete\n",
      "    error(train)=4.26e-01, acc(train)=8.62e-01, error(valid)=4.93e-01, acc(valid)=8.41e-01\n"
     ]
    },
    {
     "data": {
      "application/vnd.jupyter.widget-view+json": {
       "model_id": "5d6a00887c1344189d829a5a66565a43",
       "version_major": 2,
       "version_minor": 0
      },
      "text/plain": [
       "  0%|          | 0/1000 [00:00<?, ?it/s]"
      ]
     },
     "metadata": {},
     "output_type": "display_data"
    },
    {
     "name": "stderr",
     "output_type": "stream",
     "text": [
      "Epoch 46: 14.4s to complete\n",
      "    error(train)=4.21e-01, acc(train)=8.63e-01, error(valid)=4.91e-01, acc(valid)=8.42e-01\n"
     ]
    },
    {
     "data": {
      "application/vnd.jupyter.widget-view+json": {
       "model_id": "d673926c2dd54b5e8a07038afd98aaad",
       "version_major": 2,
       "version_minor": 0
      },
      "text/plain": [
       "  0%|          | 0/1000 [00:00<?, ?it/s]"
      ]
     },
     "metadata": {},
     "output_type": "display_data"
    },
    {
     "name": "stderr",
     "output_type": "stream",
     "text": [
      "Epoch 47: 13.8s to complete\n",
      "    error(train)=4.19e-01, acc(train)=8.64e-01, error(valid)=4.90e-01, acc(valid)=8.40e-01\n"
     ]
    },
    {
     "data": {
      "application/vnd.jupyter.widget-view+json": {
       "model_id": "68850b7becca4392870610056ce6d9ce",
       "version_major": 2,
       "version_minor": 0
      },
      "text/plain": [
       "  0%|          | 0/1000 [00:00<?, ?it/s]"
      ]
     },
     "metadata": {},
     "output_type": "display_data"
    },
    {
     "name": "stderr",
     "output_type": "stream",
     "text": [
      "Epoch 48: 14.8s to complete\n",
      "    error(train)=4.16e-01, acc(train)=8.64e-01, error(valid)=4.88e-01, acc(valid)=8.40e-01\n"
     ]
    },
    {
     "data": {
      "application/vnd.jupyter.widget-view+json": {
       "model_id": "6a90f940a1bf46cd95ae3cd5925f06cc",
       "version_major": 2,
       "version_minor": 0
      },
      "text/plain": [
       "  0%|          | 0/1000 [00:00<?, ?it/s]"
      ]
     },
     "metadata": {},
     "output_type": "display_data"
    },
    {
     "name": "stderr",
     "output_type": "stream",
     "text": [
      "Epoch 49: 13.6s to complete\n",
      "    error(train)=4.16e-01, acc(train)=8.65e-01, error(valid)=4.86e-01, acc(valid)=8.41e-01\n"
     ]
    },
    {
     "data": {
      "application/vnd.jupyter.widget-view+json": {
       "model_id": "cb5e8ed6b75b4673a6c0ed6aa7d27cf0",
       "version_major": 2,
       "version_minor": 0
      },
      "text/plain": [
       "  0%|          | 0/1000 [00:00<?, ?it/s]"
      ]
     },
     "metadata": {},
     "output_type": "display_data"
    },
    {
     "name": "stderr",
     "output_type": "stream",
     "text": [
      "Epoch 50: 14.1s to complete\n",
      "    error(train)=4.12e-01, acc(train)=8.66e-01, error(valid)=4.86e-01, acc(valid)=8.41e-01\n"
     ]
    },
    {
     "data": {
      "application/vnd.jupyter.widget-view+json": {
       "model_id": "72c781f2d8644dffa5473050e3eccd49",
       "version_major": 2,
       "version_minor": 0
      },
      "text/plain": [
       "  0%|          | 0/1000 [00:00<?, ?it/s]"
      ]
     },
     "metadata": {},
     "output_type": "display_data"
    },
    {
     "name": "stderr",
     "output_type": "stream",
     "text": [
      "Epoch 51: 14.7s to complete\n",
      "    error(train)=4.13e-01, acc(train)=8.65e-01, error(valid)=4.84e-01, acc(valid)=8.41e-01\n"
     ]
    },
    {
     "data": {
      "application/vnd.jupyter.widget-view+json": {
       "model_id": "69f29de6f9ea4935a56f4a419ba32f70",
       "version_major": 2,
       "version_minor": 0
      },
      "text/plain": [
       "  0%|          | 0/1000 [00:00<?, ?it/s]"
      ]
     },
     "metadata": {},
     "output_type": "display_data"
    },
    {
     "name": "stderr",
     "output_type": "stream",
     "text": [
      "Epoch 52: 12.7s to complete\n",
      "    error(train)=4.07e-01, acc(train)=8.67e-01, error(valid)=4.80e-01, acc(valid)=8.43e-01\n"
     ]
    },
    {
     "data": {
      "application/vnd.jupyter.widget-view+json": {
       "model_id": "d7db8015b17b40159dbf88423e131219",
       "version_major": 2,
       "version_minor": 0
      },
      "text/plain": [
       "  0%|          | 0/1000 [00:00<?, ?it/s]"
      ]
     },
     "metadata": {},
     "output_type": "display_data"
    },
    {
     "name": "stderr",
     "output_type": "stream",
     "text": [
      "Epoch 53: 13.5s to complete\n",
      "    error(train)=4.06e-01, acc(train)=8.68e-01, error(valid)=4.80e-01, acc(valid)=8.45e-01\n"
     ]
    },
    {
     "data": {
      "application/vnd.jupyter.widget-view+json": {
       "model_id": "c5f009b4293f4f10a00f6f2c2ec0b528",
       "version_major": 2,
       "version_minor": 0
      },
      "text/plain": [
       "  0%|          | 0/1000 [00:00<?, ?it/s]"
      ]
     },
     "metadata": {},
     "output_type": "display_data"
    },
    {
     "name": "stderr",
     "output_type": "stream",
     "text": [
      "Epoch 54: 14.2s to complete\n",
      "    error(train)=4.08e-01, acc(train)=8.66e-01, error(valid)=4.82e-01, acc(valid)=8.43e-01\n"
     ]
    },
    {
     "data": {
      "application/vnd.jupyter.widget-view+json": {
       "model_id": "8103dbee4ddf406b9103cd3ba1280f5d",
       "version_major": 2,
       "version_minor": 0
      },
      "text/plain": [
       "  0%|          | 0/1000 [00:00<?, ?it/s]"
      ]
     },
     "metadata": {},
     "output_type": "display_data"
    },
    {
     "name": "stderr",
     "output_type": "stream",
     "text": [
      "Epoch 55: 12.8s to complete\n",
      "    error(train)=4.01e-01, acc(train)=8.69e-01, error(valid)=4.80e-01, acc(valid)=8.42e-01\n"
     ]
    },
    {
     "data": {
      "application/vnd.jupyter.widget-view+json": {
       "model_id": "7f48b7c973854517a2c5a3fbd8f74af8",
       "version_major": 2,
       "version_minor": 0
      },
      "text/plain": [
       "  0%|          | 0/1000 [00:00<?, ?it/s]"
      ]
     },
     "metadata": {},
     "output_type": "display_data"
    },
    {
     "name": "stderr",
     "output_type": "stream",
     "text": [
      "Epoch 56: 13.9s to complete\n",
      "    error(train)=4.03e-01, acc(train)=8.68e-01, error(valid)=4.77e-01, acc(valid)=8.45e-01\n"
     ]
    },
    {
     "data": {
      "application/vnd.jupyter.widget-view+json": {
       "model_id": "ecc81e875bf64e9f94630a7448c5907e",
       "version_major": 2,
       "version_minor": 0
      },
      "text/plain": [
       "  0%|          | 0/1000 [00:00<?, ?it/s]"
      ]
     },
     "metadata": {},
     "output_type": "display_data"
    },
    {
     "name": "stderr",
     "output_type": "stream",
     "text": [
      "Epoch 57: 12.7s to complete\n",
      "    error(train)=4.03e-01, acc(train)=8.68e-01, error(valid)=4.82e-01, acc(valid)=8.42e-01\n"
     ]
    },
    {
     "data": {
      "application/vnd.jupyter.widget-view+json": {
       "model_id": "c75826aa551445d48c317e1cba763367",
       "version_major": 2,
       "version_minor": 0
      },
      "text/plain": [
       "  0%|          | 0/1000 [00:00<?, ?it/s]"
      ]
     },
     "metadata": {},
     "output_type": "display_data"
    },
    {
     "name": "stderr",
     "output_type": "stream",
     "text": [
      "Epoch 58: 12.7s to complete\n",
      "    error(train)=3.99e-01, acc(train)=8.69e-01, error(valid)=4.78e-01, acc(valid)=8.43e-01\n"
     ]
    },
    {
     "data": {
      "application/vnd.jupyter.widget-view+json": {
       "model_id": "99705657dac340d1961258091fb7afc5",
       "version_major": 2,
       "version_minor": 0
      },
      "text/plain": [
       "  0%|          | 0/1000 [00:00<?, ?it/s]"
      ]
     },
     "metadata": {},
     "output_type": "display_data"
    },
    {
     "name": "stderr",
     "output_type": "stream",
     "text": [
      "Epoch 59: 12.6s to complete\n",
      "    error(train)=4.00e-01, acc(train)=8.70e-01, error(valid)=4.76e-01, acc(valid)=8.44e-01\n"
     ]
    },
    {
     "data": {
      "application/vnd.jupyter.widget-view+json": {
       "model_id": "6cacbaf6bd1f4d15906d898817ffdd20",
       "version_major": 2,
       "version_minor": 0
      },
      "text/plain": [
       "  0%|          | 0/1000 [00:00<?, ?it/s]"
      ]
     },
     "metadata": {},
     "output_type": "display_data"
    },
    {
     "name": "stderr",
     "output_type": "stream",
     "text": [
      "Epoch 60: 13.8s to complete\n",
      "    error(train)=3.94e-01, acc(train)=8.70e-01, error(valid)=4.73e-01, acc(valid)=8.44e-01\n"
     ]
    },
    {
     "data": {
      "application/vnd.jupyter.widget-view+json": {
       "model_id": "f7785f7a5324496587046794ab4becc3",
       "version_major": 2,
       "version_minor": 0
      },
      "text/plain": [
       "  0%|          | 0/1000 [00:00<?, ?it/s]"
      ]
     },
     "metadata": {},
     "output_type": "display_data"
    },
    {
     "name": "stderr",
     "output_type": "stream",
     "text": [
      "Epoch 61: 13.4s to complete\n",
      "    error(train)=3.98e-01, acc(train)=8.68e-01, error(valid)=4.78e-01, acc(valid)=8.42e-01\n"
     ]
    },
    {
     "data": {
      "application/vnd.jupyter.widget-view+json": {
       "model_id": "9aed043d38cf4c8da37063bb37c5544e",
       "version_major": 2,
       "version_minor": 0
      },
      "text/plain": [
       "  0%|          | 0/1000 [00:00<?, ?it/s]"
      ]
     },
     "metadata": {},
     "output_type": "display_data"
    },
    {
     "name": "stderr",
     "output_type": "stream",
     "text": [
      "Epoch 62: 13.7s to complete\n",
      "    error(train)=3.99e-01, acc(train)=8.69e-01, error(valid)=4.79e-01, acc(valid)=8.44e-01\n"
     ]
    },
    {
     "data": {
      "application/vnd.jupyter.widget-view+json": {
       "model_id": "e8fe29ff788a4f1283664a8f2e31532c",
       "version_major": 2,
       "version_minor": 0
      },
      "text/plain": [
       "  0%|          | 0/1000 [00:00<?, ?it/s]"
      ]
     },
     "metadata": {},
     "output_type": "display_data"
    },
    {
     "name": "stderr",
     "output_type": "stream",
     "text": [
      "Epoch 63: 12.2s to complete\n",
      "    error(train)=3.92e-01, acc(train)=8.70e-01, error(valid)=4.72e-01, acc(valid)=8.47e-01\n"
     ]
    },
    {
     "data": {
      "application/vnd.jupyter.widget-view+json": {
       "model_id": "a3a8b9602a354552b09d8a266e8e2f27",
       "version_major": 2,
       "version_minor": 0
      },
      "text/plain": [
       "  0%|          | 0/1000 [00:00<?, ?it/s]"
      ]
     },
     "metadata": {},
     "output_type": "display_data"
    },
    {
     "name": "stderr",
     "output_type": "stream",
     "text": [
      "Epoch 64: 13.0s to complete\n",
      "    error(train)=3.90e-01, acc(train)=8.71e-01, error(valid)=4.72e-01, acc(valid)=8.45e-01\n"
     ]
    },
    {
     "data": {
      "application/vnd.jupyter.widget-view+json": {
       "model_id": "2e436369f18048568ee0fe7a0bad5c55",
       "version_major": 2,
       "version_minor": 0
      },
      "text/plain": [
       "  0%|          | 0/1000 [00:00<?, ?it/s]"
      ]
     },
     "metadata": {},
     "output_type": "display_data"
    },
    {
     "name": "stderr",
     "output_type": "stream",
     "text": [
      "Epoch 65: 14.2s to complete\n",
      "    error(train)=3.89e-01, acc(train)=8.72e-01, error(valid)=4.71e-01, acc(valid)=8.45e-01\n"
     ]
    },
    {
     "data": {
      "application/vnd.jupyter.widget-view+json": {
       "model_id": "a15619154a5849c1a130b1395267fdf7",
       "version_major": 2,
       "version_minor": 0
      },
      "text/plain": [
       "  0%|          | 0/1000 [00:00<?, ?it/s]"
      ]
     },
     "metadata": {},
     "output_type": "display_data"
    },
    {
     "name": "stderr",
     "output_type": "stream",
     "text": [
      "Epoch 66: 14.3s to complete\n",
      "    error(train)=3.91e-01, acc(train)=8.71e-01, error(valid)=4.74e-01, acc(valid)=8.43e-01\n"
     ]
    },
    {
     "data": {
      "application/vnd.jupyter.widget-view+json": {
       "model_id": "be88660bdb28469cb34c888b9ec698d5",
       "version_major": 2,
       "version_minor": 0
      },
      "text/plain": [
       "  0%|          | 0/1000 [00:00<?, ?it/s]"
      ]
     },
     "metadata": {},
     "output_type": "display_data"
    },
    {
     "name": "stderr",
     "output_type": "stream",
     "text": [
      "Epoch 67: 14.6s to complete\n",
      "    error(train)=3.87e-01, acc(train)=8.72e-01, error(valid)=4.69e-01, acc(valid)=8.45e-01\n"
     ]
    },
    {
     "data": {
      "application/vnd.jupyter.widget-view+json": {
       "model_id": "23dd3ad4095440ca9e2fff2339541ad1",
       "version_major": 2,
       "version_minor": 0
      },
      "text/plain": [
       "  0%|          | 0/1000 [00:00<?, ?it/s]"
      ]
     },
     "metadata": {},
     "output_type": "display_data"
    },
    {
     "name": "stderr",
     "output_type": "stream",
     "text": [
      "Epoch 68: 12.5s to complete\n",
      "    error(train)=3.87e-01, acc(train)=8.72e-01, error(valid)=4.69e-01, acc(valid)=8.45e-01\n"
     ]
    },
    {
     "data": {
      "application/vnd.jupyter.widget-view+json": {
       "model_id": "f07bb549750f435baa5e9a06f2eb261c",
       "version_major": 2,
       "version_minor": 0
      },
      "text/plain": [
       "  0%|          | 0/1000 [00:00<?, ?it/s]"
      ]
     },
     "metadata": {},
     "output_type": "display_data"
    },
    {
     "name": "stderr",
     "output_type": "stream",
     "text": [
      "Epoch 69: 14.0s to complete\n",
      "    error(train)=3.82e-01, acc(train)=8.74e-01, error(valid)=4.66e-01, acc(valid)=8.48e-01\n"
     ]
    },
    {
     "data": {
      "application/vnd.jupyter.widget-view+json": {
       "model_id": "5a2003f4e2dd42f4822da09023e0f3e6",
       "version_major": 2,
       "version_minor": 0
      },
      "text/plain": [
       "  0%|          | 0/1000 [00:00<?, ?it/s]"
      ]
     },
     "metadata": {},
     "output_type": "display_data"
    },
    {
     "name": "stderr",
     "output_type": "stream",
     "text": [
      "Epoch 70: 12.7s to complete\n",
      "    error(train)=3.82e-01, acc(train)=8.75e-01, error(valid)=4.65e-01, acc(valid)=8.45e-01\n"
     ]
    },
    {
     "data": {
      "application/vnd.jupyter.widget-view+json": {
       "model_id": "5894f17c2a4d46c0867f19fd37fb78f2",
       "version_major": 2,
       "version_minor": 0
      },
      "text/plain": [
       "  0%|          | 0/1000 [00:00<?, ?it/s]"
      ]
     },
     "metadata": {},
     "output_type": "display_data"
    },
    {
     "name": "stderr",
     "output_type": "stream",
     "text": [
      "Epoch 71: 13.8s to complete\n",
      "    error(train)=3.81e-01, acc(train)=8.74e-01, error(valid)=4.64e-01, acc(valid)=8.49e-01\n"
     ]
    },
    {
     "data": {
      "application/vnd.jupyter.widget-view+json": {
       "model_id": "f7f31cf933ba4283bc47634876b9867f",
       "version_major": 2,
       "version_minor": 0
      },
      "text/plain": [
       "  0%|          | 0/1000 [00:00<?, ?it/s]"
      ]
     },
     "metadata": {},
     "output_type": "display_data"
    },
    {
     "name": "stderr",
     "output_type": "stream",
     "text": [
      "Epoch 72: 13.9s to complete\n",
      "    error(train)=3.80e-01, acc(train)=8.74e-01, error(valid)=4.66e-01, acc(valid)=8.45e-01\n"
     ]
    },
    {
     "data": {
      "application/vnd.jupyter.widget-view+json": {
       "model_id": "a245b687ef164b9ba1bc73edf464330b",
       "version_major": 2,
       "version_minor": 0
      },
      "text/plain": [
       "  0%|          | 0/1000 [00:00<?, ?it/s]"
      ]
     },
     "metadata": {},
     "output_type": "display_data"
    },
    {
     "name": "stderr",
     "output_type": "stream",
     "text": [
      "Epoch 73: 14.2s to complete\n",
      "    error(train)=3.79e-01, acc(train)=8.74e-01, error(valid)=4.65e-01, acc(valid)=8.48e-01\n"
     ]
    },
    {
     "data": {
      "application/vnd.jupyter.widget-view+json": {
       "model_id": "9250630bb6a348af9c56f0d1a62b225f",
       "version_major": 2,
       "version_minor": 0
      },
      "text/plain": [
       "  0%|          | 0/1000 [00:00<?, ?it/s]"
      ]
     },
     "metadata": {},
     "output_type": "display_data"
    },
    {
     "name": "stderr",
     "output_type": "stream",
     "text": [
      "Epoch 74: 16.1s to complete\n",
      "    error(train)=3.77e-01, acc(train)=8.75e-01, error(valid)=4.63e-01, acc(valid)=8.45e-01\n"
     ]
    },
    {
     "data": {
      "application/vnd.jupyter.widget-view+json": {
       "model_id": "fe2a3614f9cc4dd6870766ffadc681ec",
       "version_major": 2,
       "version_minor": 0
      },
      "text/plain": [
       "  0%|          | 0/1000 [00:00<?, ?it/s]"
      ]
     },
     "metadata": {},
     "output_type": "display_data"
    },
    {
     "name": "stderr",
     "output_type": "stream",
     "text": [
      "Epoch 75: 14.4s to complete\n",
      "    error(train)=3.77e-01, acc(train)=8.75e-01, error(valid)=4.65e-01, acc(valid)=8.47e-01\n"
     ]
    },
    {
     "data": {
      "application/vnd.jupyter.widget-view+json": {
       "model_id": "50281b88afb64c858964c99742e1d9eb",
       "version_major": 2,
       "version_minor": 0
      },
      "text/plain": [
       "  0%|          | 0/1000 [00:00<?, ?it/s]"
      ]
     },
     "metadata": {},
     "output_type": "display_data"
    },
    {
     "name": "stderr",
     "output_type": "stream",
     "text": [
      "Epoch 76: 14.8s to complete\n",
      "    error(train)=3.77e-01, acc(train)=8.75e-01, error(valid)=4.65e-01, acc(valid)=8.44e-01\n"
     ]
    },
    {
     "data": {
      "application/vnd.jupyter.widget-view+json": {
       "model_id": "4941bbbccff64e9f99fce005b5839f47",
       "version_major": 2,
       "version_minor": 0
      },
      "text/plain": [
       "  0%|          | 0/1000 [00:00<?, ?it/s]"
      ]
     },
     "metadata": {},
     "output_type": "display_data"
    },
    {
     "name": "stderr",
     "output_type": "stream",
     "text": [
      "Epoch 77: 15.2s to complete\n",
      "    error(train)=3.73e-01, acc(train)=8.77e-01, error(valid)=4.60e-01, acc(valid)=8.48e-01\n"
     ]
    },
    {
     "data": {
      "application/vnd.jupyter.widget-view+json": {
       "model_id": "f77d70ee20b243208209e6c2d4a97f82",
       "version_major": 2,
       "version_minor": 0
      },
      "text/plain": [
       "  0%|          | 0/1000 [00:00<?, ?it/s]"
      ]
     },
     "metadata": {},
     "output_type": "display_data"
    },
    {
     "name": "stderr",
     "output_type": "stream",
     "text": [
      "Epoch 78: 13.9s to complete\n",
      "    error(train)=3.77e-01, acc(train)=8.74e-01, error(valid)=4.66e-01, acc(valid)=8.47e-01\n"
     ]
    },
    {
     "data": {
      "application/vnd.jupyter.widget-view+json": {
       "model_id": "df5baf41b19f4d64b2daaf4e91b4e6fc",
       "version_major": 2,
       "version_minor": 0
      },
      "text/plain": [
       "  0%|          | 0/1000 [00:00<?, ?it/s]"
      ]
     },
     "metadata": {},
     "output_type": "display_data"
    },
    {
     "name": "stderr",
     "output_type": "stream",
     "text": [
      "Epoch 79: 15.4s to complete\n",
      "    error(train)=3.75e-01, acc(train)=8.76e-01, error(valid)=4.62e-01, acc(valid)=8.48e-01\n"
     ]
    },
    {
     "data": {
      "application/vnd.jupyter.widget-view+json": {
       "model_id": "bd51de5a94c64aa8a842678f7f6fca04",
       "version_major": 2,
       "version_minor": 0
      },
      "text/plain": [
       "  0%|          | 0/1000 [00:00<?, ?it/s]"
      ]
     },
     "metadata": {},
     "output_type": "display_data"
    },
    {
     "name": "stderr",
     "output_type": "stream",
     "text": [
      "Epoch 80: 14.3s to complete\n",
      "    error(train)=3.72e-01, acc(train)=8.77e-01, error(valid)=4.59e-01, acc(valid)=8.49e-01\n"
     ]
    },
    {
     "data": {
      "application/vnd.jupyter.widget-view+json": {
       "model_id": "533c9ade3ad443e1b638bbd511b0e42c",
       "version_major": 2,
       "version_minor": 0
      },
      "text/plain": [
       "  0%|          | 0/1000 [00:00<?, ?it/s]"
      ]
     },
     "metadata": {},
     "output_type": "display_data"
    },
    {
     "name": "stderr",
     "output_type": "stream",
     "text": [
      "Epoch 81: 13.1s to complete\n",
      "    error(train)=3.70e-01, acc(train)=8.78e-01, error(valid)=4.59e-01, acc(valid)=8.50e-01\n"
     ]
    },
    {
     "data": {
      "application/vnd.jupyter.widget-view+json": {
       "model_id": "1fdf48f794424d6094261819f629d6b0",
       "version_major": 2,
       "version_minor": 0
      },
      "text/plain": [
       "  0%|          | 0/1000 [00:00<?, ?it/s]"
      ]
     },
     "metadata": {},
     "output_type": "display_data"
    },
    {
     "name": "stderr",
     "output_type": "stream",
     "text": [
      "Epoch 82: 9.5s to complete\n",
      "    error(train)=3.74e-01, acc(train)=8.76e-01, error(valid)=4.62e-01, acc(valid)=8.47e-01\n"
     ]
    },
    {
     "data": {
      "application/vnd.jupyter.widget-view+json": {
       "model_id": "a560a353a1054ee8997bedeab9272959",
       "version_major": 2,
       "version_minor": 0
      },
      "text/plain": [
       "  0%|          | 0/1000 [00:00<?, ?it/s]"
      ]
     },
     "metadata": {},
     "output_type": "display_data"
    },
    {
     "name": "stderr",
     "output_type": "stream",
     "text": [
      "Epoch 83: 9.1s to complete\n",
      "    error(train)=3.67e-01, acc(train)=8.79e-01, error(valid)=4.57e-01, acc(valid)=8.50e-01\n"
     ]
    },
    {
     "data": {
      "application/vnd.jupyter.widget-view+json": {
       "model_id": "08a8e31a22a24c44b6a1eb4814064be7",
       "version_major": 2,
       "version_minor": 0
      },
      "text/plain": [
       "  0%|          | 0/1000 [00:00<?, ?it/s]"
      ]
     },
     "metadata": {},
     "output_type": "display_data"
    },
    {
     "name": "stderr",
     "output_type": "stream",
     "text": [
      "Epoch 84: 14.4s to complete\n",
      "    error(train)=3.71e-01, acc(train)=8.77e-01, error(valid)=4.63e-01, acc(valid)=8.49e-01\n"
     ]
    },
    {
     "data": {
      "application/vnd.jupyter.widget-view+json": {
       "model_id": "32538623a063426790d2fad69c62569e",
       "version_major": 2,
       "version_minor": 0
      },
      "text/plain": [
       "  0%|          | 0/1000 [00:00<?, ?it/s]"
      ]
     },
     "metadata": {},
     "output_type": "display_data"
    },
    {
     "name": "stderr",
     "output_type": "stream",
     "text": [
      "Epoch 85: 14.6s to complete\n",
      "    error(train)=3.68e-01, acc(train)=8.77e-01, error(valid)=4.59e-01, acc(valid)=8.48e-01\n"
     ]
    },
    {
     "data": {
      "application/vnd.jupyter.widget-view+json": {
       "model_id": "47b4a59051014022ac2ec70709fa9aaa",
       "version_major": 2,
       "version_minor": 0
      },
      "text/plain": [
       "  0%|          | 0/1000 [00:00<?, ?it/s]"
      ]
     },
     "metadata": {},
     "output_type": "display_data"
    },
    {
     "name": "stderr",
     "output_type": "stream",
     "text": [
      "Epoch 86: 15.5s to complete\n",
      "    error(train)=3.70e-01, acc(train)=8.76e-01, error(valid)=4.58e-01, acc(valid)=8.48e-01\n"
     ]
    },
    {
     "data": {
      "application/vnd.jupyter.widget-view+json": {
       "model_id": "bcb04094a2644e4a804c92d61c775257",
       "version_major": 2,
       "version_minor": 0
      },
      "text/plain": [
       "  0%|          | 0/1000 [00:00<?, ?it/s]"
      ]
     },
     "metadata": {},
     "output_type": "display_data"
    },
    {
     "name": "stderr",
     "output_type": "stream",
     "text": [
      "Epoch 87: 15.0s to complete\n",
      "    error(train)=3.70e-01, acc(train)=8.76e-01, error(valid)=4.63e-01, acc(valid)=8.46e-01\n"
     ]
    },
    {
     "data": {
      "application/vnd.jupyter.widget-view+json": {
       "model_id": "15eaf7b3a84d4eae941b5376d7e2c445",
       "version_major": 2,
       "version_minor": 0
      },
      "text/plain": [
       "  0%|          | 0/1000 [00:00<?, ?it/s]"
      ]
     },
     "metadata": {},
     "output_type": "display_data"
    },
    {
     "name": "stderr",
     "output_type": "stream",
     "text": [
      "Epoch 88: 14.1s to complete\n",
      "    error(train)=3.63e-01, acc(train)=8.80e-01, error(valid)=4.54e-01, acc(valid)=8.53e-01\n"
     ]
    },
    {
     "data": {
      "application/vnd.jupyter.widget-view+json": {
       "model_id": "f8db495bbbbd4646a6bc2a4be8cdee50",
       "version_major": 2,
       "version_minor": 0
      },
      "text/plain": [
       "  0%|          | 0/1000 [00:00<?, ?it/s]"
      ]
     },
     "metadata": {},
     "output_type": "display_data"
    },
    {
     "name": "stderr",
     "output_type": "stream",
     "text": [
      "Epoch 89: 13.5s to complete\n",
      "    error(train)=3.67e-01, acc(train)=8.77e-01, error(valid)=4.60e-01, acc(valid)=8.47e-01\n"
     ]
    },
    {
     "data": {
      "application/vnd.jupyter.widget-view+json": {
       "model_id": "9c1489ce04a4496795560b4389028aad",
       "version_major": 2,
       "version_minor": 0
      },
      "text/plain": [
       "  0%|          | 0/1000 [00:00<?, ?it/s]"
      ]
     },
     "metadata": {},
     "output_type": "display_data"
    },
    {
     "name": "stderr",
     "output_type": "stream",
     "text": [
      "Epoch 90: 13.0s to complete\n",
      "    error(train)=3.65e-01, acc(train)=8.79e-01, error(valid)=4.57e-01, acc(valid)=8.49e-01\n"
     ]
    },
    {
     "data": {
      "application/vnd.jupyter.widget-view+json": {
       "model_id": "77e23eef641849f9b6a6629d61aa7055",
       "version_major": 2,
       "version_minor": 0
      },
      "text/plain": [
       "  0%|          | 0/1000 [00:00<?, ?it/s]"
      ]
     },
     "metadata": {},
     "output_type": "display_data"
    },
    {
     "name": "stderr",
     "output_type": "stream",
     "text": [
      "Epoch 91: 14.1s to complete\n",
      "    error(train)=3.68e-01, acc(train)=8.77e-01, error(valid)=4.62e-01, acc(valid)=8.45e-01\n"
     ]
    },
    {
     "data": {
      "application/vnd.jupyter.widget-view+json": {
       "model_id": "3a4a1289b6d342ab9b5f21903e42c55e",
       "version_major": 2,
       "version_minor": 0
      },
      "text/plain": [
       "  0%|          | 0/1000 [00:00<?, ?it/s]"
      ]
     },
     "metadata": {},
     "output_type": "display_data"
    },
    {
     "name": "stderr",
     "output_type": "stream",
     "text": [
      "Epoch 92: 8.2s to complete\n",
      "    error(train)=3.61e-01, acc(train)=8.81e-01, error(valid)=4.54e-01, acc(valid)=8.51e-01\n"
     ]
    },
    {
     "data": {
      "application/vnd.jupyter.widget-view+json": {
       "model_id": "1adc8bb153e64f4c80029a0c28addcaa",
       "version_major": 2,
       "version_minor": 0
      },
      "text/plain": [
       "  0%|          | 0/1000 [00:00<?, ?it/s]"
      ]
     },
     "metadata": {},
     "output_type": "display_data"
    },
    {
     "name": "stderr",
     "output_type": "stream",
     "text": [
      "Epoch 93: 6.8s to complete\n",
      "    error(train)=3.63e-01, acc(train)=8.78e-01, error(valid)=4.58e-01, acc(valid)=8.49e-01\n"
     ]
    },
    {
     "data": {
      "application/vnd.jupyter.widget-view+json": {
       "model_id": "390186c3281b43c1b84c726e7bcc838c",
       "version_major": 2,
       "version_minor": 0
      },
      "text/plain": [
       "  0%|          | 0/1000 [00:00<?, ?it/s]"
      ]
     },
     "metadata": {},
     "output_type": "display_data"
    },
    {
     "name": "stderr",
     "output_type": "stream",
     "text": [
      "Epoch 94: 8.2s to complete\n",
      "    error(train)=3.59e-01, acc(train)=8.81e-01, error(valid)=4.52e-01, acc(valid)=8.53e-01\n"
     ]
    },
    {
     "data": {
      "application/vnd.jupyter.widget-view+json": {
       "model_id": "f2bd772cf9f94181bb8b83c1593e052b",
       "version_major": 2,
       "version_minor": 0
      },
      "text/plain": [
       "  0%|          | 0/1000 [00:00<?, ?it/s]"
      ]
     },
     "metadata": {},
     "output_type": "display_data"
    },
    {
     "name": "stderr",
     "output_type": "stream",
     "text": [
      "Epoch 95: 7.7s to complete\n",
      "    error(train)=3.56e-01, acc(train)=8.82e-01, error(valid)=4.49e-01, acc(valid)=8.52e-01\n"
     ]
    },
    {
     "data": {
      "application/vnd.jupyter.widget-view+json": {
       "model_id": "f6861cb0793f4fb6846def15534473e4",
       "version_major": 2,
       "version_minor": 0
      },
      "text/plain": [
       "  0%|          | 0/1000 [00:00<?, ?it/s]"
      ]
     },
     "metadata": {},
     "output_type": "display_data"
    },
    {
     "name": "stderr",
     "output_type": "stream",
     "text": [
      "Epoch 96: 6.6s to complete\n",
      "    error(train)=3.55e-01, acc(train)=8.81e-01, error(valid)=4.50e-01, acc(valid)=8.53e-01\n"
     ]
    },
    {
     "data": {
      "application/vnd.jupyter.widget-view+json": {
       "model_id": "b413e62d0c6b4ca9ba08ed57a5f906c1",
       "version_major": 2,
       "version_minor": 0
      },
      "text/plain": [
       "  0%|          | 0/1000 [00:00<?, ?it/s]"
      ]
     },
     "metadata": {},
     "output_type": "display_data"
    },
    {
     "name": "stderr",
     "output_type": "stream",
     "text": [
      "Epoch 97: 6.7s to complete\n",
      "    error(train)=3.59e-01, acc(train)=8.79e-01, error(valid)=4.57e-01, acc(valid)=8.48e-01\n"
     ]
    },
    {
     "data": {
      "application/vnd.jupyter.widget-view+json": {
       "model_id": "3d44b3829a224b4b9a591adf376c909a",
       "version_major": 2,
       "version_minor": 0
      },
      "text/plain": [
       "  0%|          | 0/1000 [00:00<?, ?it/s]"
      ]
     },
     "metadata": {},
     "output_type": "display_data"
    },
    {
     "name": "stderr",
     "output_type": "stream",
     "text": [
      "Epoch 98: 6.6s to complete\n",
      "    error(train)=3.56e-01, acc(train)=8.81e-01, error(valid)=4.51e-01, acc(valid)=8.50e-01\n"
     ]
    },
    {
     "data": {
      "application/vnd.jupyter.widget-view+json": {
       "model_id": "8af4478f8f7f491a8df7be94da61c2c2",
       "version_major": 2,
       "version_minor": 0
      },
      "text/plain": [
       "  0%|          | 0/1000 [00:00<?, ?it/s]"
      ]
     },
     "metadata": {},
     "output_type": "display_data"
    },
    {
     "name": "stderr",
     "output_type": "stream",
     "text": [
      "Epoch 99: 8.2s to complete\n",
      "    error(train)=3.58e-01, acc(train)=8.80e-01, error(valid)=4.53e-01, acc(valid)=8.50e-01\n"
     ]
    },
    {
     "data": {
      "application/vnd.jupyter.widget-view+json": {
       "model_id": "6fb0caf8e8e04dbd87d398c0b4f9bcf0",
       "version_major": 2,
       "version_minor": 0
      },
      "text/plain": [
       "  0%|          | 0/1000 [00:00<?, ?it/s]"
      ]
     },
     "metadata": {},
     "output_type": "display_data"
    },
    {
     "name": "stderr",
     "output_type": "stream",
     "text": [
      "Epoch 100: 6.7s to complete\n",
      "    error(train)=3.57e-01, acc(train)=8.81e-01, error(valid)=4.52e-01, acc(valid)=8.49e-01\n"
     ]
    },
    {
     "data": {
      "application/vnd.jupyter.widget-view+json": {
       "model_id": "d13abbf68bdf4a29b3448643da6d4a68",
       "version_major": 2,
       "version_minor": 0
      },
      "text/plain": [
       "  0%|          | 0/100 [00:00<?, ?it/s]"
      ]
     },
     "metadata": {},
     "output_type": "display_data"
    },
    {
     "data": {
      "application/vnd.jupyter.widget-view+json": {
       "model_id": "e7c82d5837c94512a1c24d50a532b036",
       "version_major": 2,
       "version_minor": 0
      },
      "text/plain": [
       "  0%|          | 0/1000 [00:00<?, ?it/s]"
      ]
     },
     "metadata": {},
     "output_type": "display_data"
    },
    {
     "name": "stderr",
     "output_type": "stream",
     "text": [
      "Epoch 1: 2.1s to complete\n",
      "    error(train)=1.42e+00, acc(train)=6.09e-01, error(valid)=1.43e+00, acc(valid)=6.06e-01\n"
     ]
    },
    {
     "data": {
      "application/vnd.jupyter.widget-view+json": {
       "model_id": "6cc5aaa991e1496581345893e4a83931",
       "version_major": 2,
       "version_minor": 0
      },
      "text/plain": [
       "  0%|          | 0/1000 [00:00<?, ?it/s]"
      ]
     },
     "metadata": {},
     "output_type": "display_data"
    },
    {
     "name": "stderr",
     "output_type": "stream",
     "text": [
      "Epoch 2: 2.0s to complete\n",
      "    error(train)=1.21e+00, acc(train)=6.63e-01, error(valid)=1.21e+00, acc(valid)=6.59e-01\n"
     ]
    },
    {
     "data": {
      "application/vnd.jupyter.widget-view+json": {
       "model_id": "b22cf6abd65046c191379b7d3f8f1790",
       "version_major": 2,
       "version_minor": 0
      },
      "text/plain": [
       "  0%|          | 0/1000 [00:00<?, ?it/s]"
      ]
     },
     "metadata": {},
     "output_type": "display_data"
    },
    {
     "name": "stderr",
     "output_type": "stream",
     "text": [
      "Epoch 3: 2.0s to complete\n",
      "    error(train)=1.09e+00, acc(train)=6.93e-01, error(valid)=1.09e+00, acc(valid)=6.90e-01\n"
     ]
    },
    {
     "data": {
      "application/vnd.jupyter.widget-view+json": {
       "model_id": "4cc921aa6a464fb49a1cb94cb9e8e91b",
       "version_major": 2,
       "version_minor": 0
      },
      "text/plain": [
       "  0%|          | 0/1000 [00:00<?, ?it/s]"
      ]
     },
     "metadata": {},
     "output_type": "display_data"
    },
    {
     "name": "stderr",
     "output_type": "stream",
     "text": [
      "Epoch 4: 2.1s to complete\n",
      "    error(train)=1.01e+00, acc(train)=7.13e-01, error(valid)=1.02e+00, acc(valid)=7.09e-01\n"
     ]
    },
    {
     "data": {
      "application/vnd.jupyter.widget-view+json": {
       "model_id": "755d964f68dd4fd187060cdc2a53be89",
       "version_major": 2,
       "version_minor": 0
      },
      "text/plain": [
       "  0%|          | 0/1000 [00:00<?, ?it/s]"
      ]
     },
     "metadata": {},
     "output_type": "display_data"
    },
    {
     "name": "stderr",
     "output_type": "stream",
     "text": [
      "Epoch 5: 2.1s to complete\n",
      "    error(train)=9.57e-01, acc(train)=7.28e-01, error(valid)=9.66e-01, acc(valid)=7.23e-01\n"
     ]
    },
    {
     "data": {
      "application/vnd.jupyter.widget-view+json": {
       "model_id": "3d2194bbf3484f8e9c1fbc179a5d2d24",
       "version_major": 2,
       "version_minor": 0
      },
      "text/plain": [
       "  0%|          | 0/1000 [00:00<?, ?it/s]"
      ]
     },
     "metadata": {},
     "output_type": "display_data"
    },
    {
     "name": "stderr",
     "output_type": "stream",
     "text": [
      "Epoch 6: 2.1s to complete\n",
      "    error(train)=9.15e-01, acc(train)=7.36e-01, error(valid)=9.22e-01, acc(valid)=7.34e-01\n"
     ]
    },
    {
     "data": {
      "application/vnd.jupyter.widget-view+json": {
       "model_id": "36f3c67d1bea47e48d65b5ab3f6564ea",
       "version_major": 2,
       "version_minor": 0
      },
      "text/plain": [
       "  0%|          | 0/1000 [00:00<?, ?it/s]"
      ]
     },
     "metadata": {},
     "output_type": "display_data"
    },
    {
     "name": "stderr",
     "output_type": "stream",
     "text": [
      "Epoch 7: 2.2s to complete\n",
      "    error(train)=8.81e-01, acc(train)=7.46e-01, error(valid)=8.89e-01, acc(valid)=7.46e-01\n"
     ]
    },
    {
     "data": {
      "application/vnd.jupyter.widget-view+json": {
       "model_id": "b547f774d6d9400a97a96565b822f306",
       "version_major": 2,
       "version_minor": 0
      },
      "text/plain": [
       "  0%|          | 0/1000 [00:00<?, ?it/s]"
      ]
     },
     "metadata": {},
     "output_type": "display_data"
    },
    {
     "name": "stderr",
     "output_type": "stream",
     "text": [
      "Epoch 8: 2.1s to complete\n",
      "    error(train)=8.54e-01, acc(train)=7.55e-01, error(valid)=8.65e-01, acc(valid)=7.52e-01\n"
     ]
    },
    {
     "data": {
      "application/vnd.jupyter.widget-view+json": {
       "model_id": "6eb8049e7dae40efa9e940eddd36b370",
       "version_major": 2,
       "version_minor": 0
      },
      "text/plain": [
       "  0%|          | 0/1000 [00:00<?, ?it/s]"
      ]
     },
     "metadata": {},
     "output_type": "display_data"
    },
    {
     "name": "stderr",
     "output_type": "stream",
     "text": [
      "Epoch 9: 2.0s to complete\n",
      "    error(train)=8.27e-01, acc(train)=7.61e-01, error(valid)=8.37e-01, acc(valid)=7.57e-01\n"
     ]
    },
    {
     "data": {
      "application/vnd.jupyter.widget-view+json": {
       "model_id": "f8f19daa7c69478dbcaafca866bb54dd",
       "version_major": 2,
       "version_minor": 0
      },
      "text/plain": [
       "  0%|          | 0/1000 [00:00<?, ?it/s]"
      ]
     },
     "metadata": {},
     "output_type": "display_data"
    },
    {
     "name": "stderr",
     "output_type": "stream",
     "text": [
      "Epoch 10: 2.1s to complete\n",
      "    error(train)=8.09e-01, acc(train)=7.65e-01, error(valid)=8.19e-01, acc(valid)=7.60e-01\n"
     ]
    },
    {
     "data": {
      "application/vnd.jupyter.widget-view+json": {
       "model_id": "ad03efe5713b403587a9defb118ecc9a",
       "version_major": 2,
       "version_minor": 0
      },
      "text/plain": [
       "  0%|          | 0/1000 [00:00<?, ?it/s]"
      ]
     },
     "metadata": {},
     "output_type": "display_data"
    },
    {
     "name": "stderr",
     "output_type": "stream",
     "text": [
      "Epoch 11: 2.1s to complete\n",
      "    error(train)=7.92e-01, acc(train)=7.70e-01, error(valid)=8.02e-01, acc(valid)=7.67e-01\n"
     ]
    },
    {
     "data": {
      "application/vnd.jupyter.widget-view+json": {
       "model_id": "923cf5fafa04450d8d5912e0a9a41cb0",
       "version_major": 2,
       "version_minor": 0
      },
      "text/plain": [
       "  0%|          | 0/1000 [00:00<?, ?it/s]"
      ]
     },
     "metadata": {},
     "output_type": "display_data"
    },
    {
     "name": "stderr",
     "output_type": "stream",
     "text": [
      "Epoch 12: 2.1s to complete\n",
      "    error(train)=7.78e-01, acc(train)=7.73e-01, error(valid)=7.91e-01, acc(valid)=7.68e-01\n"
     ]
    },
    {
     "data": {
      "application/vnd.jupyter.widget-view+json": {
       "model_id": "194978b54d2a4f47b509b5286af9d1bf",
       "version_major": 2,
       "version_minor": 0
      },
      "text/plain": [
       "  0%|          | 0/1000 [00:00<?, ?it/s]"
      ]
     },
     "metadata": {},
     "output_type": "display_data"
    },
    {
     "name": "stderr",
     "output_type": "stream",
     "text": [
      "Epoch 13: 2.1s to complete\n",
      "    error(train)=7.63e-01, acc(train)=7.77e-01, error(valid)=7.74e-01, acc(valid)=7.74e-01\n"
     ]
    },
    {
     "data": {
      "application/vnd.jupyter.widget-view+json": {
       "model_id": "4a30ad1db1d04816ab1091dab5a3bb6f",
       "version_major": 2,
       "version_minor": 0
      },
      "text/plain": [
       "  0%|          | 0/1000 [00:00<?, ?it/s]"
      ]
     },
     "metadata": {},
     "output_type": "display_data"
    },
    {
     "name": "stderr",
     "output_type": "stream",
     "text": [
      "Epoch 14: 2.3s to complete\n",
      "    error(train)=7.51e-01, acc(train)=7.82e-01, error(valid)=7.61e-01, acc(valid)=7.79e-01\n"
     ]
    },
    {
     "data": {
      "application/vnd.jupyter.widget-view+json": {
       "model_id": "e75f6266cb544745b67384efc8630aff",
       "version_major": 2,
       "version_minor": 0
      },
      "text/plain": [
       "  0%|          | 0/1000 [00:00<?, ?it/s]"
      ]
     },
     "metadata": {},
     "output_type": "display_data"
    },
    {
     "name": "stderr",
     "output_type": "stream",
     "text": [
      "Epoch 15: 3.2s to complete\n",
      "    error(train)=7.46e-01, acc(train)=7.82e-01, error(valid)=7.58e-01, acc(valid)=7.79e-01\n"
     ]
    },
    {
     "data": {
      "application/vnd.jupyter.widget-view+json": {
       "model_id": "9a651c915cb0487797327260687d83a6",
       "version_major": 2,
       "version_minor": 0
      },
      "text/plain": [
       "  0%|          | 0/1000 [00:00<?, ?it/s]"
      ]
     },
     "metadata": {},
     "output_type": "display_data"
    },
    {
     "name": "stderr",
     "output_type": "stream",
     "text": [
      "Epoch 16: 3.6s to complete\n",
      "    error(train)=7.31e-01, acc(train)=7.86e-01, error(valid)=7.43e-01, acc(valid)=7.83e-01\n"
     ]
    },
    {
     "data": {
      "application/vnd.jupyter.widget-view+json": {
       "model_id": "b7d58b67fc5f4471a99e17a57f2bd142",
       "version_major": 2,
       "version_minor": 0
      },
      "text/plain": [
       "  0%|          | 0/1000 [00:00<?, ?it/s]"
      ]
     },
     "metadata": {},
     "output_type": "display_data"
    },
    {
     "name": "stderr",
     "output_type": "stream",
     "text": [
      "Epoch 17: 4.9s to complete\n",
      "    error(train)=7.25e-01, acc(train)=7.88e-01, error(valid)=7.35e-01, acc(valid)=7.84e-01\n"
     ]
    },
    {
     "data": {
      "application/vnd.jupyter.widget-view+json": {
       "model_id": "ddb28b4756754b5883a194856d77a875",
       "version_major": 2,
       "version_minor": 0
      },
      "text/plain": [
       "  0%|          | 0/1000 [00:00<?, ?it/s]"
      ]
     },
     "metadata": {},
     "output_type": "display_data"
    },
    {
     "name": "stderr",
     "output_type": "stream",
     "text": [
      "Epoch 18: 7.9s to complete\n",
      "    error(train)=7.20e-01, acc(train)=7.88e-01, error(valid)=7.32e-01, acc(valid)=7.81e-01\n"
     ]
    },
    {
     "data": {
      "application/vnd.jupyter.widget-view+json": {
       "model_id": "925a81522cbb473f9507d6c3f9c1a40b",
       "version_major": 2,
       "version_minor": 0
      },
      "text/plain": [
       "  0%|          | 0/1000 [00:00<?, ?it/s]"
      ]
     },
     "metadata": {},
     "output_type": "display_data"
    },
    {
     "name": "stderr",
     "output_type": "stream",
     "text": [
      "Epoch 19: 5.8s to complete\n",
      "    error(train)=7.11e-01, acc(train)=7.90e-01, error(valid)=7.23e-01, acc(valid)=7.83e-01\n"
     ]
    },
    {
     "data": {
      "application/vnd.jupyter.widget-view+json": {
       "model_id": "aa1e2083b108447da39a36496825d439",
       "version_major": 2,
       "version_minor": 0
      },
      "text/plain": [
       "  0%|          | 0/1000 [00:00<?, ?it/s]"
      ]
     },
     "metadata": {},
     "output_type": "display_data"
    },
    {
     "name": "stderr",
     "output_type": "stream",
     "text": [
      "Epoch 20: 5.8s to complete\n",
      "    error(train)=7.06e-01, acc(train)=7.90e-01, error(valid)=7.18e-01, acc(valid)=7.84e-01\n"
     ]
    },
    {
     "data": {
      "application/vnd.jupyter.widget-view+json": {
       "model_id": "fc634d11c83b40a79622df1cb490f0f7",
       "version_major": 2,
       "version_minor": 0
      },
      "text/plain": [
       "  0%|          | 0/1000 [00:00<?, ?it/s]"
      ]
     },
     "metadata": {},
     "output_type": "display_data"
    },
    {
     "name": "stderr",
     "output_type": "stream",
     "text": [
      "Epoch 21: 5.9s to complete\n",
      "    error(train)=7.00e-01, acc(train)=7.93e-01, error(valid)=7.12e-01, acc(valid)=7.87e-01\n"
     ]
    },
    {
     "data": {
      "application/vnd.jupyter.widget-view+json": {
       "model_id": "4b378d6a76d448b4b5b711b07d135707",
       "version_major": 2,
       "version_minor": 0
      },
      "text/plain": [
       "  0%|          | 0/1000 [00:00<?, ?it/s]"
      ]
     },
     "metadata": {},
     "output_type": "display_data"
    },
    {
     "name": "stderr",
     "output_type": "stream",
     "text": [
      "Epoch 22: 5.1s to complete\n",
      "    error(train)=6.94e-01, acc(train)=7.94e-01, error(valid)=7.06e-01, acc(valid)=7.89e-01\n"
     ]
    },
    {
     "data": {
      "application/vnd.jupyter.widget-view+json": {
       "model_id": "87ab0e6a8d774aa7b229ac2e8dc4b304",
       "version_major": 2,
       "version_minor": 0
      },
      "text/plain": [
       "  0%|          | 0/1000 [00:00<?, ?it/s]"
      ]
     },
     "metadata": {},
     "output_type": "display_data"
    },
    {
     "name": "stderr",
     "output_type": "stream",
     "text": [
      "Epoch 23: 4.1s to complete\n",
      "    error(train)=6.90e-01, acc(train)=7.94e-01, error(valid)=7.05e-01, acc(valid)=7.86e-01\n"
     ]
    },
    {
     "data": {
      "application/vnd.jupyter.widget-view+json": {
       "model_id": "9d37dc447a864249b040b777781693e3",
       "version_major": 2,
       "version_minor": 0
      },
      "text/plain": [
       "  0%|          | 0/1000 [00:00<?, ?it/s]"
      ]
     },
     "metadata": {},
     "output_type": "display_data"
    },
    {
     "name": "stderr",
     "output_type": "stream",
     "text": [
      "Epoch 24: 3.4s to complete\n",
      "    error(train)=6.82e-01, acc(train)=7.98e-01, error(valid)=6.96e-01, acc(valid)=7.93e-01\n"
     ]
    },
    {
     "data": {
      "application/vnd.jupyter.widget-view+json": {
       "model_id": "4b07797141544be5ae98f0eaab4e913c",
       "version_major": 2,
       "version_minor": 0
      },
      "text/plain": [
       "  0%|          | 0/1000 [00:00<?, ?it/s]"
      ]
     },
     "metadata": {},
     "output_type": "display_data"
    },
    {
     "name": "stderr",
     "output_type": "stream",
     "text": [
      "Epoch 25: 3.4s to complete\n",
      "    error(train)=6.81e-01, acc(train)=7.99e-01, error(valid)=6.95e-01, acc(valid)=7.94e-01\n"
     ]
    },
    {
     "data": {
      "application/vnd.jupyter.widget-view+json": {
       "model_id": "fcb37aaa257645ee94fc36a2f5733828",
       "version_major": 2,
       "version_minor": 0
      },
      "text/plain": [
       "  0%|          | 0/1000 [00:00<?, ?it/s]"
      ]
     },
     "metadata": {},
     "output_type": "display_data"
    },
    {
     "name": "stderr",
     "output_type": "stream",
     "text": [
      "Epoch 26: 2.7s to complete\n",
      "    error(train)=6.76e-01, acc(train)=7.99e-01, error(valid)=6.92e-01, acc(valid)=7.90e-01\n"
     ]
    },
    {
     "data": {
      "application/vnd.jupyter.widget-view+json": {
       "model_id": "0ec6570d80574e2abd60688be0e9cd6d",
       "version_major": 2,
       "version_minor": 0
      },
      "text/plain": [
       "  0%|          | 0/1000 [00:00<?, ?it/s]"
      ]
     },
     "metadata": {},
     "output_type": "display_data"
    },
    {
     "name": "stderr",
     "output_type": "stream",
     "text": [
      "Epoch 27: 2.5s to complete\n",
      "    error(train)=6.75e-01, acc(train)=8.00e-01, error(valid)=6.89e-01, acc(valid)=7.92e-01\n"
     ]
    },
    {
     "data": {
      "application/vnd.jupyter.widget-view+json": {
       "model_id": "babc806a34a249b6acbaa34566c60fc6",
       "version_major": 2,
       "version_minor": 0
      },
      "text/plain": [
       "  0%|          | 0/1000 [00:00<?, ?it/s]"
      ]
     },
     "metadata": {},
     "output_type": "display_data"
    },
    {
     "name": "stderr",
     "output_type": "stream",
     "text": [
      "Epoch 28: 2.7s to complete\n",
      "    error(train)=6.65e-01, acc(train)=8.03e-01, error(valid)=6.79e-01, acc(valid)=7.97e-01\n"
     ]
    },
    {
     "data": {
      "application/vnd.jupyter.widget-view+json": {
       "model_id": "0bacc36a7498456c8e730d1eb9424b5b",
       "version_major": 2,
       "version_minor": 0
      },
      "text/plain": [
       "  0%|          | 0/1000 [00:00<?, ?it/s]"
      ]
     },
     "metadata": {},
     "output_type": "display_data"
    },
    {
     "name": "stderr",
     "output_type": "stream",
     "text": [
      "Epoch 29: 2.7s to complete\n",
      "    error(train)=6.64e-01, acc(train)=8.03e-01, error(valid)=6.80e-01, acc(valid)=7.96e-01\n"
     ]
    },
    {
     "data": {
      "application/vnd.jupyter.widget-view+json": {
       "model_id": "0bdbb37fa53c47e1bc2f9a436ce83621",
       "version_major": 2,
       "version_minor": 0
      },
      "text/plain": [
       "  0%|          | 0/1000 [00:00<?, ?it/s]"
      ]
     },
     "metadata": {},
     "output_type": "display_data"
    },
    {
     "name": "stderr",
     "output_type": "stream",
     "text": [
      "Epoch 30: 2.8s to complete\n",
      "    error(train)=6.57e-01, acc(train)=8.05e-01, error(valid)=6.73e-01, acc(valid)=7.98e-01\n"
     ]
    },
    {
     "data": {
      "application/vnd.jupyter.widget-view+json": {
       "model_id": "7bde1bc92fa6420098e6fde0c9ba02fe",
       "version_major": 2,
       "version_minor": 0
      },
      "text/plain": [
       "  0%|          | 0/1000 [00:00<?, ?it/s]"
      ]
     },
     "metadata": {},
     "output_type": "display_data"
    },
    {
     "name": "stderr",
     "output_type": "stream",
     "text": [
      "Epoch 31: 2.9s to complete\n",
      "    error(train)=6.58e-01, acc(train)=8.05e-01, error(valid)=6.72e-01, acc(valid)=7.99e-01\n"
     ]
    },
    {
     "data": {
      "application/vnd.jupyter.widget-view+json": {
       "model_id": "9130ce3f16a74201a4b6381735e3082a",
       "version_major": 2,
       "version_minor": 0
      },
      "text/plain": [
       "  0%|          | 0/1000 [00:00<?, ?it/s]"
      ]
     },
     "metadata": {},
     "output_type": "display_data"
    },
    {
     "name": "stderr",
     "output_type": "stream",
     "text": [
      "Epoch 32: 2.5s to complete\n",
      "    error(train)=6.51e-01, acc(train)=8.06e-01, error(valid)=6.67e-01, acc(valid)=7.99e-01\n"
     ]
    },
    {
     "data": {
      "application/vnd.jupyter.widget-view+json": {
       "model_id": "965515f3a70040489a4aeb2575b5fac9",
       "version_major": 2,
       "version_minor": 0
      },
      "text/plain": [
       "  0%|          | 0/1000 [00:00<?, ?it/s]"
      ]
     },
     "metadata": {},
     "output_type": "display_data"
    },
    {
     "name": "stderr",
     "output_type": "stream",
     "text": [
      "Epoch 33: 2.6s to complete\n",
      "    error(train)=6.50e-01, acc(train)=8.07e-01, error(valid)=6.65e-01, acc(valid)=7.98e-01\n"
     ]
    },
    {
     "data": {
      "application/vnd.jupyter.widget-view+json": {
       "model_id": "efaa855819e94bec8bde94cae35b5f2c",
       "version_major": 2,
       "version_minor": 0
      },
      "text/plain": [
       "  0%|          | 0/1000 [00:00<?, ?it/s]"
      ]
     },
     "metadata": {},
     "output_type": "display_data"
    },
    {
     "name": "stderr",
     "output_type": "stream",
     "text": [
      "Epoch 34: 2.6s to complete\n",
      "    error(train)=6.43e-01, acc(train)=8.10e-01, error(valid)=6.59e-01, acc(valid)=8.03e-01\n"
     ]
    },
    {
     "data": {
      "application/vnd.jupyter.widget-view+json": {
       "model_id": "fd43fbce57dd4a2bacadd6de4199fc5a",
       "version_major": 2,
       "version_minor": 0
      },
      "text/plain": [
       "  0%|          | 0/1000 [00:00<?, ?it/s]"
      ]
     },
     "metadata": {},
     "output_type": "display_data"
    },
    {
     "name": "stderr",
     "output_type": "stream",
     "text": [
      "Epoch 35: 2.6s to complete\n",
      "    error(train)=6.42e-01, acc(train)=8.08e-01, error(valid)=6.59e-01, acc(valid)=8.01e-01\n"
     ]
    },
    {
     "data": {
      "application/vnd.jupyter.widget-view+json": {
       "model_id": "2a93495e9c7f4b3f89a43d48756e4daa",
       "version_major": 2,
       "version_minor": 0
      },
      "text/plain": [
       "  0%|          | 0/1000 [00:00<?, ?it/s]"
      ]
     },
     "metadata": {},
     "output_type": "display_data"
    },
    {
     "name": "stderr",
     "output_type": "stream",
     "text": [
      "Epoch 36: 2.6s to complete\n",
      "    error(train)=6.38e-01, acc(train)=8.11e-01, error(valid)=6.54e-01, acc(valid)=8.05e-01\n"
     ]
    },
    {
     "data": {
      "application/vnd.jupyter.widget-view+json": {
       "model_id": "16700563388d4fb29a47022de645208f",
       "version_major": 2,
       "version_minor": 0
      },
      "text/plain": [
       "  0%|          | 0/1000 [00:00<?, ?it/s]"
      ]
     },
     "metadata": {},
     "output_type": "display_data"
    },
    {
     "name": "stderr",
     "output_type": "stream",
     "text": [
      "Epoch 37: 2.8s to complete\n",
      "    error(train)=6.35e-01, acc(train)=8.12e-01, error(valid)=6.51e-01, acc(valid)=8.03e-01\n"
     ]
    },
    {
     "data": {
      "application/vnd.jupyter.widget-view+json": {
       "model_id": "f250ff654a564053b3c6c17f8c194eab",
       "version_major": 2,
       "version_minor": 0
      },
      "text/plain": [
       "  0%|          | 0/1000 [00:00<?, ?it/s]"
      ]
     },
     "metadata": {},
     "output_type": "display_data"
    },
    {
     "name": "stderr",
     "output_type": "stream",
     "text": [
      "Epoch 38: 2.9s to complete\n",
      "    error(train)=6.34e-01, acc(train)=8.11e-01, error(valid)=6.51e-01, acc(valid)=8.03e-01\n"
     ]
    },
    {
     "data": {
      "application/vnd.jupyter.widget-view+json": {
       "model_id": "228df7c405bb482e8c301292d6cd9080",
       "version_major": 2,
       "version_minor": 0
      },
      "text/plain": [
       "  0%|          | 0/1000 [00:00<?, ?it/s]"
      ]
     },
     "metadata": {},
     "output_type": "display_data"
    },
    {
     "name": "stderr",
     "output_type": "stream",
     "text": [
      "Epoch 39: 3.0s to complete\n",
      "    error(train)=6.29e-01, acc(train)=8.11e-01, error(valid)=6.46e-01, acc(valid)=8.04e-01\n"
     ]
    },
    {
     "data": {
      "application/vnd.jupyter.widget-view+json": {
       "model_id": "ffcf157ae8e0424da70f004ac7d39b6b",
       "version_major": 2,
       "version_minor": 0
      },
      "text/plain": [
       "  0%|          | 0/1000 [00:00<?, ?it/s]"
      ]
     },
     "metadata": {},
     "output_type": "display_data"
    },
    {
     "name": "stderr",
     "output_type": "stream",
     "text": [
      "Epoch 40: 3.0s to complete\n",
      "    error(train)=6.29e-01, acc(train)=8.13e-01, error(valid)=6.47e-01, acc(valid)=8.04e-01\n"
     ]
    },
    {
     "data": {
      "application/vnd.jupyter.widget-view+json": {
       "model_id": "7034e8a9c6964b94b23152c03c56f91c",
       "version_major": 2,
       "version_minor": 0
      },
      "text/plain": [
       "  0%|          | 0/1000 [00:00<?, ?it/s]"
      ]
     },
     "metadata": {},
     "output_type": "display_data"
    },
    {
     "name": "stderr",
     "output_type": "stream",
     "text": [
      "Epoch 41: 2.8s to complete\n",
      "    error(train)=6.27e-01, acc(train)=8.14e-01, error(valid)=6.44e-01, acc(valid)=8.08e-01\n"
     ]
    },
    {
     "data": {
      "application/vnd.jupyter.widget-view+json": {
       "model_id": "7234c3d51949463287b2dc10d057c0b1",
       "version_major": 2,
       "version_minor": 0
      },
      "text/plain": [
       "  0%|          | 0/1000 [00:00<?, ?it/s]"
      ]
     },
     "metadata": {},
     "output_type": "display_data"
    },
    {
     "name": "stderr",
     "output_type": "stream",
     "text": [
      "Epoch 42: 2.7s to complete\n",
      "    error(train)=6.22e-01, acc(train)=8.15e-01, error(valid)=6.40e-01, acc(valid)=8.06e-01\n"
     ]
    },
    {
     "data": {
      "application/vnd.jupyter.widget-view+json": {
       "model_id": "028a4f0222de4619875cf0bf157454e1",
       "version_major": 2,
       "version_minor": 0
      },
      "text/plain": [
       "  0%|          | 0/1000 [00:00<?, ?it/s]"
      ]
     },
     "metadata": {},
     "output_type": "display_data"
    },
    {
     "name": "stderr",
     "output_type": "stream",
     "text": [
      "Epoch 43: 2.9s to complete\n",
      "    error(train)=6.28e-01, acc(train)=8.13e-01, error(valid)=6.46e-01, acc(valid)=8.05e-01\n"
     ]
    },
    {
     "data": {
      "application/vnd.jupyter.widget-view+json": {
       "model_id": "6f12b5749efa41b087d369732971280c",
       "version_major": 2,
       "version_minor": 0
      },
      "text/plain": [
       "  0%|          | 0/1000 [00:00<?, ?it/s]"
      ]
     },
     "metadata": {},
     "output_type": "display_data"
    },
    {
     "name": "stderr",
     "output_type": "stream",
     "text": [
      "Epoch 44: 2.7s to complete\n",
      "    error(train)=6.19e-01, acc(train)=8.15e-01, error(valid)=6.36e-01, acc(valid)=8.06e-01\n"
     ]
    },
    {
     "data": {
      "application/vnd.jupyter.widget-view+json": {
       "model_id": "1ad6a031c5174f1f8a0e0a32f2510db1",
       "version_major": 2,
       "version_minor": 0
      },
      "text/plain": [
       "  0%|          | 0/1000 [00:00<?, ?it/s]"
      ]
     },
     "metadata": {},
     "output_type": "display_data"
    },
    {
     "name": "stderr",
     "output_type": "stream",
     "text": [
      "Epoch 45: 2.6s to complete\n",
      "    error(train)=6.18e-01, acc(train)=8.17e-01, error(valid)=6.34e-01, acc(valid)=8.10e-01\n"
     ]
    },
    {
     "data": {
      "application/vnd.jupyter.widget-view+json": {
       "model_id": "776f00f7203a4e429e2b87c89997b569",
       "version_major": 2,
       "version_minor": 0
      },
      "text/plain": [
       "  0%|          | 0/1000 [00:00<?, ?it/s]"
      ]
     },
     "metadata": {},
     "output_type": "display_data"
    },
    {
     "name": "stderr",
     "output_type": "stream",
     "text": [
      "Epoch 46: 2.6s to complete\n",
      "    error(train)=6.20e-01, acc(train)=8.15e-01, error(valid)=6.36e-01, acc(valid)=8.07e-01\n"
     ]
    },
    {
     "data": {
      "application/vnd.jupyter.widget-view+json": {
       "model_id": "b499da60661343bf93336abc19fd4627",
       "version_major": 2,
       "version_minor": 0
      },
      "text/plain": [
       "  0%|          | 0/1000 [00:00<?, ?it/s]"
      ]
     },
     "metadata": {},
     "output_type": "display_data"
    },
    {
     "name": "stderr",
     "output_type": "stream",
     "text": [
      "Epoch 47: 2.6s to complete\n",
      "    error(train)=6.16e-01, acc(train)=8.16e-01, error(valid)=6.35e-01, acc(valid)=8.05e-01\n"
     ]
    },
    {
     "data": {
      "application/vnd.jupyter.widget-view+json": {
       "model_id": "2217ac71e23748e08f42a0310d82b3d2",
       "version_major": 2,
       "version_minor": 0
      },
      "text/plain": [
       "  0%|          | 0/1000 [00:00<?, ?it/s]"
      ]
     },
     "metadata": {},
     "output_type": "display_data"
    },
    {
     "name": "stderr",
     "output_type": "stream",
     "text": [
      "Epoch 48: 2.7s to complete\n",
      "    error(train)=6.12e-01, acc(train)=8.18e-01, error(valid)=6.30e-01, acc(valid)=8.09e-01\n"
     ]
    },
    {
     "data": {
      "application/vnd.jupyter.widget-view+json": {
       "model_id": "e389dc4c3e414405bb878454536c0d18",
       "version_major": 2,
       "version_minor": 0
      },
      "text/plain": [
       "  0%|          | 0/1000 [00:00<?, ?it/s]"
      ]
     },
     "metadata": {},
     "output_type": "display_data"
    },
    {
     "name": "stderr",
     "output_type": "stream",
     "text": [
      "Epoch 49: 2.8s to complete\n",
      "    error(train)=6.10e-01, acc(train)=8.19e-01, error(valid)=6.27e-01, acc(valid)=8.11e-01\n"
     ]
    },
    {
     "data": {
      "application/vnd.jupyter.widget-view+json": {
       "model_id": "bdb247025c054a728fd1a0f895bed2a8",
       "version_major": 2,
       "version_minor": 0
      },
      "text/plain": [
       "  0%|          | 0/1000 [00:00<?, ?it/s]"
      ]
     },
     "metadata": {},
     "output_type": "display_data"
    },
    {
     "name": "stderr",
     "output_type": "stream",
     "text": [
      "Epoch 50: 2.6s to complete\n",
      "    error(train)=6.12e-01, acc(train)=8.20e-01, error(valid)=6.27e-01, acc(valid)=8.12e-01\n"
     ]
    },
    {
     "data": {
      "application/vnd.jupyter.widget-view+json": {
       "model_id": "502295c5a9cb4b66b4f11da63c54bb44",
       "version_major": 2,
       "version_minor": 0
      },
      "text/plain": [
       "  0%|          | 0/1000 [00:00<?, ?it/s]"
      ]
     },
     "metadata": {},
     "output_type": "display_data"
    },
    {
     "name": "stderr",
     "output_type": "stream",
     "text": [
      "Epoch 51: 2.6s to complete\n",
      "    error(train)=6.08e-01, acc(train)=8.19e-01, error(valid)=6.25e-01, acc(valid)=8.10e-01\n"
     ]
    },
    {
     "data": {
      "application/vnd.jupyter.widget-view+json": {
       "model_id": "629ba2b257d3496586ef843e8b54776d",
       "version_major": 2,
       "version_minor": 0
      },
      "text/plain": [
       "  0%|          | 0/1000 [00:00<?, ?it/s]"
      ]
     },
     "metadata": {},
     "output_type": "display_data"
    },
    {
     "name": "stderr",
     "output_type": "stream",
     "text": [
      "Epoch 52: 3.0s to complete\n",
      "    error(train)=6.07e-01, acc(train)=8.18e-01, error(valid)=6.26e-01, acc(valid)=8.10e-01\n"
     ]
    },
    {
     "data": {
      "application/vnd.jupyter.widget-view+json": {
       "model_id": "559d80b5ef2a450dbb817eeffaf2e51f",
       "version_major": 2,
       "version_minor": 0
      },
      "text/plain": [
       "  0%|          | 0/1000 [00:00<?, ?it/s]"
      ]
     },
     "metadata": {},
     "output_type": "display_data"
    },
    {
     "name": "stderr",
     "output_type": "stream",
     "text": [
      "Epoch 53: 3.5s to complete\n",
      "    error(train)=6.04e-01, acc(train)=8.19e-01, error(valid)=6.21e-01, acc(valid)=8.10e-01\n"
     ]
    },
    {
     "data": {
      "application/vnd.jupyter.widget-view+json": {
       "model_id": "09d789648092420eb730e9bcd90a6e28",
       "version_major": 2,
       "version_minor": 0
      },
      "text/plain": [
       "  0%|          | 0/1000 [00:00<?, ?it/s]"
      ]
     },
     "metadata": {},
     "output_type": "display_data"
    },
    {
     "name": "stderr",
     "output_type": "stream",
     "text": [
      "Epoch 54: 4.5s to complete\n",
      "    error(train)=6.03e-01, acc(train)=8.19e-01, error(valid)=6.21e-01, acc(valid)=8.11e-01\n"
     ]
    },
    {
     "data": {
      "application/vnd.jupyter.widget-view+json": {
       "model_id": "29bafd9801984d89817ef128cdb83d8e",
       "version_major": 2,
       "version_minor": 0
      },
      "text/plain": [
       "  0%|          | 0/1000 [00:00<?, ?it/s]"
      ]
     },
     "metadata": {},
     "output_type": "display_data"
    },
    {
     "name": "stderr",
     "output_type": "stream",
     "text": [
      "Epoch 55: 4.2s to complete\n",
      "    error(train)=6.02e-01, acc(train)=8.21e-01, error(valid)=6.20e-01, acc(valid)=8.13e-01\n"
     ]
    },
    {
     "data": {
      "application/vnd.jupyter.widget-view+json": {
       "model_id": "047fc9a56ee84e839ce824630b7e2a9c",
       "version_major": 2,
       "version_minor": 0
      },
      "text/plain": [
       "  0%|          | 0/1000 [00:00<?, ?it/s]"
      ]
     },
     "metadata": {},
     "output_type": "display_data"
    },
    {
     "name": "stderr",
     "output_type": "stream",
     "text": [
      "Epoch 56: 4.1s to complete\n",
      "    error(train)=6.01e-01, acc(train)=8.21e-01, error(valid)=6.19e-01, acc(valid)=8.12e-01\n"
     ]
    },
    {
     "data": {
      "application/vnd.jupyter.widget-view+json": {
       "model_id": "56edd7b99bdf470aaf6ad25472976bcc",
       "version_major": 2,
       "version_minor": 0
      },
      "text/plain": [
       "  0%|          | 0/1000 [00:00<?, ?it/s]"
      ]
     },
     "metadata": {},
     "output_type": "display_data"
    },
    {
     "name": "stderr",
     "output_type": "stream",
     "text": [
      "Epoch 57: 3.5s to complete\n",
      "    error(train)=6.00e-01, acc(train)=8.22e-01, error(valid)=6.18e-01, acc(valid)=8.13e-01\n"
     ]
    },
    {
     "data": {
      "application/vnd.jupyter.widget-view+json": {
       "model_id": "37fdebed95344535b9b06554cab9949e",
       "version_major": 2,
       "version_minor": 0
      },
      "text/plain": [
       "  0%|          | 0/1000 [00:00<?, ?it/s]"
      ]
     },
     "metadata": {},
     "output_type": "display_data"
    },
    {
     "name": "stderr",
     "output_type": "stream",
     "text": [
      "Epoch 58: 4.2s to complete\n",
      "    error(train)=5.97e-01, acc(train)=8.22e-01, error(valid)=6.15e-01, acc(valid)=8.13e-01\n"
     ]
    },
    {
     "data": {
      "application/vnd.jupyter.widget-view+json": {
       "model_id": "299aa66e783d4df094522dbdc23208c2",
       "version_major": 2,
       "version_minor": 0
      },
      "text/plain": [
       "  0%|          | 0/1000 [00:00<?, ?it/s]"
      ]
     },
     "metadata": {},
     "output_type": "display_data"
    },
    {
     "name": "stderr",
     "output_type": "stream",
     "text": [
      "Epoch 59: 3.6s to complete\n",
      "    error(train)=6.02e-01, acc(train)=8.21e-01, error(valid)=6.21e-01, acc(valid)=8.14e-01\n"
     ]
    },
    {
     "data": {
      "application/vnd.jupyter.widget-view+json": {
       "model_id": "acec16e9da0340daa5ca669e57dc68cf",
       "version_major": 2,
       "version_minor": 0
      },
      "text/plain": [
       "  0%|          | 0/1000 [00:00<?, ?it/s]"
      ]
     },
     "metadata": {},
     "output_type": "display_data"
    },
    {
     "name": "stderr",
     "output_type": "stream",
     "text": [
      "Epoch 60: 4.2s to complete\n",
      "    error(train)=5.99e-01, acc(train)=8.21e-01, error(valid)=6.16e-01, acc(valid)=8.14e-01\n"
     ]
    },
    {
     "data": {
      "application/vnd.jupyter.widget-view+json": {
       "model_id": "4ca7ae241e2145b38bf9e474ea8ce48b",
       "version_major": 2,
       "version_minor": 0
      },
      "text/plain": [
       "  0%|          | 0/1000 [00:00<?, ?it/s]"
      ]
     },
     "metadata": {},
     "output_type": "display_data"
    },
    {
     "name": "stderr",
     "output_type": "stream",
     "text": [
      "Epoch 61: 4.1s to complete\n",
      "    error(train)=5.95e-01, acc(train)=8.23e-01, error(valid)=6.15e-01, acc(valid)=8.14e-01\n"
     ]
    },
    {
     "data": {
      "application/vnd.jupyter.widget-view+json": {
       "model_id": "84375d5fec9447829cea1079079cefb3",
       "version_major": 2,
       "version_minor": 0
      },
      "text/plain": [
       "  0%|          | 0/1000 [00:00<?, ?it/s]"
      ]
     },
     "metadata": {},
     "output_type": "display_data"
    },
    {
     "name": "stderr",
     "output_type": "stream",
     "text": [
      "Epoch 62: 4.3s to complete\n",
      "    error(train)=5.96e-01, acc(train)=8.23e-01, error(valid)=6.14e-01, acc(valid)=8.15e-01\n"
     ]
    },
    {
     "data": {
      "application/vnd.jupyter.widget-view+json": {
       "model_id": "b2f9cbbc2fbb44659efa2785180eee01",
       "version_major": 2,
       "version_minor": 0
      },
      "text/plain": [
       "  0%|          | 0/1000 [00:00<?, ?it/s]"
      ]
     },
     "metadata": {},
     "output_type": "display_data"
    },
    {
     "name": "stderr",
     "output_type": "stream",
     "text": [
      "Epoch 63: 3.4s to complete\n",
      "    error(train)=5.95e-01, acc(train)=8.21e-01, error(valid)=6.15e-01, acc(valid)=8.11e-01\n"
     ]
    },
    {
     "data": {
      "application/vnd.jupyter.widget-view+json": {
       "model_id": "dcd7d08a02d041b8a50c453ccfb12bb6",
       "version_major": 2,
       "version_minor": 0
      },
      "text/plain": [
       "  0%|          | 0/1000 [00:00<?, ?it/s]"
      ]
     },
     "metadata": {},
     "output_type": "display_data"
    },
    {
     "name": "stderr",
     "output_type": "stream",
     "text": [
      "Epoch 64: 4.2s to complete\n",
      "    error(train)=5.95e-01, acc(train)=8.22e-01, error(valid)=6.13e-01, acc(valid)=8.14e-01\n"
     ]
    },
    {
     "data": {
      "application/vnd.jupyter.widget-view+json": {
       "model_id": "2aa04caf34264ad9bc473ee1b7494945",
       "version_major": 2,
       "version_minor": 0
      },
      "text/plain": [
       "  0%|          | 0/1000 [00:00<?, ?it/s]"
      ]
     },
     "metadata": {},
     "output_type": "display_data"
    },
    {
     "name": "stderr",
     "output_type": "stream",
     "text": [
      "Epoch 65: 4.0s to complete\n",
      "    error(train)=5.91e-01, acc(train)=8.23e-01, error(valid)=6.10e-01, acc(valid)=8.15e-01\n"
     ]
    },
    {
     "data": {
      "application/vnd.jupyter.widget-view+json": {
       "model_id": "2861b1ed69b742faa791d494bdca212a",
       "version_major": 2,
       "version_minor": 0
      },
      "text/plain": [
       "  0%|          | 0/1000 [00:00<?, ?it/s]"
      ]
     },
     "metadata": {},
     "output_type": "display_data"
    },
    {
     "name": "stderr",
     "output_type": "stream",
     "text": [
      "Epoch 66: 4.3s to complete\n",
      "    error(train)=5.94e-01, acc(train)=8.22e-01, error(valid)=6.13e-01, acc(valid)=8.15e-01\n"
     ]
    },
    {
     "data": {
      "application/vnd.jupyter.widget-view+json": {
       "model_id": "68d10f892e534a7dad89db62d350ed9e",
       "version_major": 2,
       "version_minor": 0
      },
      "text/plain": [
       "  0%|          | 0/1000 [00:00<?, ?it/s]"
      ]
     },
     "metadata": {},
     "output_type": "display_data"
    },
    {
     "name": "stderr",
     "output_type": "stream",
     "text": [
      "Epoch 67: 4.4s to complete\n",
      "    error(train)=5.94e-01, acc(train)=8.22e-01, error(valid)=6.13e-01, acc(valid)=8.12e-01\n"
     ]
    },
    {
     "data": {
      "application/vnd.jupyter.widget-view+json": {
       "model_id": "f904a6a20d1545ce86b301640f75d942",
       "version_major": 2,
       "version_minor": 0
      },
      "text/plain": [
       "  0%|          | 0/1000 [00:00<?, ?it/s]"
      ]
     },
     "metadata": {},
     "output_type": "display_data"
    },
    {
     "name": "stderr",
     "output_type": "stream",
     "text": [
      "Epoch 68: 4.3s to complete\n",
      "    error(train)=5.90e-01, acc(train)=8.24e-01, error(valid)=6.10e-01, acc(valid)=8.13e-01\n"
     ]
    },
    {
     "data": {
      "application/vnd.jupyter.widget-view+json": {
       "model_id": "17e7d42caebc4523b59926766b70a97e",
       "version_major": 2,
       "version_minor": 0
      },
      "text/plain": [
       "  0%|          | 0/1000 [00:00<?, ?it/s]"
      ]
     },
     "metadata": {},
     "output_type": "display_data"
    },
    {
     "name": "stderr",
     "output_type": "stream",
     "text": [
      "Epoch 69: 3.8s to complete\n",
      "    error(train)=5.93e-01, acc(train)=8.22e-01, error(valid)=6.13e-01, acc(valid)=8.11e-01\n"
     ]
    },
    {
     "data": {
      "application/vnd.jupyter.widget-view+json": {
       "model_id": "5efff71168914c72b3d05af6cb8a1aa6",
       "version_major": 2,
       "version_minor": 0
      },
      "text/plain": [
       "  0%|          | 0/1000 [00:00<?, ?it/s]"
      ]
     },
     "metadata": {},
     "output_type": "display_data"
    },
    {
     "name": "stderr",
     "output_type": "stream",
     "text": [
      "Epoch 70: 4.2s to complete\n",
      "    error(train)=5.90e-01, acc(train)=8.24e-01, error(valid)=6.09e-01, acc(valid)=8.15e-01\n"
     ]
    },
    {
     "data": {
      "application/vnd.jupyter.widget-view+json": {
       "model_id": "f2aba62a572d42129c096b10fe581bc7",
       "version_major": 2,
       "version_minor": 0
      },
      "text/plain": [
       "  0%|          | 0/1000 [00:00<?, ?it/s]"
      ]
     },
     "metadata": {},
     "output_type": "display_data"
    },
    {
     "name": "stderr",
     "output_type": "stream",
     "text": [
      "Epoch 71: 3.9s to complete\n",
      "    error(train)=5.87e-01, acc(train)=8.24e-01, error(valid)=6.06e-01, acc(valid)=8.15e-01\n"
     ]
    },
    {
     "data": {
      "application/vnd.jupyter.widget-view+json": {
       "model_id": "c66557bf54c44f5491d5aa6f061d04ca",
       "version_major": 2,
       "version_minor": 0
      },
      "text/plain": [
       "  0%|          | 0/1000 [00:00<?, ?it/s]"
      ]
     },
     "metadata": {},
     "output_type": "display_data"
    },
    {
     "name": "stderr",
     "output_type": "stream",
     "text": [
      "Epoch 72: 4.6s to complete\n",
      "    error(train)=5.87e-01, acc(train)=8.25e-01, error(valid)=6.05e-01, acc(valid)=8.18e-01\n"
     ]
    },
    {
     "data": {
      "application/vnd.jupyter.widget-view+json": {
       "model_id": "420d3ea3529743948ea437e6ba5b0bcb",
       "version_major": 2,
       "version_minor": 0
      },
      "text/plain": [
       "  0%|          | 0/1000 [00:00<?, ?it/s]"
      ]
     },
     "metadata": {},
     "output_type": "display_data"
    },
    {
     "name": "stderr",
     "output_type": "stream",
     "text": [
      "Epoch 73: 4.5s to complete\n",
      "    error(train)=5.88e-01, acc(train)=8.25e-01, error(valid)=6.08e-01, acc(valid)=8.17e-01\n"
     ]
    },
    {
     "data": {
      "application/vnd.jupyter.widget-view+json": {
       "model_id": "4ead3ef2331d409883a39294515d909a",
       "version_major": 2,
       "version_minor": 0
      },
      "text/plain": [
       "  0%|          | 0/1000 [00:00<?, ?it/s]"
      ]
     },
     "metadata": {},
     "output_type": "display_data"
    },
    {
     "name": "stderr",
     "output_type": "stream",
     "text": [
      "Epoch 74: 4.3s to complete\n",
      "    error(train)=5.86e-01, acc(train)=8.23e-01, error(valid)=6.07e-01, acc(valid)=8.15e-01\n"
     ]
    },
    {
     "data": {
      "application/vnd.jupyter.widget-view+json": {
       "model_id": "3174302bb9b646efb5028ed8bf19b443",
       "version_major": 2,
       "version_minor": 0
      },
      "text/plain": [
       "  0%|          | 0/1000 [00:00<?, ?it/s]"
      ]
     },
     "metadata": {},
     "output_type": "display_data"
    },
    {
     "name": "stderr",
     "output_type": "stream",
     "text": [
      "Epoch 75: 3.9s to complete\n",
      "    error(train)=5.88e-01, acc(train)=8.25e-01, error(valid)=6.07e-01, acc(valid)=8.18e-01\n"
     ]
    },
    {
     "data": {
      "application/vnd.jupyter.widget-view+json": {
       "model_id": "92e20f5cb317467589d9d61d78ebc834",
       "version_major": 2,
       "version_minor": 0
      },
      "text/plain": [
       "  0%|          | 0/1000 [00:00<?, ?it/s]"
      ]
     },
     "metadata": {},
     "output_type": "display_data"
    },
    {
     "name": "stderr",
     "output_type": "stream",
     "text": [
      "Epoch 76: 4.4s to complete\n",
      "    error(train)=5.87e-01, acc(train)=8.24e-01, error(valid)=6.07e-01, acc(valid)=8.13e-01\n"
     ]
    },
    {
     "data": {
      "application/vnd.jupyter.widget-view+json": {
       "model_id": "5ad57bc632414e1d81ef52b8829d39f2",
       "version_major": 2,
       "version_minor": 0
      },
      "text/plain": [
       "  0%|          | 0/1000 [00:00<?, ?it/s]"
      ]
     },
     "metadata": {},
     "output_type": "display_data"
    },
    {
     "name": "stderr",
     "output_type": "stream",
     "text": [
      "Epoch 77: 3.9s to complete\n",
      "    error(train)=5.86e-01, acc(train)=8.24e-01, error(valid)=6.07e-01, acc(valid)=8.14e-01\n"
     ]
    },
    {
     "data": {
      "application/vnd.jupyter.widget-view+json": {
       "model_id": "0739379df4114c548be95bceb3b05471",
       "version_major": 2,
       "version_minor": 0
      },
      "text/plain": [
       "  0%|          | 0/1000 [00:00<?, ?it/s]"
      ]
     },
     "metadata": {},
     "output_type": "display_data"
    },
    {
     "name": "stderr",
     "output_type": "stream",
     "text": [
      "Epoch 78: 4.2s to complete\n",
      "    error(train)=5.86e-01, acc(train)=8.24e-01, error(valid)=6.07e-01, acc(valid)=8.15e-01\n"
     ]
    },
    {
     "data": {
      "application/vnd.jupyter.widget-view+json": {
       "model_id": "e59f6d40d840464b9adfedb9af13900f",
       "version_major": 2,
       "version_minor": 0
      },
      "text/plain": [
       "  0%|          | 0/1000 [00:00<?, ?it/s]"
      ]
     },
     "metadata": {},
     "output_type": "display_data"
    },
    {
     "name": "stderr",
     "output_type": "stream",
     "text": [
      "Epoch 79: 4.4s to complete\n",
      "    error(train)=5.86e-01, acc(train)=8.24e-01, error(valid)=6.09e-01, acc(valid)=8.14e-01\n"
     ]
    },
    {
     "data": {
      "application/vnd.jupyter.widget-view+json": {
       "model_id": "41c96343b18f431e83ac35ffbe130db9",
       "version_major": 2,
       "version_minor": 0
      },
      "text/plain": [
       "  0%|          | 0/1000 [00:00<?, ?it/s]"
      ]
     },
     "metadata": {},
     "output_type": "display_data"
    },
    {
     "name": "stderr",
     "output_type": "stream",
     "text": [
      "Epoch 80: 4.3s to complete\n",
      "    error(train)=5.82e-01, acc(train)=8.26e-01, error(valid)=6.03e-01, acc(valid)=8.17e-01\n"
     ]
    },
    {
     "data": {
      "application/vnd.jupyter.widget-view+json": {
       "model_id": "ba60b07559824a5aa1fd551aa1cb95c4",
       "version_major": 2,
       "version_minor": 0
      },
      "text/plain": [
       "  0%|          | 0/1000 [00:00<?, ?it/s]"
      ]
     },
     "metadata": {},
     "output_type": "display_data"
    },
    {
     "name": "stderr",
     "output_type": "stream",
     "text": [
      "Epoch 81: 3.9s to complete\n",
      "    error(train)=5.83e-01, acc(train)=8.26e-01, error(valid)=6.03e-01, acc(valid)=8.18e-01\n"
     ]
    },
    {
     "data": {
      "application/vnd.jupyter.widget-view+json": {
       "model_id": "1d39ec38c49548b695331852a961f5f3",
       "version_major": 2,
       "version_minor": 0
      },
      "text/plain": [
       "  0%|          | 0/1000 [00:00<?, ?it/s]"
      ]
     },
     "metadata": {},
     "output_type": "display_data"
    },
    {
     "name": "stderr",
     "output_type": "stream",
     "text": [
      "Epoch 82: 4.5s to complete\n",
      "    error(train)=5.86e-01, acc(train)=8.25e-01, error(valid)=6.07e-01, acc(valid)=8.17e-01\n"
     ]
    },
    {
     "data": {
      "application/vnd.jupyter.widget-view+json": {
       "model_id": "f6fb9df0c0d443b3b60f27e8837e2274",
       "version_major": 2,
       "version_minor": 0
      },
      "text/plain": [
       "  0%|          | 0/1000 [00:00<?, ?it/s]"
      ]
     },
     "metadata": {},
     "output_type": "display_data"
    },
    {
     "name": "stderr",
     "output_type": "stream",
     "text": [
      "Epoch 83: 4.1s to complete\n",
      "    error(train)=5.81e-01, acc(train)=8.26e-01, error(valid)=6.01e-01, acc(valid)=8.19e-01\n"
     ]
    },
    {
     "data": {
      "application/vnd.jupyter.widget-view+json": {
       "model_id": "e4e155fa7fbf4eb690569a386e02dd05",
       "version_major": 2,
       "version_minor": 0
      },
      "text/plain": [
       "  0%|          | 0/1000 [00:00<?, ?it/s]"
      ]
     },
     "metadata": {},
     "output_type": "display_data"
    },
    {
     "name": "stderr",
     "output_type": "stream",
     "text": [
      "Epoch 84: 4.4s to complete\n",
      "    error(train)=5.84e-01, acc(train)=8.25e-01, error(valid)=6.05e-01, acc(valid)=8.18e-01\n"
     ]
    },
    {
     "data": {
      "application/vnd.jupyter.widget-view+json": {
       "model_id": "2eee1df4e50a4255b10bec3c55b8c7d5",
       "version_major": 2,
       "version_minor": 0
      },
      "text/plain": [
       "  0%|          | 0/1000 [00:00<?, ?it/s]"
      ]
     },
     "metadata": {},
     "output_type": "display_data"
    },
    {
     "name": "stderr",
     "output_type": "stream",
     "text": [
      "Epoch 85: 4.5s to complete\n",
      "    error(train)=5.85e-01, acc(train)=8.26e-01, error(valid)=6.06e-01, acc(valid)=8.17e-01\n"
     ]
    },
    {
     "data": {
      "application/vnd.jupyter.widget-view+json": {
       "model_id": "b4181fea2da84e0b8decdcf446dd4008",
       "version_major": 2,
       "version_minor": 0
      },
      "text/plain": [
       "  0%|          | 0/1000 [00:00<?, ?it/s]"
      ]
     },
     "metadata": {},
     "output_type": "display_data"
    },
    {
     "name": "stderr",
     "output_type": "stream",
     "text": [
      "Epoch 86: 3.5s to complete\n",
      "    error(train)=5.84e-01, acc(train)=8.24e-01, error(valid)=6.06e-01, acc(valid)=8.15e-01\n"
     ]
    },
    {
     "data": {
      "application/vnd.jupyter.widget-view+json": {
       "model_id": "414d02196fcc4a22a9f43d35bcd12f27",
       "version_major": 2,
       "version_minor": 0
      },
      "text/plain": [
       "  0%|          | 0/1000 [00:00<?, ?it/s]"
      ]
     },
     "metadata": {},
     "output_type": "display_data"
    },
    {
     "name": "stderr",
     "output_type": "stream",
     "text": [
      "Epoch 87: 4.0s to complete\n",
      "    error(train)=5.82e-01, acc(train)=8.26e-01, error(valid)=6.04e-01, acc(valid)=8.17e-01\n"
     ]
    },
    {
     "data": {
      "application/vnd.jupyter.widget-view+json": {
       "model_id": "e4e8b74364f94f22b0755db0da62ba64",
       "version_major": 2,
       "version_minor": 0
      },
      "text/plain": [
       "  0%|          | 0/1000 [00:00<?, ?it/s]"
      ]
     },
     "metadata": {},
     "output_type": "display_data"
    },
    {
     "name": "stderr",
     "output_type": "stream",
     "text": [
      "Epoch 88: 3.8s to complete\n",
      "    error(train)=5.82e-01, acc(train)=8.25e-01, error(valid)=6.03e-01, acc(valid)=8.15e-01\n"
     ]
    },
    {
     "data": {
      "application/vnd.jupyter.widget-view+json": {
       "model_id": "538f797537c84d108047eb202615c879",
       "version_major": 2,
       "version_minor": 0
      },
      "text/plain": [
       "  0%|          | 0/1000 [00:00<?, ?it/s]"
      ]
     },
     "metadata": {},
     "output_type": "display_data"
    },
    {
     "name": "stderr",
     "output_type": "stream",
     "text": [
      "Epoch 89: 4.1s to complete\n",
      "    error(train)=5.79e-01, acc(train)=8.27e-01, error(valid)=6.00e-01, acc(valid)=8.17e-01\n"
     ]
    },
    {
     "data": {
      "application/vnd.jupyter.widget-view+json": {
       "model_id": "a19a3d05059d4669adb2fa4ceb994c3b",
       "version_major": 2,
       "version_minor": 0
      },
      "text/plain": [
       "  0%|          | 0/1000 [00:00<?, ?it/s]"
      ]
     },
     "metadata": {},
     "output_type": "display_data"
    },
    {
     "name": "stderr",
     "output_type": "stream",
     "text": [
      "Epoch 90: 4.2s to complete\n",
      "    error(train)=5.80e-01, acc(train)=8.25e-01, error(valid)=6.02e-01, acc(valid)=8.16e-01\n"
     ]
    },
    {
     "data": {
      "application/vnd.jupyter.widget-view+json": {
       "model_id": "a2716be51a7a4621bf4095956e5a5b5c",
       "version_major": 2,
       "version_minor": 0
      },
      "text/plain": [
       "  0%|          | 0/1000 [00:00<?, ?it/s]"
      ]
     },
     "metadata": {},
     "output_type": "display_data"
    },
    {
     "name": "stderr",
     "output_type": "stream",
     "text": [
      "Epoch 91: 4.0s to complete\n",
      "    error(train)=5.77e-01, acc(train)=8.27e-01, error(valid)=6.00e-01, acc(valid)=8.15e-01\n"
     ]
    },
    {
     "data": {
      "application/vnd.jupyter.widget-view+json": {
       "model_id": "52972217af9a42e2a162864cb27e6f16",
       "version_major": 2,
       "version_minor": 0
      },
      "text/plain": [
       "  0%|          | 0/1000 [00:00<?, ?it/s]"
      ]
     },
     "metadata": {},
     "output_type": "display_data"
    },
    {
     "name": "stderr",
     "output_type": "stream",
     "text": [
      "Epoch 92: 3.7s to complete\n",
      "    error(train)=5.82e-01, acc(train)=8.25e-01, error(valid)=6.03e-01, acc(valid)=8.16e-01\n"
     ]
    },
    {
     "data": {
      "application/vnd.jupyter.widget-view+json": {
       "model_id": "063ebe88acd040bda1e062e62f8fb219",
       "version_major": 2,
       "version_minor": 0
      },
      "text/plain": [
       "  0%|          | 0/1000 [00:00<?, ?it/s]"
      ]
     },
     "metadata": {},
     "output_type": "display_data"
    },
    {
     "name": "stderr",
     "output_type": "stream",
     "text": [
      "Epoch 93: 4.2s to complete\n",
      "    error(train)=5.79e-01, acc(train)=8.25e-01, error(valid)=6.02e-01, acc(valid)=8.14e-01\n"
     ]
    },
    {
     "data": {
      "application/vnd.jupyter.widget-view+json": {
       "model_id": "93c4f0442b2e4daf813df56a7970e96b",
       "version_major": 2,
       "version_minor": 0
      },
      "text/plain": [
       "  0%|          | 0/1000 [00:00<?, ?it/s]"
      ]
     },
     "metadata": {},
     "output_type": "display_data"
    },
    {
     "name": "stderr",
     "output_type": "stream",
     "text": [
      "Epoch 94: 3.7s to complete\n",
      "    error(train)=5.80e-01, acc(train)=8.27e-01, error(valid)=6.03e-01, acc(valid)=8.18e-01\n"
     ]
    },
    {
     "data": {
      "application/vnd.jupyter.widget-view+json": {
       "model_id": "6284462dc8ed4e559ec80d7f7722dbb4",
       "version_major": 2,
       "version_minor": 0
      },
      "text/plain": [
       "  0%|          | 0/1000 [00:00<?, ?it/s]"
      ]
     },
     "metadata": {},
     "output_type": "display_data"
    },
    {
     "name": "stderr",
     "output_type": "stream",
     "text": [
      "Epoch 95: 4.7s to complete\n",
      "    error(train)=5.76e-01, acc(train)=8.27e-01, error(valid)=5.99e-01, acc(valid)=8.16e-01\n"
     ]
    },
    {
     "data": {
      "application/vnd.jupyter.widget-view+json": {
       "model_id": "78154350920a47ea82f4bda3095bc4e3",
       "version_major": 2,
       "version_minor": 0
      },
      "text/plain": [
       "  0%|          | 0/1000 [00:00<?, ?it/s]"
      ]
     },
     "metadata": {},
     "output_type": "display_data"
    },
    {
     "name": "stderr",
     "output_type": "stream",
     "text": [
      "Epoch 96: 4.6s to complete\n",
      "    error(train)=5.77e-01, acc(train)=8.28e-01, error(valid)=6.00e-01, acc(valid)=8.18e-01\n"
     ]
    },
    {
     "data": {
      "application/vnd.jupyter.widget-view+json": {
       "model_id": "3d0572c0492845c0a5e53a9aa595e5a4",
       "version_major": 2,
       "version_minor": 0
      },
      "text/plain": [
       "  0%|          | 0/1000 [00:00<?, ?it/s]"
      ]
     },
     "metadata": {},
     "output_type": "display_data"
    },
    {
     "name": "stderr",
     "output_type": "stream",
     "text": [
      "Epoch 97: 4.7s to complete\n",
      "    error(train)=5.87e-01, acc(train)=8.25e-01, error(valid)=6.09e-01, acc(valid)=8.14e-01\n"
     ]
    },
    {
     "data": {
      "application/vnd.jupyter.widget-view+json": {
       "model_id": "698e019b3aa44b5f800208a8e85dd82d",
       "version_major": 2,
       "version_minor": 0
      },
      "text/plain": [
       "  0%|          | 0/1000 [00:00<?, ?it/s]"
      ]
     },
     "metadata": {},
     "output_type": "display_data"
    },
    {
     "name": "stderr",
     "output_type": "stream",
     "text": [
      "Epoch 98: 3.7s to complete\n",
      "    error(train)=5.78e-01, acc(train)=8.27e-01, error(valid)=6.01e-01, acc(valid)=8.17e-01\n"
     ]
    },
    {
     "data": {
      "application/vnd.jupyter.widget-view+json": {
       "model_id": "74d6f3e72c75483992af24abe22b5b70",
       "version_major": 2,
       "version_minor": 0
      },
      "text/plain": [
       "  0%|          | 0/1000 [00:00<?, ?it/s]"
      ]
     },
     "metadata": {},
     "output_type": "display_data"
    },
    {
     "name": "stderr",
     "output_type": "stream",
     "text": [
      "Epoch 99: 4.3s to complete\n",
      "    error(train)=5.79e-01, acc(train)=8.27e-01, error(valid)=6.01e-01, acc(valid)=8.18e-01\n"
     ]
    },
    {
     "data": {
      "application/vnd.jupyter.widget-view+json": {
       "model_id": "39bfe7112dbf4399a8229d09787c7c0a",
       "version_major": 2,
       "version_minor": 0
      },
      "text/plain": [
       "  0%|          | 0/1000 [00:00<?, ?it/s]"
      ]
     },
     "metadata": {},
     "output_type": "display_data"
    },
    {
     "name": "stderr",
     "output_type": "stream",
     "text": [
      "Epoch 100: 3.8s to complete\n",
      "    error(train)=5.76e-01, acc(train)=8.28e-01, error(valid)=5.97e-01, acc(valid)=8.19e-01\n"
     ]
    },
    {
     "data": {
      "application/vnd.jupyter.widget-view+json": {
       "model_id": "e87e63abe511483da1772006afcf4858",
       "version_major": 2,
       "version_minor": 0
      },
      "text/plain": [
       "  0%|          | 0/100 [00:00<?, ?it/s]"
      ]
     },
     "metadata": {},
     "output_type": "display_data"
    },
    {
     "data": {
      "application/vnd.jupyter.widget-view+json": {
       "model_id": "07f5de12ea5d4e36b1e6a3f0687a39f3",
       "version_major": 2,
       "version_minor": 0
      },
      "text/plain": [
       "  0%|          | 0/1000 [00:00<?, ?it/s]"
      ]
     },
     "metadata": {},
     "output_type": "display_data"
    },
    {
     "name": "stderr",
     "output_type": "stream",
     "text": [
      "Epoch 1: 2.4s to complete\n",
      "    error(train)=2.52e+00, acc(train)=3.59e-01, error(valid)=2.52e+00, acc(valid)=3.58e-01\n"
     ]
    },
    {
     "data": {
      "application/vnd.jupyter.widget-view+json": {
       "model_id": "627f74b71f3b45fab9dd7f15b9439bd3",
       "version_major": 2,
       "version_minor": 0
      },
      "text/plain": [
       "  0%|          | 0/1000 [00:00<?, ?it/s]"
      ]
     },
     "metadata": {},
     "output_type": "display_data"
    },
    {
     "name": "stderr",
     "output_type": "stream",
     "text": [
      "Epoch 2: 2.3s to complete\n",
      "    error(train)=2.33e+00, acc(train)=3.83e-01, error(valid)=2.33e+00, acc(valid)=3.76e-01\n"
     ]
    },
    {
     "data": {
      "application/vnd.jupyter.widget-view+json": {
       "model_id": "ccf6d42eb751482d989d16416e36cfd9",
       "version_major": 2,
       "version_minor": 0
      },
      "text/plain": [
       "  0%|          | 0/1000 [00:00<?, ?it/s]"
      ]
     },
     "metadata": {},
     "output_type": "display_data"
    },
    {
     "name": "stderr",
     "output_type": "stream",
     "text": [
      "Epoch 3: 2.4s to complete\n",
      "    error(train)=2.30e+00, acc(train)=3.88e-01, error(valid)=2.30e+00, acc(valid)=3.80e-01\n"
     ]
    },
    {
     "data": {
      "application/vnd.jupyter.widget-view+json": {
       "model_id": "5c57f264fedb49fc9b78aad576ccd95e",
       "version_major": 2,
       "version_minor": 0
      },
      "text/plain": [
       "  0%|          | 0/1000 [00:00<?, ?it/s]"
      ]
     },
     "metadata": {},
     "output_type": "display_data"
    },
    {
     "name": "stderr",
     "output_type": "stream",
     "text": [
      "Epoch 4: 2.5s to complete\n",
      "    error(train)=2.30e+00, acc(train)=3.83e-01, error(valid)=2.30e+00, acc(valid)=3.81e-01\n"
     ]
    },
    {
     "data": {
      "application/vnd.jupyter.widget-view+json": {
       "model_id": "caa214701eeb497cbad971b45c97f4b9",
       "version_major": 2,
       "version_minor": 0
      },
      "text/plain": [
       "  0%|          | 0/1000 [00:00<?, ?it/s]"
      ]
     },
     "metadata": {},
     "output_type": "display_data"
    },
    {
     "name": "stderr",
     "output_type": "stream",
     "text": [
      "Epoch 5: 2.5s to complete\n",
      "    error(train)=2.29e+00, acc(train)=3.84e-01, error(valid)=2.28e+00, acc(valid)=3.80e-01\n"
     ]
    },
    {
     "data": {
      "application/vnd.jupyter.widget-view+json": {
       "model_id": "45c9a7c5581a45029cc1e151b82b9a6c",
       "version_major": 2,
       "version_minor": 0
      },
      "text/plain": [
       "  0%|          | 0/1000 [00:00<?, ?it/s]"
      ]
     },
     "metadata": {},
     "output_type": "display_data"
    },
    {
     "name": "stderr",
     "output_type": "stream",
     "text": [
      "Epoch 6: 2.5s to complete\n",
      "    error(train)=2.28e+00, acc(train)=3.87e-01, error(valid)=2.28e+00, acc(valid)=3.84e-01\n"
     ]
    },
    {
     "data": {
      "application/vnd.jupyter.widget-view+json": {
       "model_id": "93e23e6b94ff46a481c0ca74f79368d9",
       "version_major": 2,
       "version_minor": 0
      },
      "text/plain": [
       "  0%|          | 0/1000 [00:00<?, ?it/s]"
      ]
     },
     "metadata": {},
     "output_type": "display_data"
    },
    {
     "name": "stderr",
     "output_type": "stream",
     "text": [
      "Epoch 7: 2.3s to complete\n",
      "    error(train)=2.28e+00, acc(train)=3.84e-01, error(valid)=2.28e+00, acc(valid)=3.82e-01\n"
     ]
    },
    {
     "data": {
      "application/vnd.jupyter.widget-view+json": {
       "model_id": "abdacd7476784ebab0555994c5cfe0f4",
       "version_major": 2,
       "version_minor": 0
      },
      "text/plain": [
       "  0%|          | 0/1000 [00:00<?, ?it/s]"
      ]
     },
     "metadata": {},
     "output_type": "display_data"
    },
    {
     "name": "stderr",
     "output_type": "stream",
     "text": [
      "Epoch 8: 2.5s to complete\n",
      "    error(train)=2.28e+00, acc(train)=3.84e-01, error(valid)=2.27e+00, acc(valid)=3.80e-01\n"
     ]
    },
    {
     "data": {
      "application/vnd.jupyter.widget-view+json": {
       "model_id": "cde7bb28adef48d09c0901618d4e31b3",
       "version_major": 2,
       "version_minor": 0
      },
      "text/plain": [
       "  0%|          | 0/1000 [00:00<?, ?it/s]"
      ]
     },
     "metadata": {},
     "output_type": "display_data"
    },
    {
     "name": "stderr",
     "output_type": "stream",
     "text": [
      "Epoch 9: 2.5s to complete\n",
      "    error(train)=2.27e+00, acc(train)=3.88e-01, error(valid)=2.27e+00, acc(valid)=3.82e-01\n"
     ]
    },
    {
     "data": {
      "application/vnd.jupyter.widget-view+json": {
       "model_id": "e6008e4c686141bc80ec6256c17cf3f1",
       "version_major": 2,
       "version_minor": 0
      },
      "text/plain": [
       "  0%|          | 0/1000 [00:00<?, ?it/s]"
      ]
     },
     "metadata": {},
     "output_type": "display_data"
    },
    {
     "name": "stderr",
     "output_type": "stream",
     "text": [
      "Epoch 10: 2.3s to complete\n",
      "    error(train)=2.27e+00, acc(train)=3.88e-01, error(valid)=2.26e+00, acc(valid)=3.86e-01\n"
     ]
    },
    {
     "data": {
      "application/vnd.jupyter.widget-view+json": {
       "model_id": "342b653c410e410e8494caabb70fe55e",
       "version_major": 2,
       "version_minor": 0
      },
      "text/plain": [
       "  0%|          | 0/1000 [00:00<?, ?it/s]"
      ]
     },
     "metadata": {},
     "output_type": "display_data"
    },
    {
     "name": "stderr",
     "output_type": "stream",
     "text": [
      "Epoch 11: 2.4s to complete\n",
      "    error(train)=2.26e+00, acc(train)=3.91e-01, error(valid)=2.26e+00, acc(valid)=3.86e-01\n"
     ]
    },
    {
     "data": {
      "application/vnd.jupyter.widget-view+json": {
       "model_id": "b9e7210ec51c440db7f5d858be3bfe41",
       "version_major": 2,
       "version_minor": 0
      },
      "text/plain": [
       "  0%|          | 0/1000 [00:00<?, ?it/s]"
      ]
     },
     "metadata": {},
     "output_type": "display_data"
    },
    {
     "name": "stderr",
     "output_type": "stream",
     "text": [
      "Epoch 12: 2.5s to complete\n",
      "    error(train)=2.27e+00, acc(train)=3.87e-01, error(valid)=2.26e+00, acc(valid)=3.83e-01\n"
     ]
    },
    {
     "data": {
      "application/vnd.jupyter.widget-view+json": {
       "model_id": "16f8ab26c9e5402f8d5ceae5bfe4003d",
       "version_major": 2,
       "version_minor": 0
      },
      "text/plain": [
       "  0%|          | 0/1000 [00:00<?, ?it/s]"
      ]
     },
     "metadata": {},
     "output_type": "display_data"
    },
    {
     "name": "stderr",
     "output_type": "stream",
     "text": [
      "Epoch 13: 2.5s to complete\n",
      "    error(train)=2.25e+00, acc(train)=3.90e-01, error(valid)=2.25e+00, acc(valid)=3.85e-01\n"
     ]
    },
    {
     "data": {
      "application/vnd.jupyter.widget-view+json": {
       "model_id": "4dba633034fd4ad583b6401836cf2ac9",
       "version_major": 2,
       "version_minor": 0
      },
      "text/plain": [
       "  0%|          | 0/1000 [00:00<?, ?it/s]"
      ]
     },
     "metadata": {},
     "output_type": "display_data"
    },
    {
     "name": "stderr",
     "output_type": "stream",
     "text": [
      "Epoch 14: 2.8s to complete\n",
      "    error(train)=2.26e+00, acc(train)=3.91e-01, error(valid)=2.25e+00, acc(valid)=3.84e-01\n"
     ]
    },
    {
     "data": {
      "application/vnd.jupyter.widget-view+json": {
       "model_id": "8295cafa36fc4149aaf16bf53849933e",
       "version_major": 2,
       "version_minor": 0
      },
      "text/plain": [
       "  0%|          | 0/1000 [00:00<?, ?it/s]"
      ]
     },
     "metadata": {},
     "output_type": "display_data"
    },
    {
     "name": "stderr",
     "output_type": "stream",
     "text": [
      "Epoch 15: 3.5s to complete\n",
      "    error(train)=2.25e+00, acc(train)=3.94e-01, error(valid)=2.25e+00, acc(valid)=3.87e-01\n"
     ]
    },
    {
     "data": {
      "application/vnd.jupyter.widget-view+json": {
       "model_id": "c8f47d6659b9435499f8572cdfdc5138",
       "version_major": 2,
       "version_minor": 0
      },
      "text/plain": [
       "  0%|          | 0/1000 [00:00<?, ?it/s]"
      ]
     },
     "metadata": {},
     "output_type": "display_data"
    },
    {
     "name": "stderr",
     "output_type": "stream",
     "text": [
      "Epoch 16: 7.2s to complete\n",
      "    error(train)=2.25e+00, acc(train)=3.92e-01, error(valid)=2.25e+00, acc(valid)=3.87e-01\n"
     ]
    },
    {
     "data": {
      "application/vnd.jupyter.widget-view+json": {
       "model_id": "3324da6e737b4213bc39275db63949f5",
       "version_major": 2,
       "version_minor": 0
      },
      "text/plain": [
       "  0%|          | 0/1000 [00:00<?, ?it/s]"
      ]
     },
     "metadata": {},
     "output_type": "display_data"
    },
    {
     "name": "stderr",
     "output_type": "stream",
     "text": [
      "Epoch 17: 8.2s to complete\n",
      "    error(train)=2.25e+00, acc(train)=3.93e-01, error(valid)=2.25e+00, acc(valid)=3.87e-01\n"
     ]
    },
    {
     "data": {
      "application/vnd.jupyter.widget-view+json": {
       "model_id": "61753dc0fcc54747a51b5bb14a5347d7",
       "version_major": 2,
       "version_minor": 0
      },
      "text/plain": [
       "  0%|          | 0/1000 [00:00<?, ?it/s]"
      ]
     },
     "metadata": {},
     "output_type": "display_data"
    },
    {
     "name": "stderr",
     "output_type": "stream",
     "text": [
      "Epoch 18: 10.6s to complete\n",
      "    error(train)=2.24e+00, acc(train)=3.99e-01, error(valid)=2.24e+00, acc(valid)=3.95e-01\n"
     ]
    },
    {
     "data": {
      "application/vnd.jupyter.widget-view+json": {
       "model_id": "5198195b15444e4cb22b9e4450bcc8ce",
       "version_major": 2,
       "version_minor": 0
      },
      "text/plain": [
       "  0%|          | 0/1000 [00:00<?, ?it/s]"
      ]
     },
     "metadata": {},
     "output_type": "display_data"
    },
    {
     "name": "stderr",
     "output_type": "stream",
     "text": [
      "Epoch 19: 9.7s to complete\n",
      "    error(train)=2.25e+00, acc(train)=3.97e-01, error(valid)=2.25e+00, acc(valid)=3.93e-01\n"
     ]
    },
    {
     "data": {
      "application/vnd.jupyter.widget-view+json": {
       "model_id": "1a4fbf5470a041b4a6bae1bdfb6db8c8",
       "version_major": 2,
       "version_minor": 0
      },
      "text/plain": [
       "  0%|          | 0/1000 [00:00<?, ?it/s]"
      ]
     },
     "metadata": {},
     "output_type": "display_data"
    },
    {
     "name": "stderr",
     "output_type": "stream",
     "text": [
      "Epoch 20: 8.4s to complete\n",
      "    error(train)=2.24e+00, acc(train)=3.96e-01, error(valid)=2.24e+00, acc(valid)=3.90e-01\n"
     ]
    },
    {
     "data": {
      "application/vnd.jupyter.widget-view+json": {
       "model_id": "048260621dc74f4694ec8a6408a3871d",
       "version_major": 2,
       "version_minor": 0
      },
      "text/plain": [
       "  0%|          | 0/1000 [00:00<?, ?it/s]"
      ]
     },
     "metadata": {},
     "output_type": "display_data"
    },
    {
     "name": "stderr",
     "output_type": "stream",
     "text": [
      "Epoch 21: 6.0s to complete\n",
      "    error(train)=2.24e+00, acc(train)=3.98e-01, error(valid)=2.24e+00, acc(valid)=3.92e-01\n"
     ]
    },
    {
     "data": {
      "application/vnd.jupyter.widget-view+json": {
       "model_id": "33d79dae6e114adba6ca0ad7ea5a244f",
       "version_major": 2,
       "version_minor": 0
      },
      "text/plain": [
       "  0%|          | 0/1000 [00:00<?, ?it/s]"
      ]
     },
     "metadata": {},
     "output_type": "display_data"
    },
    {
     "name": "stderr",
     "output_type": "stream",
     "text": [
      "Epoch 22: 5.8s to complete\n",
      "    error(train)=2.24e+00, acc(train)=3.98e-01, error(valid)=2.24e+00, acc(valid)=3.91e-01\n"
     ]
    },
    {
     "data": {
      "application/vnd.jupyter.widget-view+json": {
       "model_id": "186a407c50f347cf97aea0c6dcd68a39",
       "version_major": 2,
       "version_minor": 0
      },
      "text/plain": [
       "  0%|          | 0/1000 [00:00<?, ?it/s]"
      ]
     },
     "metadata": {},
     "output_type": "display_data"
    },
    {
     "name": "stderr",
     "output_type": "stream",
     "text": [
      "Epoch 23: 4.0s to complete\n",
      "    error(train)=2.24e+00, acc(train)=3.98e-01, error(valid)=2.24e+00, acc(valid)=3.93e-01\n"
     ]
    },
    {
     "data": {
      "application/vnd.jupyter.widget-view+json": {
       "model_id": "1186ba42ac504569a40f5b5732c7f16b",
       "version_major": 2,
       "version_minor": 0
      },
      "text/plain": [
       "  0%|          | 0/1000 [00:00<?, ?it/s]"
      ]
     },
     "metadata": {},
     "output_type": "display_data"
    },
    {
     "name": "stderr",
     "output_type": "stream",
     "text": [
      "Epoch 24: 4.1s to complete\n",
      "    error(train)=2.23e+00, acc(train)=4.00e-01, error(valid)=2.23e+00, acc(valid)=3.95e-01\n"
     ]
    },
    {
     "data": {
      "application/vnd.jupyter.widget-view+json": {
       "model_id": "5fa7d515d82c46f29c6902bded7099a0",
       "version_major": 2,
       "version_minor": 0
      },
      "text/plain": [
       "  0%|          | 0/1000 [00:00<?, ?it/s]"
      ]
     },
     "metadata": {},
     "output_type": "display_data"
    },
    {
     "name": "stderr",
     "output_type": "stream",
     "text": [
      "Epoch 25: 3.5s to complete\n",
      "    error(train)=2.24e+00, acc(train)=3.98e-01, error(valid)=2.24e+00, acc(valid)=3.93e-01\n"
     ]
    },
    {
     "data": {
      "application/vnd.jupyter.widget-view+json": {
       "model_id": "2cf975b1479843d09102b4927645b1b1",
       "version_major": 2,
       "version_minor": 0
      },
      "text/plain": [
       "  0%|          | 0/1000 [00:00<?, ?it/s]"
      ]
     },
     "metadata": {},
     "output_type": "display_data"
    },
    {
     "name": "stderr",
     "output_type": "stream",
     "text": [
      "Epoch 26: 3.5s to complete\n",
      "    error(train)=2.23e+00, acc(train)=4.02e-01, error(valid)=2.23e+00, acc(valid)=3.96e-01\n"
     ]
    },
    {
     "data": {
      "application/vnd.jupyter.widget-view+json": {
       "model_id": "a36cf63b206c45cb9870983ab229886e",
       "version_major": 2,
       "version_minor": 0
      },
      "text/plain": [
       "  0%|          | 0/1000 [00:00<?, ?it/s]"
      ]
     },
     "metadata": {},
     "output_type": "display_data"
    },
    {
     "name": "stderr",
     "output_type": "stream",
     "text": [
      "Epoch 27: 3.5s to complete\n",
      "    error(train)=2.23e+00, acc(train)=4.00e-01, error(valid)=2.22e+00, acc(valid)=3.97e-01\n"
     ]
    },
    {
     "data": {
      "application/vnd.jupyter.widget-view+json": {
       "model_id": "29fade86565e48c7a410c289ca823fe6",
       "version_major": 2,
       "version_minor": 0
      },
      "text/plain": [
       "  0%|          | 0/1000 [00:00<?, ?it/s]"
      ]
     },
     "metadata": {},
     "output_type": "display_data"
    },
    {
     "name": "stderr",
     "output_type": "stream",
     "text": [
      "Epoch 28: 3.5s to complete\n",
      "    error(train)=2.22e+00, acc(train)=4.05e-01, error(valid)=2.22e+00, acc(valid)=4.00e-01\n"
     ]
    },
    {
     "data": {
      "application/vnd.jupyter.widget-view+json": {
       "model_id": "85dedcae578b45f986ffcd3b163aad8b",
       "version_major": 2,
       "version_minor": 0
      },
      "text/plain": [
       "  0%|          | 0/1000 [00:00<?, ?it/s]"
      ]
     },
     "metadata": {},
     "output_type": "display_data"
    },
    {
     "name": "stderr",
     "output_type": "stream",
     "text": [
      "Epoch 29: 3.4s to complete\n",
      "    error(train)=2.22e+00, acc(train)=4.05e-01, error(valid)=2.22e+00, acc(valid)=3.99e-01\n"
     ]
    },
    {
     "data": {
      "application/vnd.jupyter.widget-view+json": {
       "model_id": "d57db659126a4c6cb6357c2f4d5b4ff8",
       "version_major": 2,
       "version_minor": 0
      },
      "text/plain": [
       "  0%|          | 0/1000 [00:00<?, ?it/s]"
      ]
     },
     "metadata": {},
     "output_type": "display_data"
    },
    {
     "name": "stderr",
     "output_type": "stream",
     "text": [
      "Epoch 30: 3.5s to complete\n",
      "    error(train)=2.22e+00, acc(train)=4.08e-01, error(valid)=2.21e+00, acc(valid)=4.06e-01\n"
     ]
    },
    {
     "data": {
      "application/vnd.jupyter.widget-view+json": {
       "model_id": "cf68a24fe2884192b66c30527d7fb81a",
       "version_major": 2,
       "version_minor": 0
      },
      "text/plain": [
       "  0%|          | 0/1000 [00:00<?, ?it/s]"
      ]
     },
     "metadata": {},
     "output_type": "display_data"
    },
    {
     "name": "stderr",
     "output_type": "stream",
     "text": [
      "Epoch 31: 3.4s to complete\n",
      "    error(train)=2.22e+00, acc(train)=4.07e-01, error(valid)=2.22e+00, acc(valid)=4.05e-01\n"
     ]
    },
    {
     "data": {
      "application/vnd.jupyter.widget-view+json": {
       "model_id": "a46f881084c9453c8a4864aa171e5899",
       "version_major": 2,
       "version_minor": 0
      },
      "text/plain": [
       "  0%|          | 0/1000 [00:00<?, ?it/s]"
      ]
     },
     "metadata": {},
     "output_type": "display_data"
    },
    {
     "name": "stderr",
     "output_type": "stream",
     "text": [
      "Epoch 32: 3.3s to complete\n",
      "    error(train)=2.21e+00, acc(train)=4.05e-01, error(valid)=2.21e+00, acc(valid)=3.99e-01\n"
     ]
    },
    {
     "data": {
      "application/vnd.jupyter.widget-view+json": {
       "model_id": "4fc19b56d2e240c3803e12d176d0c092",
       "version_major": 2,
       "version_minor": 0
      },
      "text/plain": [
       "  0%|          | 0/1000 [00:00<?, ?it/s]"
      ]
     },
     "metadata": {},
     "output_type": "display_data"
    },
    {
     "name": "stderr",
     "output_type": "stream",
     "text": [
      "Epoch 33: 3.4s to complete\n",
      "    error(train)=2.21e+00, acc(train)=4.05e-01, error(valid)=2.21e+00, acc(valid)=4.04e-01\n"
     ]
    },
    {
     "data": {
      "application/vnd.jupyter.widget-view+json": {
       "model_id": "a5b05d2a35444c5d98f668a62462877d",
       "version_major": 2,
       "version_minor": 0
      },
      "text/plain": [
       "  0%|          | 0/1000 [00:00<?, ?it/s]"
      ]
     },
     "metadata": {},
     "output_type": "display_data"
    },
    {
     "name": "stderr",
     "output_type": "stream",
     "text": [
      "Epoch 34: 3.4s to complete\n",
      "    error(train)=2.21e+00, acc(train)=4.06e-01, error(valid)=2.20e+00, acc(valid)=4.05e-01\n"
     ]
    },
    {
     "data": {
      "application/vnd.jupyter.widget-view+json": {
       "model_id": "022f80915f5a45249c41d01e1e6d512e",
       "version_major": 2,
       "version_minor": 0
      },
      "text/plain": [
       "  0%|          | 0/1000 [00:00<?, ?it/s]"
      ]
     },
     "metadata": {},
     "output_type": "display_data"
    },
    {
     "name": "stderr",
     "output_type": "stream",
     "text": [
      "Epoch 35: 2.9s to complete\n",
      "    error(train)=2.21e+00, acc(train)=4.11e-01, error(valid)=2.21e+00, acc(valid)=4.08e-01\n"
     ]
    },
    {
     "data": {
      "application/vnd.jupyter.widget-view+json": {
       "model_id": "5809a4252b5b47cca3ae14d37d4ac591",
       "version_major": 2,
       "version_minor": 0
      },
      "text/plain": [
       "  0%|          | 0/1000 [00:00<?, ?it/s]"
      ]
     },
     "metadata": {},
     "output_type": "display_data"
    },
    {
     "name": "stderr",
     "output_type": "stream",
     "text": [
      "Epoch 36: 2.7s to complete\n",
      "    error(train)=2.21e+00, acc(train)=4.12e-01, error(valid)=2.20e+00, acc(valid)=4.06e-01\n"
     ]
    },
    {
     "data": {
      "application/vnd.jupyter.widget-view+json": {
       "model_id": "7623ebf932594f74ab19a749d0799d18",
       "version_major": 2,
       "version_minor": 0
      },
      "text/plain": [
       "  0%|          | 0/1000 [00:00<?, ?it/s]"
      ]
     },
     "metadata": {},
     "output_type": "display_data"
    },
    {
     "name": "stderr",
     "output_type": "stream",
     "text": [
      "Epoch 37: 2.6s to complete\n",
      "    error(train)=2.20e+00, acc(train)=4.10e-01, error(valid)=2.20e+00, acc(valid)=4.05e-01\n"
     ]
    },
    {
     "data": {
      "application/vnd.jupyter.widget-view+json": {
       "model_id": "fbf3cd2d48204be3b0da02cd2b4a3211",
       "version_major": 2,
       "version_minor": 0
      },
      "text/plain": [
       "  0%|          | 0/1000 [00:00<?, ?it/s]"
      ]
     },
     "metadata": {},
     "output_type": "display_data"
    },
    {
     "name": "stderr",
     "output_type": "stream",
     "text": [
      "Epoch 38: 2.6s to complete\n",
      "    error(train)=2.20e+00, acc(train)=4.08e-01, error(valid)=2.20e+00, acc(valid)=4.04e-01\n"
     ]
    },
    {
     "data": {
      "application/vnd.jupyter.widget-view+json": {
       "model_id": "2000a575f78f4340a3219522496a1580",
       "version_major": 2,
       "version_minor": 0
      },
      "text/plain": [
       "  0%|          | 0/1000 [00:00<?, ?it/s]"
      ]
     },
     "metadata": {},
     "output_type": "display_data"
    },
    {
     "name": "stderr",
     "output_type": "stream",
     "text": [
      "Epoch 39: 2.5s to complete\n",
      "    error(train)=2.20e+00, acc(train)=4.08e-01, error(valid)=2.20e+00, acc(valid)=4.03e-01\n"
     ]
    },
    {
     "data": {
      "application/vnd.jupyter.widget-view+json": {
       "model_id": "5346a0fcf7a44e30bc9802722d9c6aea",
       "version_major": 2,
       "version_minor": 0
      },
      "text/plain": [
       "  0%|          | 0/1000 [00:00<?, ?it/s]"
      ]
     },
     "metadata": {},
     "output_type": "display_data"
    },
    {
     "name": "stderr",
     "output_type": "stream",
     "text": [
      "Epoch 40: 2.5s to complete\n",
      "    error(train)=2.19e+00, acc(train)=4.11e-01, error(valid)=2.19e+00, acc(valid)=4.09e-01\n"
     ]
    },
    {
     "data": {
      "application/vnd.jupyter.widget-view+json": {
       "model_id": "0541a1c1e05f429fa48ee512f9d11cbc",
       "version_major": 2,
       "version_minor": 0
      },
      "text/plain": [
       "  0%|          | 0/1000 [00:00<?, ?it/s]"
      ]
     },
     "metadata": {},
     "output_type": "display_data"
    },
    {
     "name": "stderr",
     "output_type": "stream",
     "text": [
      "Epoch 41: 2.5s to complete\n",
      "    error(train)=2.20e+00, acc(train)=4.12e-01, error(valid)=2.19e+00, acc(valid)=4.08e-01\n"
     ]
    },
    {
     "data": {
      "application/vnd.jupyter.widget-view+json": {
       "model_id": "4b0c689c09c741938e77c2f7364d2a38",
       "version_major": 2,
       "version_minor": 0
      },
      "text/plain": [
       "  0%|          | 0/1000 [00:00<?, ?it/s]"
      ]
     },
     "metadata": {},
     "output_type": "display_data"
    },
    {
     "name": "stderr",
     "output_type": "stream",
     "text": [
      "Epoch 42: 2.5s to complete\n",
      "    error(train)=2.20e+00, acc(train)=4.09e-01, error(valid)=2.20e+00, acc(valid)=4.06e-01\n"
     ]
    },
    {
     "data": {
      "application/vnd.jupyter.widget-view+json": {
       "model_id": "2a705d0a77fc4fa4b57d4142143004df",
       "version_major": 2,
       "version_minor": 0
      },
      "text/plain": [
       "  0%|          | 0/1000 [00:00<?, ?it/s]"
      ]
     },
     "metadata": {},
     "output_type": "display_data"
    },
    {
     "name": "stderr",
     "output_type": "stream",
     "text": [
      "Epoch 43: 2.7s to complete\n",
      "    error(train)=2.19e+00, acc(train)=4.10e-01, error(valid)=2.19e+00, acc(valid)=4.08e-01\n"
     ]
    },
    {
     "data": {
      "application/vnd.jupyter.widget-view+json": {
       "model_id": "800e9e1dd3cf45a49c3c32985ed17238",
       "version_major": 2,
       "version_minor": 0
      },
      "text/plain": [
       "  0%|          | 0/1000 [00:00<?, ?it/s]"
      ]
     },
     "metadata": {},
     "output_type": "display_data"
    },
    {
     "name": "stderr",
     "output_type": "stream",
     "text": [
      "Epoch 44: 2.6s to complete\n",
      "    error(train)=2.19e+00, acc(train)=4.12e-01, error(valid)=2.19e+00, acc(valid)=4.10e-01\n"
     ]
    },
    {
     "data": {
      "application/vnd.jupyter.widget-view+json": {
       "model_id": "3ba8735425a740ea961e683382db688e",
       "version_major": 2,
       "version_minor": 0
      },
      "text/plain": [
       "  0%|          | 0/1000 [00:00<?, ?it/s]"
      ]
     },
     "metadata": {},
     "output_type": "display_data"
    },
    {
     "name": "stderr",
     "output_type": "stream",
     "text": [
      "Epoch 45: 2.6s to complete\n",
      "    error(train)=2.19e+00, acc(train)=4.09e-01, error(valid)=2.19e+00, acc(valid)=4.05e-01\n"
     ]
    },
    {
     "data": {
      "application/vnd.jupyter.widget-view+json": {
       "model_id": "3141ccf6e30342788c401e7b0f462793",
       "version_major": 2,
       "version_minor": 0
      },
      "text/plain": [
       "  0%|          | 0/1000 [00:00<?, ?it/s]"
      ]
     },
     "metadata": {},
     "output_type": "display_data"
    },
    {
     "name": "stderr",
     "output_type": "stream",
     "text": [
      "Epoch 46: 2.6s to complete\n",
      "    error(train)=2.19e+00, acc(train)=4.05e-01, error(valid)=2.19e+00, acc(valid)=4.02e-01\n"
     ]
    },
    {
     "data": {
      "application/vnd.jupyter.widget-view+json": {
       "model_id": "df12d399e2de4eb099e189dd7fae41ef",
       "version_major": 2,
       "version_minor": 0
      },
      "text/plain": [
       "  0%|          | 0/1000 [00:00<?, ?it/s]"
      ]
     },
     "metadata": {},
     "output_type": "display_data"
    },
    {
     "name": "stderr",
     "output_type": "stream",
     "text": [
      "Epoch 47: 2.8s to complete\n",
      "    error(train)=2.19e+00, acc(train)=4.10e-01, error(valid)=2.19e+00, acc(valid)=4.08e-01\n"
     ]
    },
    {
     "data": {
      "application/vnd.jupyter.widget-view+json": {
       "model_id": "57e93fc93c554baf86ebf0f3b835586a",
       "version_major": 2,
       "version_minor": 0
      },
      "text/plain": [
       "  0%|          | 0/1000 [00:00<?, ?it/s]"
      ]
     },
     "metadata": {},
     "output_type": "display_data"
    },
    {
     "name": "stderr",
     "output_type": "stream",
     "text": [
      "Epoch 48: 2.8s to complete\n",
      "    error(train)=2.18e+00, acc(train)=4.11e-01, error(valid)=2.18e+00, acc(valid)=4.10e-01\n"
     ]
    },
    {
     "data": {
      "application/vnd.jupyter.widget-view+json": {
       "model_id": "c97c027102904130be82eea4582639ab",
       "version_major": 2,
       "version_minor": 0
      },
      "text/plain": [
       "  0%|          | 0/1000 [00:00<?, ?it/s]"
      ]
     },
     "metadata": {},
     "output_type": "display_data"
    },
    {
     "name": "stderr",
     "output_type": "stream",
     "text": [
      "Epoch 49: 2.7s to complete\n",
      "    error(train)=2.19e+00, acc(train)=4.11e-01, error(valid)=2.18e+00, acc(valid)=4.08e-01\n"
     ]
    },
    {
     "data": {
      "application/vnd.jupyter.widget-view+json": {
       "model_id": "d360926cebff4da8b8d56308291dda36",
       "version_major": 2,
       "version_minor": 0
      },
      "text/plain": [
       "  0%|          | 0/1000 [00:00<?, ?it/s]"
      ]
     },
     "metadata": {},
     "output_type": "display_data"
    },
    {
     "name": "stderr",
     "output_type": "stream",
     "text": [
      "Epoch 50: 2.6s to complete\n",
      "    error(train)=2.18e+00, acc(train)=4.14e-01, error(valid)=2.18e+00, acc(valid)=4.07e-01\n"
     ]
    },
    {
     "data": {
      "application/vnd.jupyter.widget-view+json": {
       "model_id": "b1ca7b22103546099c4590b787cfdd99",
       "version_major": 2,
       "version_minor": 0
      },
      "text/plain": [
       "  0%|          | 0/1000 [00:00<?, ?it/s]"
      ]
     },
     "metadata": {},
     "output_type": "display_data"
    },
    {
     "name": "stderr",
     "output_type": "stream",
     "text": [
      "Epoch 51: 2.7s to complete\n",
      "    error(train)=2.19e+00, acc(train)=4.11e-01, error(valid)=2.19e+00, acc(valid)=4.07e-01\n"
     ]
    },
    {
     "data": {
      "application/vnd.jupyter.widget-view+json": {
       "model_id": "692eea67b21047b1a1c8a99c6f617d9a",
       "version_major": 2,
       "version_minor": 0
      },
      "text/plain": [
       "  0%|          | 0/1000 [00:00<?, ?it/s]"
      ]
     },
     "metadata": {},
     "output_type": "display_data"
    },
    {
     "name": "stderr",
     "output_type": "stream",
     "text": [
      "Epoch 52: 2.7s to complete\n",
      "    error(train)=2.18e+00, acc(train)=4.14e-01, error(valid)=2.18e+00, acc(valid)=4.10e-01\n"
     ]
    },
    {
     "data": {
      "application/vnd.jupyter.widget-view+json": {
       "model_id": "4139ed2bd6d041be8810a9ab81368779",
       "version_major": 2,
       "version_minor": 0
      },
      "text/plain": [
       "  0%|          | 0/1000 [00:00<?, ?it/s]"
      ]
     },
     "metadata": {},
     "output_type": "display_data"
    },
    {
     "name": "stderr",
     "output_type": "stream",
     "text": [
      "Epoch 53: 2.6s to complete\n",
      "    error(train)=2.18e+00, acc(train)=4.12e-01, error(valid)=2.18e+00, acc(valid)=4.07e-01\n"
     ]
    },
    {
     "data": {
      "application/vnd.jupyter.widget-view+json": {
       "model_id": "65af99790e37481aa173872cd83033e7",
       "version_major": 2,
       "version_minor": 0
      },
      "text/plain": [
       "  0%|          | 0/1000 [00:00<?, ?it/s]"
      ]
     },
     "metadata": {},
     "output_type": "display_data"
    },
    {
     "name": "stderr",
     "output_type": "stream",
     "text": [
      "Epoch 54: 2.6s to complete\n",
      "    error(train)=2.18e+00, acc(train)=4.18e-01, error(valid)=2.17e+00, acc(valid)=4.13e-01\n"
     ]
    },
    {
     "data": {
      "application/vnd.jupyter.widget-view+json": {
       "model_id": "3fe4788852384f86961896b501d07829",
       "version_major": 2,
       "version_minor": 0
      },
      "text/plain": [
       "  0%|          | 0/1000 [00:00<?, ?it/s]"
      ]
     },
     "metadata": {},
     "output_type": "display_data"
    },
    {
     "name": "stderr",
     "output_type": "stream",
     "text": [
      "Epoch 55: 2.5s to complete\n",
      "    error(train)=2.18e+00, acc(train)=4.12e-01, error(valid)=2.18e+00, acc(valid)=4.08e-01\n"
     ]
    },
    {
     "data": {
      "application/vnd.jupyter.widget-view+json": {
       "model_id": "292dd2641a79493ea3e48eb65fc5695a",
       "version_major": 2,
       "version_minor": 0
      },
      "text/plain": [
       "  0%|          | 0/1000 [00:00<?, ?it/s]"
      ]
     },
     "metadata": {},
     "output_type": "display_data"
    },
    {
     "name": "stderr",
     "output_type": "stream",
     "text": [
      "Epoch 56: 2.8s to complete\n",
      "    error(train)=2.18e+00, acc(train)=4.13e-01, error(valid)=2.17e+00, acc(valid)=4.10e-01\n"
     ]
    },
    {
     "data": {
      "application/vnd.jupyter.widget-view+json": {
       "model_id": "e1c8f87abb2f4f3b9ec223d63a5f0d5f",
       "version_major": 2,
       "version_minor": 0
      },
      "text/plain": [
       "  0%|          | 0/1000 [00:00<?, ?it/s]"
      ]
     },
     "metadata": {},
     "output_type": "display_data"
    },
    {
     "name": "stderr",
     "output_type": "stream",
     "text": [
      "Epoch 57: 2.9s to complete\n",
      "    error(train)=2.18e+00, acc(train)=4.18e-01, error(valid)=2.18e+00, acc(valid)=4.15e-01\n"
     ]
    },
    {
     "data": {
      "application/vnd.jupyter.widget-view+json": {
       "model_id": "6a3e3495ca5542a498957aa54415b587",
       "version_major": 2,
       "version_minor": 0
      },
      "text/plain": [
       "  0%|          | 0/1000 [00:00<?, ?it/s]"
      ]
     },
     "metadata": {},
     "output_type": "display_data"
    },
    {
     "name": "stderr",
     "output_type": "stream",
     "text": [
      "Epoch 58: 2.9s to complete\n",
      "    error(train)=2.18e+00, acc(train)=4.16e-01, error(valid)=2.18e+00, acc(valid)=4.15e-01\n"
     ]
    },
    {
     "data": {
      "application/vnd.jupyter.widget-view+json": {
       "model_id": "5cd85d64e14d4878a79476a584bb6b69",
       "version_major": 2,
       "version_minor": 0
      },
      "text/plain": [
       "  0%|          | 0/1000 [00:00<?, ?it/s]"
      ]
     },
     "metadata": {},
     "output_type": "display_data"
    },
    {
     "name": "stderr",
     "output_type": "stream",
     "text": [
      "Epoch 59: 2.9s to complete\n",
      "    error(train)=2.18e+00, acc(train)=4.15e-01, error(valid)=2.18e+00, acc(valid)=4.10e-01\n"
     ]
    },
    {
     "data": {
      "application/vnd.jupyter.widget-view+json": {
       "model_id": "c76ed5c7c6294267976fab5943119740",
       "version_major": 2,
       "version_minor": 0
      },
      "text/plain": [
       "  0%|          | 0/1000 [00:00<?, ?it/s]"
      ]
     },
     "metadata": {},
     "output_type": "display_data"
    },
    {
     "name": "stderr",
     "output_type": "stream",
     "text": [
      "Epoch 60: 3.0s to complete\n",
      "    error(train)=2.18e+00, acc(train)=4.16e-01, error(valid)=2.19e+00, acc(valid)=4.11e-01\n"
     ]
    },
    {
     "data": {
      "application/vnd.jupyter.widget-view+json": {
       "model_id": "f0521e3cf733432ea932a2eb80d36984",
       "version_major": 2,
       "version_minor": 0
      },
      "text/plain": [
       "  0%|          | 0/1000 [00:00<?, ?it/s]"
      ]
     },
     "metadata": {},
     "output_type": "display_data"
    },
    {
     "name": "stderr",
     "output_type": "stream",
     "text": [
      "Epoch 61: 2.9s to complete\n",
      "    error(train)=2.18e+00, acc(train)=4.09e-01, error(valid)=2.18e+00, acc(valid)=4.07e-01\n"
     ]
    },
    {
     "data": {
      "application/vnd.jupyter.widget-view+json": {
       "model_id": "2db6a364e2894142871a2c98a5dc0d52",
       "version_major": 2,
       "version_minor": 0
      },
      "text/plain": [
       "  0%|          | 0/1000 [00:00<?, ?it/s]"
      ]
     },
     "metadata": {},
     "output_type": "display_data"
    },
    {
     "name": "stderr",
     "output_type": "stream",
     "text": [
      "Epoch 62: 3.0s to complete\n",
      "    error(train)=2.18e+00, acc(train)=4.13e-01, error(valid)=2.18e+00, acc(valid)=4.08e-01\n"
     ]
    },
    {
     "data": {
      "application/vnd.jupyter.widget-view+json": {
       "model_id": "edaa3fbb3713400cac2a9e57eeaf4d0f",
       "version_major": 2,
       "version_minor": 0
      },
      "text/plain": [
       "  0%|          | 0/1000 [00:00<?, ?it/s]"
      ]
     },
     "metadata": {},
     "output_type": "display_data"
    },
    {
     "name": "stderr",
     "output_type": "stream",
     "text": [
      "Epoch 63: 2.6s to complete\n",
      "    error(train)=2.18e+00, acc(train)=4.13e-01, error(valid)=2.18e+00, acc(valid)=4.06e-01\n"
     ]
    },
    {
     "data": {
      "application/vnd.jupyter.widget-view+json": {
       "model_id": "a8d0f73c791044698430a6f04d2614f2",
       "version_major": 2,
       "version_minor": 0
      },
      "text/plain": [
       "  0%|          | 0/1000 [00:00<?, ?it/s]"
      ]
     },
     "metadata": {},
     "output_type": "display_data"
    },
    {
     "name": "stderr",
     "output_type": "stream",
     "text": [
      "Epoch 64: 2.8s to complete\n",
      "    error(train)=2.17e+00, acc(train)=4.16e-01, error(valid)=2.17e+00, acc(valid)=4.12e-01\n"
     ]
    },
    {
     "data": {
      "application/vnd.jupyter.widget-view+json": {
       "model_id": "927cf3bfb1f543288d4e7b9715f819b8",
       "version_major": 2,
       "version_minor": 0
      },
      "text/plain": [
       "  0%|          | 0/1000 [00:00<?, ?it/s]"
      ]
     },
     "metadata": {},
     "output_type": "display_data"
    },
    {
     "name": "stderr",
     "output_type": "stream",
     "text": [
      "Epoch 65: 2.5s to complete\n",
      "    error(train)=2.18e+00, acc(train)=4.11e-01, error(valid)=2.18e+00, acc(valid)=4.08e-01\n"
     ]
    },
    {
     "data": {
      "application/vnd.jupyter.widget-view+json": {
       "model_id": "1010360bd5614572a48ab79d286d3da9",
       "version_major": 2,
       "version_minor": 0
      },
      "text/plain": [
       "  0%|          | 0/1000 [00:00<?, ?it/s]"
      ]
     },
     "metadata": {},
     "output_type": "display_data"
    },
    {
     "name": "stderr",
     "output_type": "stream",
     "text": [
      "Epoch 66: 2.5s to complete\n",
      "    error(train)=2.17e+00, acc(train)=4.13e-01, error(valid)=2.17e+00, acc(valid)=4.09e-01\n"
     ]
    },
    {
     "data": {
      "application/vnd.jupyter.widget-view+json": {
       "model_id": "72d767c01e974587a55839cebd9f7739",
       "version_major": 2,
       "version_minor": 0
      },
      "text/plain": [
       "  0%|          | 0/1000 [00:00<?, ?it/s]"
      ]
     },
     "metadata": {},
     "output_type": "display_data"
    },
    {
     "name": "stderr",
     "output_type": "stream",
     "text": [
      "Epoch 67: 2.5s to complete\n",
      "    error(train)=2.17e+00, acc(train)=4.13e-01, error(valid)=2.17e+00, acc(valid)=4.10e-01\n"
     ]
    },
    {
     "data": {
      "application/vnd.jupyter.widget-view+json": {
       "model_id": "c5521646235b46baa5824f8b4b543992",
       "version_major": 2,
       "version_minor": 0
      },
      "text/plain": [
       "  0%|          | 0/1000 [00:00<?, ?it/s]"
      ]
     },
     "metadata": {},
     "output_type": "display_data"
    },
    {
     "name": "stderr",
     "output_type": "stream",
     "text": [
      "Epoch 68: 2.6s to complete\n",
      "    error(train)=2.17e+00, acc(train)=4.14e-01, error(valid)=2.17e+00, acc(valid)=4.09e-01\n"
     ]
    },
    {
     "data": {
      "application/vnd.jupyter.widget-view+json": {
       "model_id": "584d11d2ff084464ab0bebcf7873bd96",
       "version_major": 2,
       "version_minor": 0
      },
      "text/plain": [
       "  0%|          | 0/1000 [00:00<?, ?it/s]"
      ]
     },
     "metadata": {},
     "output_type": "display_data"
    },
    {
     "name": "stderr",
     "output_type": "stream",
     "text": [
      "Epoch 69: 2.8s to complete\n",
      "    error(train)=2.18e+00, acc(train)=4.13e-01, error(valid)=2.18e+00, acc(valid)=4.08e-01\n"
     ]
    },
    {
     "data": {
      "application/vnd.jupyter.widget-view+json": {
       "model_id": "868c35948d1742dc9df100176f57b1cb",
       "version_major": 2,
       "version_minor": 0
      },
      "text/plain": [
       "  0%|          | 0/1000 [00:00<?, ?it/s]"
      ]
     },
     "metadata": {},
     "output_type": "display_data"
    },
    {
     "name": "stderr",
     "output_type": "stream",
     "text": [
      "Epoch 70: 2.5s to complete\n",
      "    error(train)=2.18e+00, acc(train)=4.15e-01, error(valid)=2.18e+00, acc(valid)=4.09e-01\n"
     ]
    },
    {
     "data": {
      "application/vnd.jupyter.widget-view+json": {
       "model_id": "787a5713aa56429490f3d2f13190a40b",
       "version_major": 2,
       "version_minor": 0
      },
      "text/plain": [
       "  0%|          | 0/1000 [00:00<?, ?it/s]"
      ]
     },
     "metadata": {},
     "output_type": "display_data"
    },
    {
     "name": "stderr",
     "output_type": "stream",
     "text": [
      "Epoch 71: 2.6s to complete\n",
      "    error(train)=2.17e+00, acc(train)=4.14e-01, error(valid)=2.17e+00, acc(valid)=4.12e-01\n"
     ]
    },
    {
     "data": {
      "application/vnd.jupyter.widget-view+json": {
       "model_id": "0f071441613643648790cb8c845239e2",
       "version_major": 2,
       "version_minor": 0
      },
      "text/plain": [
       "  0%|          | 0/1000 [00:00<?, ?it/s]"
      ]
     },
     "metadata": {},
     "output_type": "display_data"
    },
    {
     "name": "stderr",
     "output_type": "stream",
     "text": [
      "Epoch 72: 2.6s to complete\n",
      "    error(train)=2.17e+00, acc(train)=4.15e-01, error(valid)=2.17e+00, acc(valid)=4.11e-01\n"
     ]
    },
    {
     "data": {
      "application/vnd.jupyter.widget-view+json": {
       "model_id": "93d187d4899d426da587133b3eabadbe",
       "version_major": 2,
       "version_minor": 0
      },
      "text/plain": [
       "  0%|          | 0/1000 [00:00<?, ?it/s]"
      ]
     },
     "metadata": {},
     "output_type": "display_data"
    },
    {
     "name": "stderr",
     "output_type": "stream",
     "text": [
      "Epoch 73: 2.8s to complete\n",
      "    error(train)=2.17e+00, acc(train)=4.16e-01, error(valid)=2.17e+00, acc(valid)=4.10e-01\n"
     ]
    },
    {
     "data": {
      "application/vnd.jupyter.widget-view+json": {
       "model_id": "76b3611c9aec4eb08844ff37836ca2a4",
       "version_major": 2,
       "version_minor": 0
      },
      "text/plain": [
       "  0%|          | 0/1000 [00:00<?, ?it/s]"
      ]
     },
     "metadata": {},
     "output_type": "display_data"
    },
    {
     "name": "stderr",
     "output_type": "stream",
     "text": [
      "Epoch 74: 2.7s to complete\n",
      "    error(train)=2.18e+00, acc(train)=4.14e-01, error(valid)=2.18e+00, acc(valid)=4.09e-01\n"
     ]
    },
    {
     "data": {
      "application/vnd.jupyter.widget-view+json": {
       "model_id": "f1db13f7834042978e912d6b016f800b",
       "version_major": 2,
       "version_minor": 0
      },
      "text/plain": [
       "  0%|          | 0/1000 [00:00<?, ?it/s]"
      ]
     },
     "metadata": {},
     "output_type": "display_data"
    },
    {
     "name": "stderr",
     "output_type": "stream",
     "text": [
      "Epoch 75: 2.7s to complete\n",
      "    error(train)=2.18e+00, acc(train)=4.17e-01, error(valid)=2.18e+00, acc(valid)=4.10e-01\n"
     ]
    },
    {
     "data": {
      "application/vnd.jupyter.widget-view+json": {
       "model_id": "68820723a45b4d69a8e502d63ef1a570",
       "version_major": 2,
       "version_minor": 0
      },
      "text/plain": [
       "  0%|          | 0/1000 [00:00<?, ?it/s]"
      ]
     },
     "metadata": {},
     "output_type": "display_data"
    },
    {
     "name": "stderr",
     "output_type": "stream",
     "text": [
      "Epoch 76: 2.7s to complete\n",
      "    error(train)=2.17e+00, acc(train)=4.14e-01, error(valid)=2.17e+00, acc(valid)=4.09e-01\n"
     ]
    },
    {
     "data": {
      "application/vnd.jupyter.widget-view+json": {
       "model_id": "2ac5406027a740ae9ef55d0aa7481b55",
       "version_major": 2,
       "version_minor": 0
      },
      "text/plain": [
       "  0%|          | 0/1000 [00:00<?, ?it/s]"
      ]
     },
     "metadata": {},
     "output_type": "display_data"
    },
    {
     "name": "stderr",
     "output_type": "stream",
     "text": [
      "Epoch 77: 2.4s to complete\n",
      "    error(train)=2.17e+00, acc(train)=4.16e-01, error(valid)=2.17e+00, acc(valid)=4.13e-01\n"
     ]
    },
    {
     "data": {
      "application/vnd.jupyter.widget-view+json": {
       "model_id": "8f8f9a7461bd46a78f0a213b56dfbed6",
       "version_major": 2,
       "version_minor": 0
      },
      "text/plain": [
       "  0%|          | 0/1000 [00:00<?, ?it/s]"
      ]
     },
     "metadata": {},
     "output_type": "display_data"
    },
    {
     "name": "stderr",
     "output_type": "stream",
     "text": [
      "Epoch 78: 2.5s to complete\n",
      "    error(train)=2.17e+00, acc(train)=4.15e-01, error(valid)=2.17e+00, acc(valid)=4.14e-01\n"
     ]
    },
    {
     "data": {
      "application/vnd.jupyter.widget-view+json": {
       "model_id": "587f150683f049f99e8a5d44b60ccd61",
       "version_major": 2,
       "version_minor": 0
      },
      "text/plain": [
       "  0%|          | 0/1000 [00:00<?, ?it/s]"
      ]
     },
     "metadata": {},
     "output_type": "display_data"
    },
    {
     "name": "stderr",
     "output_type": "stream",
     "text": [
      "Epoch 79: 2.6s to complete\n",
      "    error(train)=2.17e+00, acc(train)=4.16e-01, error(valid)=2.17e+00, acc(valid)=4.14e-01\n"
     ]
    },
    {
     "data": {
      "application/vnd.jupyter.widget-view+json": {
       "model_id": "60417cff9a6341759afa90fe188af81f",
       "version_major": 2,
       "version_minor": 0
      },
      "text/plain": [
       "  0%|          | 0/1000 [00:00<?, ?it/s]"
      ]
     },
     "metadata": {},
     "output_type": "display_data"
    },
    {
     "name": "stderr",
     "output_type": "stream",
     "text": [
      "Epoch 80: 2.5s to complete\n",
      "    error(train)=2.17e+00, acc(train)=4.18e-01, error(valid)=2.17e+00, acc(valid)=4.13e-01\n"
     ]
    },
    {
     "data": {
      "application/vnd.jupyter.widget-view+json": {
       "model_id": "9aa5d8d3ee2644cd858b2e4f3eb8e517",
       "version_major": 2,
       "version_minor": 0
      },
      "text/plain": [
       "  0%|          | 0/1000 [00:00<?, ?it/s]"
      ]
     },
     "metadata": {},
     "output_type": "display_data"
    },
    {
     "name": "stderr",
     "output_type": "stream",
     "text": [
      "Epoch 81: 2.6s to complete\n",
      "    error(train)=2.17e+00, acc(train)=4.11e-01, error(valid)=2.17e+00, acc(valid)=4.09e-01\n"
     ]
    },
    {
     "data": {
      "application/vnd.jupyter.widget-view+json": {
       "model_id": "ff6fe336a8bf43e59a3a4d8b10fa7e82",
       "version_major": 2,
       "version_minor": 0
      },
      "text/plain": [
       "  0%|          | 0/1000 [00:00<?, ?it/s]"
      ]
     },
     "metadata": {},
     "output_type": "display_data"
    },
    {
     "name": "stderr",
     "output_type": "stream",
     "text": [
      "Epoch 82: 2.5s to complete\n",
      "    error(train)=2.18e+00, acc(train)=4.06e-01, error(valid)=2.18e+00, acc(valid)=4.02e-01\n"
     ]
    },
    {
     "data": {
      "application/vnd.jupyter.widget-view+json": {
       "model_id": "646a26ae870944a8b444b050fbd7d31d",
       "version_major": 2,
       "version_minor": 0
      },
      "text/plain": [
       "  0%|          | 0/1000 [00:00<?, ?it/s]"
      ]
     },
     "metadata": {},
     "output_type": "display_data"
    },
    {
     "name": "stderr",
     "output_type": "stream",
     "text": [
      "Epoch 83: 2.5s to complete\n",
      "    error(train)=2.17e+00, acc(train)=4.13e-01, error(valid)=2.17e+00, acc(valid)=4.13e-01\n"
     ]
    },
    {
     "data": {
      "application/vnd.jupyter.widget-view+json": {
       "model_id": "b4e02c4ba1f443aa8c0a874255b4ae37",
       "version_major": 2,
       "version_minor": 0
      },
      "text/plain": [
       "  0%|          | 0/1000 [00:00<?, ?it/s]"
      ]
     },
     "metadata": {},
     "output_type": "display_data"
    },
    {
     "name": "stderr",
     "output_type": "stream",
     "text": [
      "Epoch 84: 2.6s to complete\n",
      "    error(train)=2.17e+00, acc(train)=4.17e-01, error(valid)=2.17e+00, acc(valid)=4.17e-01\n"
     ]
    },
    {
     "data": {
      "application/vnd.jupyter.widget-view+json": {
       "model_id": "9ac1207388c746d9b7d5bb442b091731",
       "version_major": 2,
       "version_minor": 0
      },
      "text/plain": [
       "  0%|          | 0/1000 [00:00<?, ?it/s]"
      ]
     },
     "metadata": {},
     "output_type": "display_data"
    },
    {
     "name": "stderr",
     "output_type": "stream",
     "text": [
      "Epoch 85: 2.5s to complete\n",
      "    error(train)=2.17e+00, acc(train)=4.13e-01, error(valid)=2.17e+00, acc(valid)=4.11e-01\n"
     ]
    },
    {
     "data": {
      "application/vnd.jupyter.widget-view+json": {
       "model_id": "249f1d65842643a58fa0fa98ac080a5c",
       "version_major": 2,
       "version_minor": 0
      },
      "text/plain": [
       "  0%|          | 0/1000 [00:00<?, ?it/s]"
      ]
     },
     "metadata": {},
     "output_type": "display_data"
    },
    {
     "name": "stderr",
     "output_type": "stream",
     "text": [
      "Epoch 86: 2.5s to complete\n",
      "    error(train)=2.17e+00, acc(train)=4.15e-01, error(valid)=2.17e+00, acc(valid)=4.12e-01\n"
     ]
    },
    {
     "data": {
      "application/vnd.jupyter.widget-view+json": {
       "model_id": "ef883471764f4bda87b39eb8bb8aa815",
       "version_major": 2,
       "version_minor": 0
      },
      "text/plain": [
       "  0%|          | 0/1000 [00:00<?, ?it/s]"
      ]
     },
     "metadata": {},
     "output_type": "display_data"
    },
    {
     "name": "stderr",
     "output_type": "stream",
     "text": [
      "Epoch 87: 2.6s to complete\n",
      "    error(train)=2.17e+00, acc(train)=4.11e-01, error(valid)=2.17e+00, acc(valid)=4.08e-01\n"
     ]
    },
    {
     "data": {
      "application/vnd.jupyter.widget-view+json": {
       "model_id": "efb1f9f6857245669965e6fc448c94e3",
       "version_major": 2,
       "version_minor": 0
      },
      "text/plain": [
       "  0%|          | 0/1000 [00:00<?, ?it/s]"
      ]
     },
     "metadata": {},
     "output_type": "display_data"
    },
    {
     "name": "stderr",
     "output_type": "stream",
     "text": [
      "Epoch 88: 2.7s to complete\n",
      "    error(train)=2.17e+00, acc(train)=4.14e-01, error(valid)=2.17e+00, acc(valid)=4.10e-01\n"
     ]
    },
    {
     "data": {
      "application/vnd.jupyter.widget-view+json": {
       "model_id": "0f8d8ef5265c4400ad19ec4a531bbfba",
       "version_major": 2,
       "version_minor": 0
      },
      "text/plain": [
       "  0%|          | 0/1000 [00:00<?, ?it/s]"
      ]
     },
     "metadata": {},
     "output_type": "display_data"
    },
    {
     "name": "stderr",
     "output_type": "stream",
     "text": [
      "Epoch 89: 2.5s to complete\n",
      "    error(train)=2.17e+00, acc(train)=4.16e-01, error(valid)=2.17e+00, acc(valid)=4.15e-01\n"
     ]
    },
    {
     "data": {
      "application/vnd.jupyter.widget-view+json": {
       "model_id": "87214e04d40142db8bfdaa9a33d6a530",
       "version_major": 2,
       "version_minor": 0
      },
      "text/plain": [
       "  0%|          | 0/1000 [00:00<?, ?it/s]"
      ]
     },
     "metadata": {},
     "output_type": "display_data"
    },
    {
     "name": "stderr",
     "output_type": "stream",
     "text": [
      "Epoch 90: 2.6s to complete\n",
      "    error(train)=2.17e+00, acc(train)=4.15e-01, error(valid)=2.17e+00, acc(valid)=4.12e-01\n"
     ]
    },
    {
     "data": {
      "application/vnd.jupyter.widget-view+json": {
       "model_id": "e04882840f8540fe9e535348573b0a67",
       "version_major": 2,
       "version_minor": 0
      },
      "text/plain": [
       "  0%|          | 0/1000 [00:00<?, ?it/s]"
      ]
     },
     "metadata": {},
     "output_type": "display_data"
    },
    {
     "name": "stderr",
     "output_type": "stream",
     "text": [
      "Epoch 91: 2.6s to complete\n",
      "    error(train)=2.17e+00, acc(train)=4.11e-01, error(valid)=2.17e+00, acc(valid)=4.08e-01\n"
     ]
    },
    {
     "data": {
      "application/vnd.jupyter.widget-view+json": {
       "model_id": "3f4b6991dfcc491aa0cc8fbb1558c1a9",
       "version_major": 2,
       "version_minor": 0
      },
      "text/plain": [
       "  0%|          | 0/1000 [00:00<?, ?it/s]"
      ]
     },
     "metadata": {},
     "output_type": "display_data"
    },
    {
     "name": "stderr",
     "output_type": "stream",
     "text": [
      "Epoch 92: 2.5s to complete\n",
      "    error(train)=2.17e+00, acc(train)=4.16e-01, error(valid)=2.17e+00, acc(valid)=4.14e-01\n"
     ]
    },
    {
     "data": {
      "application/vnd.jupyter.widget-view+json": {
       "model_id": "658e82d1b40442508e21537d18cad029",
       "version_major": 2,
       "version_minor": 0
      },
      "text/plain": [
       "  0%|          | 0/1000 [00:00<?, ?it/s]"
      ]
     },
     "metadata": {},
     "output_type": "display_data"
    },
    {
     "name": "stderr",
     "output_type": "stream",
     "text": [
      "Epoch 93: 3.4s to complete\n",
      "    error(train)=2.17e+00, acc(train)=4.17e-01, error(valid)=2.17e+00, acc(valid)=4.13e-01\n"
     ]
    },
    {
     "data": {
      "application/vnd.jupyter.widget-view+json": {
       "model_id": "43905892e5b64980b69dd2da02ebb1cf",
       "version_major": 2,
       "version_minor": 0
      },
      "text/plain": [
       "  0%|          | 0/1000 [00:00<?, ?it/s]"
      ]
     },
     "metadata": {},
     "output_type": "display_data"
    },
    {
     "name": "stderr",
     "output_type": "stream",
     "text": [
      "Epoch 94: 3.4s to complete\n",
      "    error(train)=2.17e+00, acc(train)=4.14e-01, error(valid)=2.17e+00, acc(valid)=4.09e-01\n"
     ]
    },
    {
     "data": {
      "application/vnd.jupyter.widget-view+json": {
       "model_id": "25ca633f2feb4dc19d3de5dca41b015d",
       "version_major": 2,
       "version_minor": 0
      },
      "text/plain": [
       "  0%|          | 0/1000 [00:00<?, ?it/s]"
      ]
     },
     "metadata": {},
     "output_type": "display_data"
    },
    {
     "name": "stderr",
     "output_type": "stream",
     "text": [
      "Epoch 95: 3.4s to complete\n",
      "    error(train)=2.17e+00, acc(train)=4.14e-01, error(valid)=2.17e+00, acc(valid)=4.09e-01\n"
     ]
    },
    {
     "data": {
      "application/vnd.jupyter.widget-view+json": {
       "model_id": "82a62e653d27449dafe58899dbb377c9",
       "version_major": 2,
       "version_minor": 0
      },
      "text/plain": [
       "  0%|          | 0/1000 [00:00<?, ?it/s]"
      ]
     },
     "metadata": {},
     "output_type": "display_data"
    },
    {
     "name": "stderr",
     "output_type": "stream",
     "text": [
      "Epoch 96: 3.3s to complete\n",
      "    error(train)=2.17e+00, acc(train)=4.16e-01, error(valid)=2.17e+00, acc(valid)=4.13e-01\n"
     ]
    },
    {
     "data": {
      "application/vnd.jupyter.widget-view+json": {
       "model_id": "6ee02aba7cd648d2b53004aa672b3501",
       "version_major": 2,
       "version_minor": 0
      },
      "text/plain": [
       "  0%|          | 0/1000 [00:00<?, ?it/s]"
      ]
     },
     "metadata": {},
     "output_type": "display_data"
    },
    {
     "name": "stderr",
     "output_type": "stream",
     "text": [
      "Epoch 97: 3.2s to complete\n",
      "    error(train)=2.17e+00, acc(train)=4.16e-01, error(valid)=2.17e+00, acc(valid)=4.12e-01\n"
     ]
    },
    {
     "data": {
      "application/vnd.jupyter.widget-view+json": {
       "model_id": "e8f8201ada00467ea706e9c5576e9751",
       "version_major": 2,
       "version_minor": 0
      },
      "text/plain": [
       "  0%|          | 0/1000 [00:00<?, ?it/s]"
      ]
     },
     "metadata": {},
     "output_type": "display_data"
    },
    {
     "name": "stderr",
     "output_type": "stream",
     "text": [
      "Epoch 98: 3.4s to complete\n",
      "    error(train)=2.17e+00, acc(train)=4.14e-01, error(valid)=2.17e+00, acc(valid)=4.10e-01\n"
     ]
    },
    {
     "data": {
      "application/vnd.jupyter.widget-view+json": {
       "model_id": "9bda21df2b9645e6997f580a8da4db17",
       "version_major": 2,
       "version_minor": 0
      },
      "text/plain": [
       "  0%|          | 0/1000 [00:00<?, ?it/s]"
      ]
     },
     "metadata": {},
     "output_type": "display_data"
    },
    {
     "name": "stderr",
     "output_type": "stream",
     "text": [
      "Epoch 99: 3.2s to complete\n",
      "    error(train)=2.16e+00, acc(train)=4.19e-01, error(valid)=2.16e+00, acc(valid)=4.15e-01\n"
     ]
    },
    {
     "data": {
      "application/vnd.jupyter.widget-view+json": {
       "model_id": "e1bbf2b8c6b24de287489e0ca4afe0eb",
       "version_major": 2,
       "version_minor": 0
      },
      "text/plain": [
       "  0%|          | 0/1000 [00:00<?, ?it/s]"
      ]
     },
     "metadata": {},
     "output_type": "display_data"
    },
    {
     "name": "stderr",
     "output_type": "stream",
     "text": [
      "Epoch 100: 3.4s to complete\n",
      "    error(train)=2.17e+00, acc(train)=4.15e-01, error(valid)=2.17e+00, acc(valid)=4.10e-01\n"
     ]
    }
   ],
   "source": [
    "from mlp.penalties import L1Penalty,L2Penalty\n",
    "def penalty_train_new():\n",
    "    penalties = [5e-4,1e-3,5e-3,5e-2]\n",
    "    num_epochs = 100\n",
    "    stats_interval = 1\n",
    "    input_dim, output_dim,hidden_dim = 784, 47, 128\n",
    "    models = []\n",
    "    weights_init = GlorotUniformInit(rng=rng)\n",
    "    biases_init = ConstantInit(0.)\n",
    "    error = CrossEntropySoftmaxError()\n",
    "    learning_rule = AdamLearningRule(learning_rate=0.0001)\n",
    "    for penalty in penalties:\n",
    "        model = MultipleLayerModel([\n",
    "        #DropoutLayer(rng,incl_prob=prob,share_across_batch=False),    \n",
    "        AffineLayer(input_dim, hidden_dim, weights_init, biases_init, weights_penalty = L1Penalty(penalty)), \n",
    "        ReluLayer(),\n",
    "        #DropoutLayer(rng,incl_prob=prob,share_across_batch=False),    \n",
    "        AffineLayer(hidden_dim, hidden_dim, weights_init, biases_init, weights_penalty=L1Penalty(penalty)), \n",
    "        ReluLayer(),\n",
    "        #DropoutLayer(rng,incl_prob=prob,share_across_batch=False),\n",
    "        AffineLayer(hidden_dim, hidden_dim, weights_init, biases_init, weights_penalty=L1Penalty(penalty)), \n",
    "        ReluLayer(),\n",
    "        #DropoutLayer(rng,incl_prob=prob,share_across_batch=False),    \n",
    "        AffineLayer(hidden_dim, output_dim, weights_init, biases_init, weights_penalty=L1Penalty(penalty))])\n",
    "        \n",
    "        stats, keys, run_time, fig_1, ax_1, fig_2, ax_2 = train_model_and_plot_stats(model, error, learning_rule, train_data, \n",
    "                                 valid_data, num_epochs, stats_interval, notebook=True)\n",
    "        \n",
    "        models.append((stats,keys,'L1',penalty))\n",
    "        \n",
    "    for penalty in penalties:\n",
    "        model = MultipleLayerModel([\n",
    "        #DropoutLayer(rng,incl_prob=prob,share_across_batch=False),    \n",
    "        AffineLayer(input_dim, hidden_dim, weights_init, biases_init, weights_penalty = L2Penalty(penalty)), \n",
    "        ReluLayer(),\n",
    "        #DropoutLayer(rng,incl_prob=prob,share_across_batch=False),    \n",
    "        AffineLayer(hidden_dim, hidden_dim, weights_init, biases_init, weights_penalty=L2Penalty(penalty)), \n",
    "        ReluLayer(),\n",
    "        #DropoutLayer(rng,incl_prob=prob,share_across_batch=False),\n",
    "        AffineLayer(hidden_dim, hidden_dim, weights_init, biases_init, weights_penalty=L2Penalty(penalty)), \n",
    "        ReluLayer(),\n",
    "        #DropoutLayer(rng,incl_prob=prob,share_across_batch=False),    \n",
    "        AffineLayer(hidden_dim, output_dim, weights_init, biases_init, weights_penalty=L2Penalty(penalty))])\n",
    "        \n",
    "        stats_2, keys_2, run_time_2, fig2_1, ax2_1, fig2_2, ax2_2 = train_model_and_plot_stats(model, error, learning_rule, train_data, \n",
    "                                 valid_data, num_epochs, stats_interval, notebook=True)\n",
    "        \n",
    "        models.append((stats_2,keys_2,'L2',penalty))\n",
    "    \n",
    "        \n",
    "    #fig_1,_,_ = plot_with_generalization_gap(models)\n",
    "    #fig_1.savefig('penalty.svg',format='svg')\n",
    "    return models\n",
    "\n",
    "models_penalties_new = penalty_train_new()"
   ]
  },
  {
   "cell_type": "code",
   "execution_count": null,
   "metadata": {},
   "outputs": [],
   "source": [
    "from mlp.layers import DropoutLayer\n",
    "def vary_dropout_new():\n",
    "    incl_probs = [0.97,0.85,0.7,0.6]\n",
    "    num_epochs = 100\n",
    "    stats_interval = 1\n",
    "    input_dim, output_dim,hidden_dim = 784, 47, 128\n",
    "    models = []\n",
    "    weights_init = GlorotUniformInit(rng=rng)\n",
    "    biases_init = ConstantInit(0.)\n",
    "    error = CrossEntropySoftmaxError()\n",
    "    learning_rule = AdamLearningRule(learning_rate=0.0001)\n",
    "    for prob in incl_probs:\n",
    "        model = MultipleLayerModel([\n",
    "        DropoutLayer(rng,incl_prob=prob,share_across_batch=False),    \n",
    "        AffineLayer(input_dim, hidden_dim, weights_init, biases_init), \n",
    "        ReluLayer(),\n",
    "\n",
    "        DropoutLayer(rng,incl_prob=prob,share_across_batch=False),    \n",
    "        AffineLayer(hidden_dim, hidden_dim, weights_init, biases_init), \n",
    "        ReluLayer(),\n",
    "\n",
    "        DropoutLayer(rng,incl_prob=prob,share_across_batch=False),\n",
    "        AffineLayer(hidden_dim, hidden_dim, weights_init, biases_init), \n",
    "        ReluLayer(),\n",
    "        \n",
    "        DropoutLayer(rng,incl_prob=prob,share_across_batch=False),    \n",
    "        AffineLayer(hidden_dim, output_dim, weights_init, biases_init)])\n",
    "        \n",
    "        stats, keys, run_time, fig_1, ax_1, fig_2, ax_2 = train_model_and_plot_stats(model, error, learning_rule, train_data, \n",
    "                                 valid_data, num_epochs, stats_interval, notebook=True)\n",
    "        \n",
    "        models.append((stats,keys))\n",
    "        \n",
    "    \n",
    "    return models\n",
    "    \n",
    "model_dropouts_new = vary_dropout_new() "
   ]
  },
  {
   "cell_type": "code",
   "execution_count": 6,
   "metadata": {},
   "outputs": [],
   "source": [
    "def plot_with_generalization_gap(models,notebook=True):\n",
    "    #Value to be varried could be width,depth,L1/L2\n",
    "    fig = plt.figure(figsize=(8, 4))\n",
    "    ax_1 = fig.add_subplot(111, xscale='log')\n",
    "    penalties = [5e-4,1e-3,5e-3,5e-2]\n",
    "    valid_acc_l1 = []\n",
    "    valid_acc_l2 = []\n",
    "    gen_gap_l1 = []\n",
    "    gen_gap_l2 = []\n",
    "    for stats,keys,penalty_name,penalty_val in models: #penalty is either L1 or L2\n",
    "        if penalty_name == \"L1\":\n",
    "            valid_acc_l1.append(stats[1:,keys[\"acc(valid)\"]][-1])\n",
    "        elif penalty_name == \"L2\":\n",
    "            valid_acc_l2.append(stats[1:,keys[\"acc(valid)\"]][-1])\n",
    "        \n",
    "    lns1 = ax_1.plot(penalties,valid_acc_l1,label='L1 Val Acc')\n",
    "    lns2 = ax_1.plot(penalties,valid_acc_l2,label='L2 Val Acc')\n",
    "            \n",
    "    ax_2 = ax_1.twinx()\n",
    "    \n",
    "    \n",
    "    for stats,keys,penalty_name,penalty_val in models: #penalty is either L1 or L2\n",
    "        if penalty_name==\"L1\":\n",
    "            gen_gap_l1.append(abs(stats[1:,keys['error(valid)']][-1] - stats[1:,keys['error(train)']][-1]))\n",
    "        elif penalty_name==\"L2\":\n",
    "            gen_gap_l2.append(abs(stats[1:,keys['error(valid)']][-1] - stats[1:,keys['error(train)']][-1]))\n",
    "        \n",
    "    lns3 = ax_2.plot(penalties,gen_gap_l1,'--',label='L1 Gap')\n",
    "    lns4 = ax_2.plot(penalties,gen_gap_l2,'--',label='L2 Gap')\n",
    "    lns = lns1 + lns2 + lns3 + lns4\n",
    "    labels = [l.get_label() for l in lns]\n",
    "    ax_1.legend(lns,labels,loc=0)\n",
    "    ax_1.set_xlabel('Weight decay value')\n",
    "    ax_1.set_ylabel('Accuracy')\n",
    "    ax_2.set_xlabel('Weight decay value')\n",
    "    ax_2.set_ylabel(\"Generalization gap\")\n",
    "    ax_2.set_ylim(0.0,1.0)\n",
    "    ax_1.set_ylim(0.0,1.0)\n",
    "    #ax_1.set_xlim(0,1e-1)\n",
    "    ax_1.set_xticks(penalties)\n",
    "    #ax_1.set_xticklabels([0,'$10^{-5}$','$10^{-4}$','$10^{-3}$','$10^{-2}$','$10^{-1}$'])\n",
    "    #ax_1.xaxis.set_minor_locator(plt.MultipleLocator(1e-5))\n",
    "    \n",
    "    return fig,ax_1,ax_2    "
   ]
  },
  {
   "cell_type": "code",
   "execution_count": 18,
   "metadata": {},
   "outputs": [],
   "source": [
    "def plot_dropout(models,notebook=True):\n",
    "    #Value to be varried could be width,depth,L1/L2\n",
    "    fig = plt.figure(figsize=(8, 4))\n",
    "    ax_1 = fig.add_subplot(111)\n",
    "    \n",
    "    dropouts_val = [0.97,0.85,0.7,0.6]\n",
    "    dropout_val_accs = []\n",
    "    dropout_val_gaps = []\n",
    "    \n",
    "    \n",
    "    #for k in ['error(train)','error(valid)']:\n",
    "    for stats,keys in models: #penalty is either L1 or L2\n",
    "        dropout_val_accs.append(stats[1:,keys['acc(valid)']][-1])\n",
    "        #generalization_gap = abs(stats[1:,keys['error(valid)']] - stats[1:,keys['error(train)']]) \n",
    "        \n",
    "    lns1 = ax_1.plot(dropouts_val,dropout_val_accs,label='Val Acc')\n",
    "            \n",
    "    ax_2 = ax_1.twinx()\n",
    "    \n",
    "    #for k in ['acc(train)','acc(valid)']:\n",
    "    for stats,keys in models: #penalty is either L1 or L2\n",
    "        gap = abs(stats[1:,keys['error(valid)']][-1] - stats[1:,keys['error(train)']][-1])\n",
    "        dropout_val_gaps.append(gap)\n",
    "        \n",
    "    \n",
    "    lns2 = ax_2.plot(dropouts_val,dropout_val_gaps,'-b',label='Gap')\n",
    "    lns = lns1 + lns2\n",
    "    labels = [l.get_label() for l in lns]\n",
    "    \n",
    "            \n",
    "    ax_1.legend(lns,labels,loc=0)\n",
    "    ax_1.set_xlabel('Dropout value')\n",
    "    ax_1.set_ylabel('Accuracy')\n",
    "    ax_2.set_xlabel('Dropout value')\n",
    "    ax_2.set_ylabel(\"Generalization gap\")\n",
    "    ax_2.set_ylim(0.0,1.0)\n",
    "    ax_1.set_ylim(0.0,1.0)\n",
    "    #ax_1.set_xlim(1e-5,1e-1)\n",
    "    ax_1.set_xticks(dropouts_val)\n",
    "    ax_1.set_xticklabels(dropouts_val,fontsize=11)\n",
    "    \n",
    "    return fig,ax_1,ax_2  "
   ]
  },
  {
   "cell_type": "code",
   "execution_count": 21,
   "metadata": {},
   "outputs": [],
   "source": [
    "fig,_,_ = plot_dropout(model_dropouts_new)\n",
    "fig.savefig('dropout.png',format='png')"
   ]
  },
  {
   "cell_type": "code",
   "execution_count": 29,
   "metadata": {},
   "outputs": [],
   "source": [
    "fig,_,_ = plot_with_generalization_gap(models_penalties_new)\n",
    "fig.savefig('penalties-no-bias.png',format='png')"
   ]
  }
 ],
 "metadata": {
  "kernelspec": {
   "display_name": "mlp",
   "language": "python",
   "name": "python3"
  },
  "language_info": {
   "codemirror_mode": {
    "name": "ipython",
    "version": 3
   },
   "file_extension": ".py",
   "mimetype": "text/x-python",
   "name": "python",
   "nbconvert_exporter": "python",
   "pygments_lexer": "ipython3",
   "version": "3.12.5"
  }
 },
 "nbformat": 4,
 "nbformat_minor": 4
}
